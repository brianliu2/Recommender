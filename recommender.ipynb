{
 "cells": [
  {
   "cell_type": "code",
   "execution_count": 1,
   "metadata": {
    "collapsed": true
   },
   "outputs": [],
   "source": [
    "import pandas as pd\n",
    "import numpy as np\n",
    "import matplotlib.pyplot as plt\n",
    "%matplotlib inline\n",
    "\n",
    "import seaborn as sns\n",
    "pd.options.display.max_columns = 50\n",
    "pd.options.display.max_colwidth = 500\n",
    "sns.set_style('whitegrid')\n"
   ]
  },
  {
   "cell_type": "code",
   "execution_count": 2,
   "metadata": {
    "collapsed": true
   },
   "outputs": [],
   "source": [
    "dataPath = ('../Recommender_data//')\n",
    "dataFile = 'restaurant_rating.csv'"
   ]
  },
  {
   "cell_type": "code",
   "execution_count": 3,
   "metadata": {
    "collapsed": true
   },
   "outputs": [],
   "source": [
    "train_OG = pd.read_csv(dataPath + dataFile)"
   ]
  },
  {
   "cell_type": "code",
   "execution_count": 4,
   "metadata": {
    "collapsed": true
   },
   "outputs": [],
   "source": [
    "train = train_OG.copy()"
   ]
  },
  {
   "cell_type": "code",
   "execution_count": 5,
   "metadata": {
    "collapsed": false
   },
   "outputs": [
    {
     "name": "stdout",
     "output_type": "stream",
     "text": [
      "(149319, 15)\n"
     ]
    },
    {
     "data": {
      "text/html": [
       "<div>\n",
       "<table border=\"1\" class=\"dataframe\">\n",
       "  <thead>\n",
       "    <tr style=\"text-align: right;\">\n",
       "      <th></th>\n",
       "      <th>user_id</th>\n",
       "      <th>business_id</th>\n",
       "      <th>date</th>\n",
       "      <th>review_id</th>\n",
       "      <th>stars</th>\n",
       "      <th>usefulvotes_review</th>\n",
       "      <th>user_name</th>\n",
       "      <th>categories</th>\n",
       "      <th>biz_name</th>\n",
       "      <th>latitude</th>\n",
       "      <th>longitude</th>\n",
       "      <th>business_avg</th>\n",
       "      <th>business_review_count</th>\n",
       "      <th>user_avg</th>\n",
       "      <th>user_review_count</th>\n",
       "    </tr>\n",
       "  </thead>\n",
       "  <tbody>\n",
       "    <tr>\n",
       "      <th>0</th>\n",
       "      <td>rLtl8ZkDX5vH5nAx9C3q5Q</td>\n",
       "      <td>9yKzy9PApeiPPOUJEtnvkg</td>\n",
       "      <td>2011-01-26 00:00:00</td>\n",
       "      <td>fWKvX83p0-ka4JS3dc6E5A</td>\n",
       "      <td>5</td>\n",
       "      <td>5</td>\n",
       "      <td>Jason</td>\n",
       "      <td>[Breakfast &amp; Brunch, Restaurants]</td>\n",
       "      <td>Morning Glory Cafe</td>\n",
       "      <td>33.390792</td>\n",
       "      <td>-112.012504</td>\n",
       "      <td>3.87156</td>\n",
       "      <td>109</td>\n",
       "      <td>3.796954</td>\n",
       "      <td>197</td>\n",
       "    </tr>\n",
       "    <tr>\n",
       "      <th>1</th>\n",
       "      <td>SBbftLzfYYKItOMFwOTIJg</td>\n",
       "      <td>9yKzy9PApeiPPOUJEtnvkg</td>\n",
       "      <td>2008-05-04 00:00:00</td>\n",
       "      <td>DASdFe-g0BgfN9J2tanStg</td>\n",
       "      <td>5</td>\n",
       "      <td>1</td>\n",
       "      <td>Jennifer</td>\n",
       "      <td>[Breakfast &amp; Brunch, Restaurants]</td>\n",
       "      <td>Morning Glory Cafe</td>\n",
       "      <td>33.390792</td>\n",
       "      <td>-112.012504</td>\n",
       "      <td>3.87156</td>\n",
       "      <td>109</td>\n",
       "      <td>3.473684</td>\n",
       "      <td>57</td>\n",
       "    </tr>\n",
       "    <tr>\n",
       "      <th>2</th>\n",
       "      <td>mlBC3pN9GXlUUfQi1qBBZA</td>\n",
       "      <td>9yKzy9PApeiPPOUJEtnvkg</td>\n",
       "      <td>2010-07-05 00:00:00</td>\n",
       "      <td>W8CX2h_hmODWmgSJVbMifw</td>\n",
       "      <td>2</td>\n",
       "      <td>1</td>\n",
       "      <td>Jennifer</td>\n",
       "      <td>[Breakfast &amp; Brunch, Restaurants]</td>\n",
       "      <td>Morning Glory Cafe</td>\n",
       "      <td>33.390792</td>\n",
       "      <td>-112.012504</td>\n",
       "      <td>3.87156</td>\n",
       "      <td>109</td>\n",
       "      <td>3.702381</td>\n",
       "      <td>84</td>\n",
       "    </tr>\n",
       "  </tbody>\n",
       "</table>\n",
       "</div>"
      ],
      "text/plain": [
       "                  user_id             business_id                 date  \\\n",
       "0  rLtl8ZkDX5vH5nAx9C3q5Q  9yKzy9PApeiPPOUJEtnvkg  2011-01-26 00:00:00   \n",
       "1  SBbftLzfYYKItOMFwOTIJg  9yKzy9PApeiPPOUJEtnvkg  2008-05-04 00:00:00   \n",
       "2  mlBC3pN9GXlUUfQi1qBBZA  9yKzy9PApeiPPOUJEtnvkg  2010-07-05 00:00:00   \n",
       "\n",
       "                review_id  stars  usefulvotes_review user_name  \\\n",
       "0  fWKvX83p0-ka4JS3dc6E5A      5                   5     Jason   \n",
       "1  DASdFe-g0BgfN9J2tanStg      5                   1  Jennifer   \n",
       "2  W8CX2h_hmODWmgSJVbMifw      2                   1  Jennifer   \n",
       "\n",
       "                          categories            biz_name   latitude  \\\n",
       "0  [Breakfast & Brunch, Restaurants]  Morning Glory Cafe  33.390792   \n",
       "1  [Breakfast & Brunch, Restaurants]  Morning Glory Cafe  33.390792   \n",
       "2  [Breakfast & Brunch, Restaurants]  Morning Glory Cafe  33.390792   \n",
       "\n",
       "    longitude  business_avg  business_review_count  user_avg  \\\n",
       "0 -112.012504       3.87156                    109  3.796954   \n",
       "1 -112.012504       3.87156                    109  3.473684   \n",
       "2 -112.012504       3.87156                    109  3.702381   \n",
       "\n",
       "   user_review_count  \n",
       "0                197  \n",
       "1                 57  \n",
       "2                 84  "
      ]
     },
     "execution_count": 5,
     "metadata": {},
     "output_type": "execute_result"
    }
   ],
   "source": [
    "print(train.shape)\n",
    "train.head(3)"
   ]
  },
  {
   "cell_type": "code",
   "execution_count": 6,
   "metadata": {
    "collapsed": false
   },
   "outputs": [
    {
     "name": "stdout",
     "output_type": "stream",
     "text": [
      "<class 'pandas.core.frame.DataFrame'>\n",
      "RangeIndex: 149319 entries, 0 to 149318\n",
      "Data columns (total 15 columns):\n",
      "user_id                  149319 non-null object\n",
      "business_id              149319 non-null object\n",
      "date                     149319 non-null object\n",
      "review_id                149319 non-null object\n",
      "stars                    149319 non-null int64\n",
      "usefulvotes_review       149319 non-null int64\n",
      "user_name                149319 non-null object\n",
      "categories               149319 non-null object\n",
      "biz_name                 149319 non-null object\n",
      "latitude                 149319 non-null float64\n",
      "longitude                149319 non-null float64\n",
      "business_avg             149319 non-null float64\n",
      "business_review_count    149319 non-null int64\n",
      "user_avg                 149319 non-null float64\n",
      "user_review_count        149319 non-null int64\n",
      "dtypes: float64(4), int64(4), object(7)\n",
      "memory usage: 17.1+ MB\n"
     ]
    }
   ],
   "source": [
    "train.info()"
   ]
  },
  {
   "cell_type": "code",
   "execution_count": 7,
   "metadata": {
    "collapsed": false
   },
   "outputs": [
    {
     "data": {
      "text/html": [
       "<div>\n",
       "<table border=\"1\" class=\"dataframe\">\n",
       "  <thead>\n",
       "    <tr style=\"text-align: right;\">\n",
       "      <th></th>\n",
       "      <th>stars</th>\n",
       "      <th>usefulvotes_review</th>\n",
       "      <th>latitude</th>\n",
       "      <th>longitude</th>\n",
       "      <th>business_avg</th>\n",
       "      <th>business_review_count</th>\n",
       "      <th>user_avg</th>\n",
       "      <th>user_review_count</th>\n",
       "    </tr>\n",
       "  </thead>\n",
       "  <tbody>\n",
       "    <tr>\n",
       "      <th>count</th>\n",
       "      <td>149319.000000</td>\n",
       "      <td>149319.000000</td>\n",
       "      <td>149319.000000</td>\n",
       "      <td>149319.000000</td>\n",
       "      <td>149319.000000</td>\n",
       "      <td>149319.000000</td>\n",
       "      <td>149319.000000</td>\n",
       "      <td>149319.000000</td>\n",
       "    </tr>\n",
       "    <tr>\n",
       "      <th>mean</th>\n",
       "      <td>3.741413</td>\n",
       "      <td>1.349741</td>\n",
       "      <td>33.484835</td>\n",
       "      <td>-111.984559</td>\n",
       "      <td>3.741413</td>\n",
       "      <td>129.234987</td>\n",
       "      <td>3.741413</td>\n",
       "      <td>31.852082</td>\n",
       "    </tr>\n",
       "    <tr>\n",
       "      <th>std</th>\n",
       "      <td>1.185309</td>\n",
       "      <td>2.154615</td>\n",
       "      <td>0.109204</td>\n",
       "      <td>0.121524</td>\n",
       "      <td>0.486074</td>\n",
       "      <td>136.521707</td>\n",
       "      <td>0.711949</td>\n",
       "      <td>49.701214</td>\n",
       "    </tr>\n",
       "    <tr>\n",
       "      <th>min</th>\n",
       "      <td>1.000000</td>\n",
       "      <td>0.000000</td>\n",
       "      <td>32.876848</td>\n",
       "      <td>-112.875482</td>\n",
       "      <td>1.000000</td>\n",
       "      <td>1.000000</td>\n",
       "      <td>1.000000</td>\n",
       "      <td>1.000000</td>\n",
       "    </tr>\n",
       "    <tr>\n",
       "      <th>25%</th>\n",
       "      <td>3.000000</td>\n",
       "      <td>0.000000</td>\n",
       "      <td>33.422169</td>\n",
       "      <td>-112.065458</td>\n",
       "      <td>3.467649</td>\n",
       "      <td>37.000000</td>\n",
       "      <td>3.444444</td>\n",
       "      <td>3.000000</td>\n",
       "    </tr>\n",
       "    <tr>\n",
       "      <th>50%</th>\n",
       "      <td>4.000000</td>\n",
       "      <td>1.000000</td>\n",
       "      <td>33.492502</td>\n",
       "      <td>-111.963708</td>\n",
       "      <td>3.838710</td>\n",
       "      <td>82.000000</td>\n",
       "      <td>3.767442</td>\n",
       "      <td>11.000000</td>\n",
       "    </tr>\n",
       "    <tr>\n",
       "      <th>75%</th>\n",
       "      <td>5.000000</td>\n",
       "      <td>2.000000</td>\n",
       "      <td>33.538351</td>\n",
       "      <td>-111.923255</td>\n",
       "      <td>4.071749</td>\n",
       "      <td>170.000000</td>\n",
       "      <td>4.083333</td>\n",
       "      <td>39.000000</td>\n",
       "    </tr>\n",
       "    <tr>\n",
       "      <th>max</th>\n",
       "      <td>5.000000</td>\n",
       "      <td>82.000000</td>\n",
       "      <td>34.002867</td>\n",
       "      <td>-111.386046</td>\n",
       "      <td>5.000000</td>\n",
       "      <td>742.000000</td>\n",
       "      <td>5.000000</td>\n",
       "      <td>332.000000</td>\n",
       "    </tr>\n",
       "  </tbody>\n",
       "</table>\n",
       "</div>"
      ],
      "text/plain": [
       "               stars  usefulvotes_review       latitude      longitude  \\\n",
       "count  149319.000000       149319.000000  149319.000000  149319.000000   \n",
       "mean        3.741413            1.349741      33.484835    -111.984559   \n",
       "std         1.185309            2.154615       0.109204       0.121524   \n",
       "min         1.000000            0.000000      32.876848    -112.875482   \n",
       "25%         3.000000            0.000000      33.422169    -112.065458   \n",
       "50%         4.000000            1.000000      33.492502    -111.963708   \n",
       "75%         5.000000            2.000000      33.538351    -111.923255   \n",
       "max         5.000000           82.000000      34.002867    -111.386046   \n",
       "\n",
       "        business_avg  business_review_count       user_avg  user_review_count  \n",
       "count  149319.000000          149319.000000  149319.000000      149319.000000  \n",
       "mean        3.741413             129.234987       3.741413          31.852082  \n",
       "std         0.486074             136.521707       0.711949          49.701214  \n",
       "min         1.000000               1.000000       1.000000           1.000000  \n",
       "25%         3.467649              37.000000       3.444444           3.000000  \n",
       "50%         3.838710              82.000000       3.767442          11.000000  \n",
       "75%         4.071749             170.000000       4.083333          39.000000  \n",
       "max         5.000000             742.000000       5.000000         332.000000  "
      ]
     },
     "execution_count": 7,
     "metadata": {},
     "output_type": "execute_result"
    }
   ],
   "source": [
    "train.describe()"
   ]
  },
  {
   "cell_type": "code",
   "execution_count": 8,
   "metadata": {
    "collapsed": true
   },
   "outputs": [],
   "source": [
    "train['date'] = pd.to_datetime(train['date'])"
   ]
  },
  {
   "cell_type": "code",
   "execution_count": 9,
   "metadata": {
    "collapsed": true
   },
   "outputs": [],
   "source": [
    "train['month'] = train['date'].apply(lambda d: d.month)"
   ]
  },
  {
   "cell_type": "code",
   "execution_count": 10,
   "metadata": {
    "collapsed": false
   },
   "outputs": [
    {
     "data": {
      "image/png": "[encoded data removed]",
      "text/plain": [
       "<matplotlib.figure.Figure at 0x11e1cb9b0>"
      ]
     },
     "metadata": {},
     "output_type": "display_data"
    }
   ],
   "source": [
    "train['month'].plot(kind='hist');"
   ]
  },
  {
   "cell_type": "code",
   "execution_count": 11,
   "metadata": {
    "collapsed": false
   },
   "outputs": [
    {
     "data": {
      "text/plain": [
       "266"
      ]
     },
     "execution_count": 11,
     "metadata": {},
     "output_type": "execute_result"
    }
   ],
   "source": [
    "len(train['business_review_count'].value_counts())"
   ]
  },
  {
   "cell_type": "code",
   "execution_count": 12,
   "metadata": {
    "collapsed": false
   },
   "outputs": [
    {
     "data": {
      "text/plain": [
       "Index(['user_id', 'business_id', 'date', 'review_id', 'stars',\n",
       "       'usefulvotes_review', 'user_name', 'categories', 'biz_name', 'latitude',\n",
       "       'longitude', 'business_avg', 'business_review_count', 'user_avg',\n",
       "       'user_review_count', 'month'],\n",
       "      dtype='object')"
      ]
     },
     "execution_count": 12,
     "metadata": {},
     "output_type": "execute_result"
    }
   ],
   "source": [
    "train.columns"
   ]
  },
  {
   "cell_type": "code",
   "execution_count": 13,
   "metadata": {
    "collapsed": true
   },
   "outputs": [],
   "source": [
    "cnt = train.groupby(['business_review_count', 'business_id'])['business_id'].count()"
   ]
  },
  {
   "cell_type": "code",
   "execution_count": 14,
   "metadata": {
    "collapsed": false
   },
   "outputs": [
    {
     "data": {
      "text/plain": [
       "<matplotlib.axes._subplots.AxesSubplot at 0x11da22c18>"
      ]
     },
     "execution_count": 14,
     "metadata": {},
     "output_type": "execute_result"
    },
    {
     "data": {
      "image/png": "[encoded data removed]",
      "text/plain": [
       "<matplotlib.figure.Figure at 0x11dac6c50>"
      ]
     },
     "metadata": {},
     "output_type": "display_data"
    }
   ],
   "source": [
    "cnt.plot(kind='hist')"
   ]
  },
  {
   "cell_type": "code",
   "execution_count": 15,
   "metadata": {
    "collapsed": false
   },
   "outputs": [
    {
     "data": {
      "image/png": "[encoded data removed]",
      "text/plain": [
       "<matplotlib.figure.Figure at 0x11d60bc50>"
      ]
     },
     "metadata": {},
     "output_type": "display_data"
    }
   ],
   "source": [
    "businessReviewTimes = train.groupby(['business_id', 'business_avg'])['business_id'].count()\n",
    "businesReviewRates = train.groupby(['business_id', 'business_avg'])['business_avg'].mean()\n",
    "#print(businessReviewTimes[businessReviewTimes > 10][0:10])\n",
    "businesReviewRates[businessReviewTimes>50].hist(bins=10, edgecolor='w', lw=1)\n",
    "plt.xlabel(\"Average business rating when the business is reviewed more than 50 times\")\n",
    "plt.ylabel(\"Business reviewed times\")\n",
    "plt.xticks([0, 1, 2, 3, 4, 5]);\n",
    "plt.axvline(businesReviewRates[businessReviewTimes>50].mean(), 0, 200, color='red');"
   ]
  },
  {
   "cell_type": "code",
   "execution_count": 16,
   "metadata": {
    "collapsed": false
   },
   "outputs": [
    {
     "data": {
      "image/png": "[encoded data removed]",
      "text/plain": [
       "<matplotlib.figure.Figure at 0x11d5f8b38>"
      ]
     },
     "metadata": {},
     "output_type": "display_data"
    }
   ],
   "source": [
    "userReviewTimes = train.groupby(['user_id', 'user_avg'])['user_id'].count()\n",
    "userReviewRates = train.groupby(['user_id', 'user_avg'])['user_avg'].mean()\n",
    "#print(userReviewTimes[userReviewTimes > 50][0:10])\n",
    "userReviewRates[userReviewTimes>50].hist(bins=10, edgecolor='w', lw=1)\n",
    "plt.xlabel(\"Average user rating when the user reviews more than 50 times\")\n",
    "plt.ylabel(\"Review times\")\n",
    "plt.xticks([0, 1, 2, 3, 4, 5]);\n",
    "plt.axvline(userReviewRates[userReviewTimes>50].mean(), 0, 200, color='red');"
   ]
  },
  {
   "cell_type": "markdown",
   "metadata": {},
   "source": [
    "### Exploratory Data Analysis"
   ]
  },
  {
   "cell_type": "markdown",
   "metadata": {},
   "source": [
    "**1.1** Visualize the sparsity of the full data set by plotting two histograms of the review count  grouped by the `user_id` and `business_id` respectively. Are there more users or more businesses? "
   ]
  },
  {
   "cell_type": "code",
   "execution_count": 17,
   "metadata": {
    "collapsed": false
   },
   "outputs": [
    {
     "data": {
      "text/plain": [
       "Index(['user_id', 'business_id', 'date', 'review_id', 'stars',\n",
       "       'usefulvotes_review', 'user_name', 'categories', 'biz_name', 'latitude',\n",
       "       'longitude', 'business_avg', 'business_review_count', 'user_avg',\n",
       "       'user_review_count', 'month'],\n",
       "      dtype='object')"
      ]
     },
     "execution_count": 17,
     "metadata": {},
     "output_type": "execute_result"
    }
   ],
   "source": [
    "train.columns"
   ]
  },
  {
   "cell_type": "code",
   "execution_count": 18,
   "metadata": {
    "collapsed": false
   },
   "outputs": [
    {
     "data": {
      "text/plain": [
       "34789"
      ]
     },
     "execution_count": 18,
     "metadata": {},
     "output_type": "execute_result"
    }
   ],
   "source": [
    "len(train['user_id'].value_counts())"
   ]
  },
  {
   "cell_type": "code",
   "execution_count": 19,
   "metadata": {
    "collapsed": false
   },
   "outputs": [
    {
     "data": {
      "text/plain": [
       "4503"
      ]
     },
     "execution_count": 19,
     "metadata": {},
     "output_type": "execute_result"
    }
   ],
   "source": [
    "len(train['business_id'].value_counts())"
   ]
  },
  {
   "cell_type": "code",
   "execution_count": 20,
   "metadata": {
    "collapsed": false
   },
   "outputs": [
    {
     "data": {
      "image/png": "[encoded data removed]",
      "text/plain": [
       "<matplotlib.figure.Figure at 0x11b32dcf8>"
      ]
     },
     "metadata": {},
     "output_type": "display_data"
    }
   ],
   "source": [
    "train.groupby(['user_id'])['review_id'].count().hist(bins=10, edgecolor='w', lw=1);\n"
   ]
  },
  {
   "cell_type": "code",
   "execution_count": 21,
   "metadata": {
    "collapsed": false
   },
   "outputs": [
    {
     "data": {
      "image/png": "[encoded data removed]",
      "text/plain": [
       "<matplotlib.figure.Figure at 0x10aa049b0>"
      ]
     },
     "metadata": {},
     "output_type": "display_data"
    }
   ],
   "source": [
    "train.groupby(['business_id'])['review_id'].count().hist(bins=10, edgecolor='w', lw=1);"
   ]
  },
  {
   "cell_type": "markdown",
   "metadata": {},
   "source": [
    "**1.2** Compute the average rating of reviews in the data set and a histogram of all the ratings in the dataset."
   ]
  },
  {
   "cell_type": "code",
   "execution_count": 22,
   "metadata": {
    "collapsed": false
   },
   "outputs": [
    {
     "data": {
      "text/plain": [
       "<matplotlib.axes._subplots.AxesSubplot at 0x11b224c50>"
      ]
     },
     "execution_count": 22,
     "metadata": {},
     "output_type": "execute_result"
    },
    {
     "data": {
      "image/png": "[encoded data removed]",
      "text/plain": [
       "<matplotlib.figure.Figure at 0x11b23ff98>"
      ]
     },
     "metadata": {},
     "output_type": "display_data"
    }
   ],
   "source": [
    "train['stars'].hist(bins=5, edgecolor='w', lw=1)"
   ]
  },
  {
   "cell_type": "markdown",
   "metadata": {},
   "source": [
    "**1.3** Create a smaller data set in dataframe `smalldf` by looking for those businesses with more than 150 reviews and those users with more than 60 reviews. Include all the columns that were there in the parent dataframe. Since you have created a subset of the data set, use the method provided above to recalculate the averages. Print the number of unique users and items in this data set.  \n",
    "\n",
    "Note that while this cut makes sure we have prolific users, the cut on businesses restores sparsity  by reducing the number of reviews per user."
   ]
  },
  {
   "cell_type": "code",
   "execution_count": 23,
   "metadata": {
    "collapsed": true
   },
   "outputs": [],
   "source": [
    "train_subset = train[(train['business_review_count'] > 150) & (train['user_review_count'] > 60)]"
   ]
  },
  {
   "cell_type": "code",
   "execution_count": 24,
   "metadata": {
    "collapsed": false
   },
   "outputs": [
    {
     "data": {
      "text/html": [
       "<div>\n",
       "<table border=\"1\" class=\"dataframe\">\n",
       "  <thead>\n",
       "    <tr style=\"text-align: right;\">\n",
       "      <th></th>\n",
       "      <th>user_id</th>\n",
       "      <th>business_id</th>\n",
       "      <th>date</th>\n",
       "      <th>review_id</th>\n",
       "      <th>stars</th>\n",
       "      <th>usefulvotes_review</th>\n",
       "      <th>user_name</th>\n",
       "      <th>categories</th>\n",
       "      <th>biz_name</th>\n",
       "      <th>latitude</th>\n",
       "      <th>longitude</th>\n",
       "      <th>business_avg</th>\n",
       "      <th>business_review_count</th>\n",
       "      <th>user_avg</th>\n",
       "      <th>user_review_count</th>\n",
       "      <th>month</th>\n",
       "    </tr>\n",
       "  </thead>\n",
       "  <tbody>\n",
       "    <tr>\n",
       "      <th>395</th>\n",
       "      <td>rLtl8ZkDX5vH5nAx9C3q5Q</td>\n",
       "      <td>eIxSLxzIlfExI6vgAbn2JA</td>\n",
       "      <td>2011-05-12</td>\n",
       "      <td>z4G1g3VcdfigCUtVDFRL1w</td>\n",
       "      <td>4</td>\n",
       "      <td>5</td>\n",
       "      <td>Jason</td>\n",
       "      <td>[Burgers, Hot Dogs, American (New), Restaurants]</td>\n",
       "      <td>Lobbys Beef Burgers Dogs</td>\n",
       "      <td>33.39477</td>\n",
       "      <td>-111.908894</td>\n",
       "      <td>4.283237</td>\n",
       "      <td>173</td>\n",
       "      <td>3.796954</td>\n",
       "      <td>197</td>\n",
       "      <td>5</td>\n",
       "    </tr>\n",
       "    <tr>\n",
       "      <th>397</th>\n",
       "      <td>C6IOtaaYdLIT5fWd7ZYIuA</td>\n",
       "      <td>eIxSLxzIlfExI6vgAbn2JA</td>\n",
       "      <td>2011-04-12</td>\n",
       "      <td>480M-xDpRaA1gCVCqIG4WA</td>\n",
       "      <td>4</td>\n",
       "      <td>14</td>\n",
       "      <td>Daren</td>\n",
       "      <td>[Burgers, Hot Dogs, American (New), Restaurants]</td>\n",
       "      <td>Lobbys Beef Burgers Dogs</td>\n",
       "      <td>33.39477</td>\n",
       "      <td>-111.908894</td>\n",
       "      <td>4.283237</td>\n",
       "      <td>173</td>\n",
       "      <td>3.784689</td>\n",
       "      <td>209</td>\n",
       "      <td>4</td>\n",
       "    </tr>\n",
       "    <tr>\n",
       "      <th>399</th>\n",
       "      <td>mlBC3pN9GXlUUfQi1qBBZA</td>\n",
       "      <td>eIxSLxzIlfExI6vgAbn2JA</td>\n",
       "      <td>2011-09-17</td>\n",
       "      <td>q_T6FtScTul_yYIGyrgTxA</td>\n",
       "      <td>3</td>\n",
       "      <td>0</td>\n",
       "      <td>Jennifer</td>\n",
       "      <td>[Burgers, Hot Dogs, American (New), Restaurants]</td>\n",
       "      <td>Lobbys Beef Burgers Dogs</td>\n",
       "      <td>33.39477</td>\n",
       "      <td>-111.908894</td>\n",
       "      <td>4.283237</td>\n",
       "      <td>173</td>\n",
       "      <td>3.702381</td>\n",
       "      <td>84</td>\n",
       "      <td>9</td>\n",
       "    </tr>\n",
       "  </tbody>\n",
       "</table>\n",
       "</div>"
      ],
      "text/plain": [
       "                    user_id             business_id       date  \\\n",
       "395  rLtl8ZkDX5vH5nAx9C3q5Q  eIxSLxzIlfExI6vgAbn2JA 2011-05-12   \n",
       "397  C6IOtaaYdLIT5fWd7ZYIuA  eIxSLxzIlfExI6vgAbn2JA 2011-04-12   \n",
       "399  mlBC3pN9GXlUUfQi1qBBZA  eIxSLxzIlfExI6vgAbn2JA 2011-09-17   \n",
       "\n",
       "                  review_id  stars  usefulvotes_review user_name  \\\n",
       "395  z4G1g3VcdfigCUtVDFRL1w      4                   5     Jason   \n",
       "397  480M-xDpRaA1gCVCqIG4WA      4                  14     Daren   \n",
       "399  q_T6FtScTul_yYIGyrgTxA      3                   0  Jennifer   \n",
       "\n",
       "                                           categories  \\\n",
       "395  [Burgers, Hot Dogs, American (New), Restaurants]   \n",
       "397  [Burgers, Hot Dogs, American (New), Restaurants]   \n",
       "399  [Burgers, Hot Dogs, American (New), Restaurants]   \n",
       "\n",
       "                     biz_name  latitude   longitude  business_avg  \\\n",
       "395  Lobbys Beef Burgers Dogs  33.39477 -111.908894      4.283237   \n",
       "397  Lobbys Beef Burgers Dogs  33.39477 -111.908894      4.283237   \n",
       "399  Lobbys Beef Burgers Dogs  33.39477 -111.908894      4.283237   \n",
       "\n",
       "     business_review_count  user_avg  user_review_count  month  \n",
       "395                    173  3.796954                197      5  \n",
       "397                    173  3.784689                209      4  \n",
       "399                    173  3.702381                 84      9  "
      ]
     },
     "execution_count": 24,
     "metadata": {},
     "output_type": "execute_result"
    }
   ],
   "source": [
    "train_subset.head(3)"
   ]
  },
  {
   "cell_type": "code",
   "execution_count": 25,
   "metadata": {
    "collapsed": true
   },
   "outputs": [],
   "source": [
    "def df_update_user_biz_avg(df):\n",
    "    df_user_group = df.groupby('user_id')\n",
    "    df_biz_group = df.groupby('business_id')\n",
    "    \n",
    "    user_view_count = df_user_group['review_id'].count()\n",
    "    biz_view_count = df_biz_group['review_id'].count()\n",
    "    \n",
    "    star_user_group_Avg = df_user_group['stars'].mean()\n",
    "    star_biz_group_Avg = df_biz_group['stars'].mean()\n",
    "    \n",
    "    df_update = df.copy()\n",
    "    \n",
    "    df_update.set_index(['user_id'], inplace = True)\n",
    "    df_update['user_avg'] = star_user_group_Avg\n",
    "    df_update['user_review_count'] = user_view_count\n",
    "    df_update.reset_index(inplace = True)\n",
    "    \n",
    "    df_update.set_index(['business_id'], inplace = True)\n",
    "    df_update['business_avg'] = star_biz_group_Avg\n",
    "    df_update['business_review_count'] = biz_view_count\n",
    "    df_update.reset_index(inplace = True)\n",
    "    \n",
    "    return df_update"
   ]
  },
  {
   "cell_type": "code",
   "execution_count": 26,
   "metadata": {
    "collapsed": false
   },
   "outputs": [
    {
     "data": {
      "text/html": [
       "<div>\n",
       "<table border=\"1\" class=\"dataframe\">\n",
       "  <thead>\n",
       "    <tr style=\"text-align: right;\">\n",
       "      <th></th>\n",
       "      <th>business_id</th>\n",
       "      <th>user_id</th>\n",
       "      <th>date</th>\n",
       "      <th>review_id</th>\n",
       "      <th>stars</th>\n",
       "      <th>usefulvotes_review</th>\n",
       "      <th>user_name</th>\n",
       "      <th>categories</th>\n",
       "      <th>biz_name</th>\n",
       "      <th>latitude</th>\n",
       "      <th>longitude</th>\n",
       "      <th>business_avg</th>\n",
       "      <th>business_review_count</th>\n",
       "      <th>user_avg</th>\n",
       "      <th>user_review_count</th>\n",
       "      <th>month</th>\n",
       "    </tr>\n",
       "  </thead>\n",
       "  <tbody>\n",
       "    <tr>\n",
       "      <th>0</th>\n",
       "      <td>eIxSLxzIlfExI6vgAbn2JA</td>\n",
       "      <td>rLtl8ZkDX5vH5nAx9C3q5Q</td>\n",
       "      <td>2011-05-12</td>\n",
       "      <td>z4G1g3VcdfigCUtVDFRL1w</td>\n",
       "      <td>4</td>\n",
       "      <td>5</td>\n",
       "      <td>Jason</td>\n",
       "      <td>[Burgers, Hot Dogs, American (New), Restaurants]</td>\n",
       "      <td>Lobbys Beef Burgers Dogs</td>\n",
       "      <td>33.39477</td>\n",
       "      <td>-111.908894</td>\n",
       "      <td>4.04</td>\n",
       "      <td>25</td>\n",
       "      <td>3.709677</td>\n",
       "      <td>62</td>\n",
       "      <td>5</td>\n",
       "    </tr>\n",
       "    <tr>\n",
       "      <th>1</th>\n",
       "      <td>eIxSLxzIlfExI6vgAbn2JA</td>\n",
       "      <td>C6IOtaaYdLIT5fWd7ZYIuA</td>\n",
       "      <td>2011-04-12</td>\n",
       "      <td>480M-xDpRaA1gCVCqIG4WA</td>\n",
       "      <td>4</td>\n",
       "      <td>14</td>\n",
       "      <td>Daren</td>\n",
       "      <td>[Burgers, Hot Dogs, American (New), Restaurants]</td>\n",
       "      <td>Lobbys Beef Burgers Dogs</td>\n",
       "      <td>33.39477</td>\n",
       "      <td>-111.908894</td>\n",
       "      <td>4.04</td>\n",
       "      <td>25</td>\n",
       "      <td>4.000000</td>\n",
       "      <td>15</td>\n",
       "      <td>4</td>\n",
       "    </tr>\n",
       "    <tr>\n",
       "      <th>2</th>\n",
       "      <td>eIxSLxzIlfExI6vgAbn2JA</td>\n",
       "      <td>mlBC3pN9GXlUUfQi1qBBZA</td>\n",
       "      <td>2011-09-17</td>\n",
       "      <td>q_T6FtScTul_yYIGyrgTxA</td>\n",
       "      <td>3</td>\n",
       "      <td>0</td>\n",
       "      <td>Jennifer</td>\n",
       "      <td>[Burgers, Hot Dogs, American (New), Restaurants]</td>\n",
       "      <td>Lobbys Beef Burgers Dogs</td>\n",
       "      <td>33.39477</td>\n",
       "      <td>-111.908894</td>\n",
       "      <td>4.04</td>\n",
       "      <td>25</td>\n",
       "      <td>3.750000</td>\n",
       "      <td>12</td>\n",
       "      <td>9</td>\n",
       "    </tr>\n",
       "  </tbody>\n",
       "</table>\n",
       "</div>"
      ],
      "text/plain": [
       "              business_id                 user_id       date  \\\n",
       "0  eIxSLxzIlfExI6vgAbn2JA  rLtl8ZkDX5vH5nAx9C3q5Q 2011-05-12   \n",
       "1  eIxSLxzIlfExI6vgAbn2JA  C6IOtaaYdLIT5fWd7ZYIuA 2011-04-12   \n",
       "2  eIxSLxzIlfExI6vgAbn2JA  mlBC3pN9GXlUUfQi1qBBZA 2011-09-17   \n",
       "\n",
       "                review_id  stars  usefulvotes_review user_name  \\\n",
       "0  z4G1g3VcdfigCUtVDFRL1w      4                   5     Jason   \n",
       "1  480M-xDpRaA1gCVCqIG4WA      4                  14     Daren   \n",
       "2  q_T6FtScTul_yYIGyrgTxA      3                   0  Jennifer   \n",
       "\n",
       "                                         categories                  biz_name  \\\n",
       "0  [Burgers, Hot Dogs, American (New), Restaurants]  Lobbys Beef Burgers Dogs   \n",
       "1  [Burgers, Hot Dogs, American (New), Restaurants]  Lobbys Beef Burgers Dogs   \n",
       "2  [Burgers, Hot Dogs, American (New), Restaurants]  Lobbys Beef Burgers Dogs   \n",
       "\n",
       "   latitude   longitude  business_avg  business_review_count  user_avg  \\\n",
       "0  33.39477 -111.908894          4.04                     25  3.709677   \n",
       "1  33.39477 -111.908894          4.04                     25  4.000000   \n",
       "2  33.39477 -111.908894          4.04                     25  3.750000   \n",
       "\n",
       "   user_review_count  month  \n",
       "0                 62      5  \n",
       "1                 15      4  \n",
       "2                 12      9  "
      ]
     },
     "execution_count": 26,
     "metadata": {},
     "output_type": "execute_result"
    }
   ],
   "source": [
    "train_subset_usrbiz_update = df_update_user_biz_avg(train_subset)\n",
    "train_subset_usrbiz_update.head(3)"
   ]
  },
  {
   "cell_type": "markdown",
   "metadata": {},
   "source": [
    "How does this compare to the parent data set, in terms of size and sparsity? Once again, plot histograms of the review count grouped by user, and by the review count grouped by business, respectively, and describe the results"
   ]
  },
  {
   "cell_type": "code",
   "execution_count": 27,
   "metadata": {
    "collapsed": false
   },
   "outputs": [
    {
     "name": "stdout",
     "output_type": "stream",
     "text": [
      "There are 6165 reviews when we set a certain condition\n",
      "6165 reviews are given by 240 differnt users to 172 resturants\n"
     ]
    }
   ],
   "source": [
    "print('There are {0} reviews when we set a certain condition'.format(train_subset_usrbiz_update.shape[0]))\n",
    "print('{0} reviews are given by {1} differnt users to {2} resturants'.format(train_subset_usrbiz_update.shape[0],\n",
    "      len(train_subset_usrbiz_update['user_id'].unique()), len(train_subset_usrbiz_update['business_id'].unique())))"
   ]
  },
  {
   "cell_type": "code",
   "execution_count": 28,
   "metadata": {
    "collapsed": false
   },
   "outputs": [
    {
     "data": {
      "image/png": "[encoded data removed]",
      "text/plain": [
       "<matplotlib.figure.Figure at 0x10aa0f518>"
      ]
     },
     "metadata": {},
     "output_type": "display_data"
    }
   ],
   "source": [
    "plt.hist(train_subset_usrbiz_update.groupby('user_id')['user_review_count'].count())\n",
    "plt.xlabel('Reviews per user after certain condition');"
   ]
  },
  {
   "cell_type": "code",
   "execution_count": 29,
   "metadata": {
    "collapsed": false
   },
   "outputs": [
    {
     "data": {
      "image/png": "[encoded data removed]",
      "text/plain": [
       "<matplotlib.figure.Figure at 0x11b2006a0>"
      ]
     },
     "metadata": {},
     "output_type": "display_data"
    }
   ],
   "source": [
    "plt.hist(train_subset_usrbiz_update.groupby('business_id')['business_review_count'].count())\n",
    "plt.xlabel('Reviews per business after certain condition');"
   ]
  },
  {
   "cell_type": "markdown",
   "metadata": {},
   "source": [
    "Comparing to the Reviews per user given and Reviews per business received, after the condition selection, the data becomes less sparse, since the original data has steep decline in histogram over these two quantities, while with certatin condition the histograms tend to be more flatten."
   ]
  },
  {
   "cell_type": "markdown",
   "metadata": {},
   "source": [
    "**1.4** Compute histograms of the average user rating in the smaller data set, and the average business rating in the smaller data set. Print the overall mean."
   ]
  },
  {
   "cell_type": "code",
   "execution_count": 30,
   "metadata": {
    "collapsed": false
   },
   "outputs": [
    {
     "data": {
      "image/png": "[encoded data removed]",
      "text/plain": [
       "<matplotlib.figure.Figure at 0x11d3606d8>"
      ]
     },
     "metadata": {},
     "output_type": "display_data"
    }
   ],
   "source": [
    "train_subset_usrbiz_update.groupby('user_id')['stars'].mean().hist(bins=10)\n",
    "plt.axvline(train_subset_usrbiz_update.groupby('user_id')['stars'].mean().mean(), 0, 200, color='red')\n",
    "plt.xlabel('average user rating after applying selective condition');"
   ]
  },
  {
   "cell_type": "code",
   "execution_count": 31,
   "metadata": {
    "collapsed": false
   },
   "outputs": [
    {
     "data": {
      "image/png": "[encoded data removed]",
      "text/plain": [
       "<matplotlib.figure.Figure at 0x10aa07cf8>"
      ]
     },
     "metadata": {},
     "output_type": "display_data"
    }
   ],
   "source": [
    "train_subset_usrbiz_update.groupby('business_id')['stars'].mean().hist(bins=10)\n",
    "plt.axvline(train_subset_usrbiz_update.groupby('business_id')['stars'].mean().mean(), 0, 200, color='red')\n",
    "plt.xlabel('average business rating after applying selective condition');"
   ]
  },
  {
   "cell_type": "markdown",
   "metadata": {},
   "source": [
    "## 1. A global similarity based recommender"
   ]
  },
  {
   "cell_type": "markdown",
   "metadata": {},
   "source": [
    "### Common Support\n",
    "\n",
    "Lets now make a histogram of the common user support (the number of common reviewers) of each pair of restaurants on the smaller set, and print the mean. Pay attention to the code, as you will use parts of it later. (This code takes a bit of time to run, so be patient).\n",
    "\n",
    "The common support is an important concept, as for each pair of restaurants, its the number of people who reviewed both. It will be used to modify similarity between restaurants. If the common support is low, the similarity is less believable."
   ]
  },
  {
   "cell_type": "code",
   "execution_count": 32,
   "metadata": {
    "collapsed": false
   },
   "outputs": [
    {
     "name": "stdout",
     "output_type": "stream",
     "text": [
      "{1, 3, 5}\n",
      "3 entries exist both in list a and list b\n"
     ]
    }
   ],
   "source": [
    "a = [1,2,3,4,5]\n",
    "b = [1,3,5,6]\n",
    "print(set(a).intersection(b))\n",
    "print('{0} entries exist both in list a and list b'.format(len(set(a).intersection(b))))"
   ]
  },
  {
   "cell_type": "code",
   "execution_count": 33,
   "metadata": {
    "collapsed": false
   },
   "outputs": [
    {
     "name": "stdout",
     "output_type": "stream",
     "text": [
      "Mean support is: 6.84679722562\n"
     ]
    },
    {
     "data": {
      "image/png": "[encoded data removed]",
      "text/plain": [
       "<matplotlib.figure.Figure at 0x11a41c1d0>"
      ]
     },
     "metadata": {},
     "output_type": "display_data"
    }
   ],
   "source": [
    "restaurants = train_subset_usrbiz_update['business_id'].unique()\n",
    "\n",
    "supports=[]\n",
    "for i, rest1 in enumerate(restaurants):\n",
    "    for j, rest2 in enumerate(restaurants):\n",
    "        if  i < j:\n",
    "            rest1_reviewers = train_subset_usrbiz_update[train_subset_usrbiz_update.business_id==rest1]['user_id'].unique()\n",
    "            rest2_reviewers = train_subset_usrbiz_update[train_subset_usrbiz_update.business_id==rest2]['user_id'].unique()\n",
    "            common_reviewers = set(rest1_reviewers).intersection(rest2_reviewers)\n",
    "            supports.append(len(common_reviewers))\n",
    "            \n",
    "print( \"Mean support is:\", np.mean(supports))\n",
    "plt.hist(supports);"
   ]
  },
  {
   "cell_type": "markdown",
   "metadata": {},
   "source": [
    "As you can see, even though we chose a subset of the dataframe in which every restaurant had 150 reviews and every user had at least made 60 reviews, the common support (users comment on pair-two resturants over all resturants considered) of most pairs of restaurants is really low, indeed less than 10!."
   ]
  },
  {
   "cell_type": "markdown",
   "metadata": {},
   "source": [
    "### Calculating Similarity"
   ]
  },
  {
   "cell_type": "markdown",
   "metadata": {},
   "source": [
    "The function `get_restaurant_reviews` defined below takes a restaurant `business_id` and a set of users, and returns the reviews of that restaurant by those users. You will use this function in calculating a similarity function, in **1.5**."
   ]
  },
  {
   "cell_type": "code",
   "execution_count": 34,
   "metadata": {
    "collapsed": true
   },
   "outputs": [],
   "source": [
    "#p1 = {'name': 'willy', 'age': 10}\n",
    "#p2 = {'name': 'willy', 'age': 11}\n",
    "#p3 = {'name': 'zoe', 'age': 10}\n",
    "#df = pd.DataFrame([p1, p2, p3])\n",
    "#print(df,'\\n')\n",
    "#print(df.duplicated('name'))\n",
    "#df[df['name'].duplicated()==False]"
   ]
  },
  {
   "cell_type": "code",
   "execution_count": 35,
   "metadata": {
    "collapsed": true
   },
   "outputs": [],
   "source": [
    "def get_restaurant_reviews(df, biz_id, users):\n",
    "    mask = (df['business_id'] == biz_id) & (df['user_id'].isin(users))\n",
    "    df_biz_id_rate = df[mask]\n",
    "    df_biz_id_rate = df_biz_id_rate[df_biz_id_rate['user_id'].duplicated() == False]\n",
    "    \n",
    "    #df_user_group = df.groupby('user_id')\n",
    "    #df_biz_id_rate = df_user_group[(df_user_group['user_id'].users)][(df_user_group['business_id'] == biz_id)]\n",
    "    #df_biz_id_rate = df_user_group[df_user_group['user_id'] == users]\n",
    "    #df_biz_id_rate = df_biz_id_rate[df_biz_id_rate['business_id'] == biz_id]\n",
    "    return df_biz_id_rate"
   ]
  },
  {
   "cell_type": "code",
   "execution_count": 36,
   "metadata": {
    "collapsed": true
   },
   "outputs": [],
   "source": [
    "#df = train.groupby('user_id')\n",
    "#df['user_id'].apply(lambda usr: usr.isin(['rLtl8ZkDX5vH5nAx9C3q5Q']))"
   ]
  },
  {
   "cell_type": "code",
   "execution_count": 37,
   "metadata": {
    "collapsed": false
   },
   "outputs": [
    {
     "data": {
      "text/html": [
       "<div>\n",
       "<table border=\"1\" class=\"dataframe\">\n",
       "  <thead>\n",
       "    <tr style=\"text-align: right;\">\n",
       "      <th></th>\n",
       "      <th>user_id</th>\n",
       "      <th>business_id</th>\n",
       "      <th>date</th>\n",
       "      <th>review_id</th>\n",
       "      <th>stars</th>\n",
       "      <th>usefulvotes_review</th>\n",
       "      <th>user_name</th>\n",
       "      <th>categories</th>\n",
       "      <th>biz_name</th>\n",
       "      <th>latitude</th>\n",
       "      <th>longitude</th>\n",
       "      <th>business_avg</th>\n",
       "      <th>business_review_count</th>\n",
       "      <th>user_avg</th>\n",
       "      <th>user_review_count</th>\n",
       "      <th>month</th>\n",
       "    </tr>\n",
       "  </thead>\n",
       "  <tbody>\n",
       "    <tr>\n",
       "      <th>436</th>\n",
       "      <td>NvDR3SPVPXrDB_dbKuGoWA</td>\n",
       "      <td>eIxSLxzIlfExI6vgAbn2JA</td>\n",
       "      <td>2011-07-13</td>\n",
       "      <td>qUAKZgt-8Oa_C2FUslkqxw</td>\n",
       "      <td>2</td>\n",
       "      <td>3</td>\n",
       "      <td>Scott</td>\n",
       "      <td>[Burgers, Hot Dogs, American (New), Restaurants]</td>\n",
       "      <td>Lobbys Beef Burgers Dogs</td>\n",
       "      <td>33.39477</td>\n",
       "      <td>-111.908894</td>\n",
       "      <td>4.283237</td>\n",
       "      <td>173</td>\n",
       "      <td>3.354610</td>\n",
       "      <td>141</td>\n",
       "      <td>7</td>\n",
       "    </tr>\n",
       "    <tr>\n",
       "      <th>441</th>\n",
       "      <td>iwZ_7QuZ1tzT6pIZmOlDQg</td>\n",
       "      <td>eIxSLxzIlfExI6vgAbn2JA</td>\n",
       "      <td>2012-03-16</td>\n",
       "      <td>czJpzENiE4bDsfe_OkBjPw</td>\n",
       "      <td>5</td>\n",
       "      <td>3</td>\n",
       "      <td>Larry</td>\n",
       "      <td>[Burgers, Hot Dogs, American (New), Restaurants]</td>\n",
       "      <td>Lobbys Beef Burgers Dogs</td>\n",
       "      <td>33.39477</td>\n",
       "      <td>-111.908894</td>\n",
       "      <td>4.283237</td>\n",
       "      <td>173</td>\n",
       "      <td>3.594937</td>\n",
       "      <td>79</td>\n",
       "      <td>3</td>\n",
       "    </tr>\n",
       "  </tbody>\n",
       "</table>\n",
       "</div>"
      ],
      "text/plain": [
       "                    user_id             business_id       date  \\\n",
       "436  NvDR3SPVPXrDB_dbKuGoWA  eIxSLxzIlfExI6vgAbn2JA 2011-07-13   \n",
       "441  iwZ_7QuZ1tzT6pIZmOlDQg  eIxSLxzIlfExI6vgAbn2JA 2012-03-16   \n",
       "\n",
       "                  review_id  stars  usefulvotes_review user_name  \\\n",
       "436  qUAKZgt-8Oa_C2FUslkqxw      2                   3     Scott   \n",
       "441  czJpzENiE4bDsfe_OkBjPw      5                   3     Larry   \n",
       "\n",
       "                                           categories  \\\n",
       "436  [Burgers, Hot Dogs, American (New), Restaurants]   \n",
       "441  [Burgers, Hot Dogs, American (New), Restaurants]   \n",
       "\n",
       "                     biz_name  latitude   longitude  business_avg  \\\n",
       "436  Lobbys Beef Burgers Dogs  33.39477 -111.908894      4.283237   \n",
       "441  Lobbys Beef Burgers Dogs  33.39477 -111.908894      4.283237   \n",
       "\n",
       "     business_review_count  user_avg  user_review_count  month  \n",
       "436                    173  3.354610                141      7  \n",
       "441                    173  3.594937                 79      3  "
      ]
     },
     "execution_count": 37,
     "metadata": {},
     "output_type": "execute_result"
    }
   ],
   "source": [
    "subUser = train_subset_usrbiz_update['user_id'][20:22]\n",
    "get_restaurant_reviews(train, 'eIxSLxzIlfExI6vgAbn2JA', subUser)"
   ]
  },
  {
   "cell_type": "markdown",
   "metadata": {},
   "source": [
    "**1.5** Write a function `calculate_similarity` that operates between two restaurants and calculates a similarity for them, taking a dataframe and a similarity function `similarity_func`. An example of the `similarity_func` is the `pearson_sim` we defined above. `calculate_similarity` operates as follows: \n",
    "\n",
    "1. For each of the two restaurants, get the set of reviewers who have reviewed the restaurant and compute the intersection of these two sets. Also compute the number of common reviewers `n_common`.\n",
    "\n",
    "2. Use the function `get_restaurant_reviews` defined below to get the reviews for each restaurant as made by these common reviewers. Notice that `get_restaurant_reviews` returns a sub data frame of reviews.\n",
    "\n",
    "3. Calculate the similarity using `similarity_func` which takes the two reviews dataframes from part 2 and the number of common reviewers `n_common` as arguments\n",
    "\n",
    "4. Return the similarity and `n_common` in a tuple `(sim, n_common)`. If the similarity is a `NaN`, set the similarity to 0."
   ]
  },
  {
   "cell_type": "code",
   "execution_count": 38,
   "metadata": {
    "collapsed": true
   },
   "outputs": [],
   "source": [
    "from scipy.stats.stats import pearsonr"
   ]
  },
  {
   "cell_type": "code",
   "execution_count": 39,
   "metadata": {
    "collapsed": true
   },
   "outputs": [],
   "source": [
    "def calculate_similarity(df, resturant_1, resturant_2):\n",
    "    rest_1_reviewer = df[df['business_id']==resturant_1]['user_id'].unique()\n",
    "    rest_2_reviewer = df[df['business_id']==resturant_2]['user_id'].unique()\n",
    "    \n",
    "    common_usr = set(rest_1_reviewer).intersection(rest_2_reviewer)\n",
    "    num_common_usr = len(common_usr)\n",
    "    \n",
    "    rest_1_review = df[(df['business_id'] == resturant_1) & (df['user_id'].isin(common_usr))]\n",
    "    rest_1_review = rest_1_review[rest_1_review['user_id'].duplicated() == False]\n",
    "    \n",
    "    rest_2_review = df[(df['business_id'] == resturant_2) & (df['user_id'].isin(common_usr))]\n",
    "    rest_2_review = rest_2_review[rest_2_review['user_id'].duplicated() == False]\n",
    "    \n",
    "    '''\n",
    "    Even though each reviewer uses the same 5-star scale when rating restaurants, \n",
    "    comparing two users by comparing their raw user ratings can be problematic. \n",
    "    Consider a user whose average rating is 2. This is a curmudgeonly user. \n",
    "    Consider another whose average rating is 4. This is a rather enthusiastic one. \n",
    "    How should we compare a 3 rating by the curmudgeonly one to a 5 rating of the enthusiastic one?\n",
    "    It is for this purpose that we must subtract the average rating of the user from the actual rating of the restaurants \n",
    "    in computing the similarity of two restaurants. This makes the above ratings by the two users comparable. \n",
    "    '''\n",
    "    if num_common_usr == 0:\n",
    "        similarity = 0\n",
    "    else:\n",
    "        # star quantifies how the current reviewer rates the underlying restaurant\n",
    "        # user_avg quantifies what's the style of current reviewer generally rates\n",
    "        rest_1_diff_review_star_reviewer_rateAvg = rest_1_review['stars'] - rest_1_review['user_avg']\n",
    "        rest_2_diff_review_star_reviewer_rateAvg = rest_2_review['stars'] - rest_2_review['user_avg']\n",
    "        similarity = pearsonr(rest_1_diff_review_star_reviewer_rateAvg, \n",
    "                              rest_2_diff_review_star_reviewer_rateAvg)[0]\n",
    "        p_similarity = pearsonr(rest_1_diff_review_star_reviewer_rateAvg, \n",
    "                              rest_2_diff_review_star_reviewer_rateAvg)[1]\n",
    "        if np.isnan(similarity):\n",
    "            similarity = 0\n",
    "    \n",
    "    \n",
    "    return (similarity, num_common_usr)"
   ]
  },
  {
   "cell_type": "code",
   "execution_count": 443,
   "metadata": {
    "collapsed": true
   },
   "outputs": [],
   "source": [
    "?pearsonr"
   ]
  },
  {
   "cell_type": "code",
   "execution_count": 40,
   "metadata": {
    "collapsed": false
   },
   "outputs": [
    {
     "data": {
      "text/plain": [
       "(0.48148421546623382, 4)"
      ]
     },
     "execution_count": 40,
     "metadata": {},
     "output_type": "execute_result"
    }
   ],
   "source": [
    "calculate_similarity(train, 'WNy1uzcmm_UHmTyR--o5IA', 'xBCfrESSbroTjhVcRfG4NA')"
   ]
  },
  {
   "cell_type": "markdown",
   "metadata": {},
   "source": [
    "### Making a database of similarities\n",
    "\n",
    "We now move to calculating a global database of pairwise restaurant similarities.\n",
    "We provide you here with a function to make a database of the similarities for each pair of restaurants in the database. The class `Database` is initialized in its constructor by taking as arguments a dataframe of reviews. The method `populate_by calculating` iterates over every possible pair of business_id's in the dataframe and populates the database with similarities and common supports. It takes as arguments a function the similarity function `similarity_func` like `pearson_sim` (`calculate_similarity` then uses this to calculate the similarity). The `get` method on the database can be used to retrieve the similarity for two business ids."
   ]
  },
  {
   "cell_type": "code",
   "execution_count": 41,
   "metadata": {
    "collapsed": true
   },
   "outputs": [],
   "source": [
    "class reviewDB:\n",
    "    # consturct a self-constructor\n",
    "    def __init__(self, df):\n",
    "        self.df = df\n",
    "        # create a dict to store unique restaurant id\n",
    "        self.uniqueRestaurantId = {restId: idx for (idx, restId) in enumerate(df['business_id'].unique())}\n",
    "        numUniqueBiz = len(df['business_id'].unique())\n",
    "        self.similarityMat = np.zeros((numUniqueBiz, numUniqueBiz))\n",
    "        self.numCommonReviewer = np.zeros((numUniqueBiz, numUniqueBiz), dtype=np.int)\n",
    "    \n",
    "    # evaluate the similarity of restaurants in pair-wise\n",
    "    def eval_similarity_numComm(self):\n",
    "        # retrieve the dict for unique restaurants from self-constructor\n",
    "        restaurants = self.uniqueRestaurantId.items()\n",
    "        \n",
    "        # loop-over 'items'--restaurant id and its index stored in dict\n",
    "        for rest_1, idx_1 in restaurants:\n",
    "            for rest_2, idx_2 in restaurants:\n",
    "                if idx_1 < idx_2:\n",
    "                    similarity = calculate_similarity(self.df, rest_1, rest_2)[0]\n",
    "                    numCommonReviewer = calculate_similarity(self.df, rest_1, rest_2)[1]\n",
    "                    self.similarityMat[idx_1][idx_2] = similarity\n",
    "                    self.similarityMat[idx_2][idx_1] = similarity\n",
    "                    self.numCommonReviewer[idx_1][idx_2] = numCommonReviewer\n",
    "                    self.numCommonReviewer[idx_2][idx_1] = numCommonReviewer\n",
    "                elif idx_1 == idx_2:\n",
    "                    self.similarityMat[idx_1][idx_2] = 1\n",
    "                    self.numCommonReviewer[idx_1][idx_2] = len(self.df[self.df['business_id'] == rest_1]['user_id'].unique())\n",
    "    \n",
    "    # return the infomation we want to evaluate from df\n",
    "    def retrie_similarity_numComm(self, rest_1, rest_2):\n",
    "        similarity = self.similarityMat[self.uniqueRestaurantId[rest_1]][self.uniqueRestaurantId[rest_2]]\n",
    "        numComm = self.numCommonReviewer[self.uniqueRestaurantId[rest_1]][self.uniqueRestaurantId[rest_2]]\n",
    "        return (similarity, numComm)"
   ]
  },
  {
   "cell_type": "code",
   "execution_count": 42,
   "metadata": {
    "collapsed": false
   },
   "outputs": [],
   "source": [
    "db=reviewDB(train_subset_usrbiz_update)\n",
    "db.eval_similarity_numComm()"
   ]
  },
  {
   "cell_type": "code",
   "execution_count": 43,
   "metadata": {
    "collapsed": false
   },
   "outputs": [
    {
     "data": {
      "text/plain": [
       "(-0.36100635467383579, 5)"
      ]
     },
     "execution_count": 43,
     "metadata": {},
     "output_type": "execute_result"
    }
   ],
   "source": [
    "db.retrie_similarity_numComm('UL3OMN_c-NXHlyb97pDifA', '-AAig9FG0s8gYE4f8GfowQ')"
   ]
  },
  {
   "cell_type": "markdown",
   "metadata": {},
   "source": [
    "### K-Nearest restaurants (in similarity)"
   ]
  },
  {
   "cell_type": "markdown",
   "metadata": {},
   "source": [
    "We are now going to find the k-nearest restaurants to a given restaurant based on the database of similarities that we calculated. But we have a problem.\n",
    "\n",
    "Consider the two cases where there is just one common reviewer, and where there are 40. In the former case, we might get a artificially high similarity based on the tastes of just this user, and thus we must reduce its importance in the nearest-neighbor calculation. In the latter case, we would get a much more unbiased estimator of the similarity of the two restaurants.\n",
    "\n",
    "To control the effect of small common supports, we can **shrink** our pearson co-efficients. We shall do this by using the \"regularization\" parameter `reg`:\n",
    "\n",
    "$$s_{mj} = \\frac{N_{common}\\, \\rho_{mj}}{N_{common}+reg} $$\n",
    "\n",
    "where $N_{common}$ (`n_common`) is the common reviewer support and $\\rho_{ij}$ is the pearson co-relation coefficient.\n",
    "\n",
    "A good value of the regularizer is intuitively one that dosent affect the similarity when the common support is high ~ 10, but has a large effect when the support is small. In this case, values of 2-4 are good. Usually, the value of `reg` is determined using cross-validation, but for the sake of simplicity we will generally set it to 3.\n",
    "\n",
    "We define a function `shrunk_sim` which takes the `sim` and `n_common` obtained from the database, and shrinks the similarity down using the regularizer `reg`."
   ]
  },
  {
   "cell_type": "code",
   "execution_count": 44,
   "metadata": {
    "collapsed": true
   },
   "outputs": [],
   "source": [
    "regularRate = 3\n",
    "def regularized_similarity(similarity, numComm, regRate):\n",
    "    \"takes a similarity and shrinks it down by using the regularizer\"\n",
    "    regSimilarity=(numComm*similarity)/(numComm+regRate)\n",
    "    return regSimilarity"
   ]
  },
  {
   "cell_type": "code",
   "execution_count": 45,
   "metadata": {
    "collapsed": true
   },
   "outputs": [],
   "source": [
    "train_subset_usrbiz_Similarity = db.similarityMat\n",
    "train_subset_usrbiz_NumCommUsr = db.numCommonReviewer\n",
    "\n",
    "train_subset_usrbiz_RegSimilarity = regularized_similarity(train_subset_usrbiz_Similarity, \n",
    "                                                           train_subset_usrbiz_NumCommUsr, regularRate)"
   ]
  },
  {
   "cell_type": "code",
   "execution_count": 46,
   "metadata": {
    "collapsed": true
   },
   "outputs": [],
   "source": [
    "# to sort the table with string type and numeric type, we need to use itemgetter()\n",
    "from operator import itemgetter\n",
    "\n",
    "# given a restaurant id, we want to find its k nearest neighbors\n",
    "def restaurant_KNN(targetRest_id, otherRestaurant_ids, numK, regularRate, reviewClass):\n",
    "    similarityTable = []\n",
    "    \n",
    "    for otherRest_id in otherRestaurant_ids:\n",
    "        if otherRest_id != targetRest_id:\n",
    "            #print(otherRest_id)\n",
    "            similarity = reviewClass.retrie_similarity_numComm(targetRest_id, otherRest_id)[0]            \n",
    "            numComm = reviewClass.retrie_similarity_numComm(targetRest_id, otherRest_id)[1]\n",
    "            regularSimilarity = regularized_similarity(similarity, numComm, regularRate)\n",
    "            similarityTable.append([otherRest_id, regularSimilarity, numComm])\n",
    "            \n",
    "    # rank the similarity value in descending order\n",
    "    similarityTable = sorted(similarityTable, key=itemgetter(1), reverse=True)\n",
    "    return similarityTable[0:numK]"
   ]
  },
  {
   "cell_type": "code",
   "execution_count": 47,
   "metadata": {
    "collapsed": false
   },
   "outputs": [
    {
     "data": {
      "text/plain": [
       "(-0.092018140306249649, 4)"
      ]
     },
     "execution_count": 47,
     "metadata": {},
     "output_type": "execute_result"
    }
   ],
   "source": [
    "db.retrie_similarity_numComm(\"eIxSLxzIlfExI6vgAbn2JA\", 'L-uPZxooP_ziXCtRrWi8Pw') "
   ]
  },
  {
   "cell_type": "markdown",
   "metadata": {},
   "source": [
    "#### Get top matches\n",
    "\n",
    "Its now time to answer the question: \"if you liked this, you might also like these\". We use our `testbizid` and `testbizid2` to compute the `k=7` nearest neighbors with a regularization of `3.` . We print these top 7 matches names, along with their similarity coefficient and common support."
   ]
  },
  {
   "cell_type": "code",
   "execution_count": 48,
   "metadata": {
    "collapsed": true
   },
   "outputs": [],
   "source": [
    "targetRestId=\"eIxSLxzIlfExI6vgAbn2JA\"\n",
    "targetRestId2=\"L-uPZxooP_ziXCtRrWi8Pw\""
   ]
  },
  {
   "cell_type": "code",
   "execution_count": 49,
   "metadata": {
    "collapsed": false
   },
   "outputs": [
    {
     "data": {
      "text/plain": [
       "'Lobbys Beef Burgers Dogs'"
      ]
     },
     "execution_count": 49,
     "metadata": {},
     "output_type": "execute_result"
    }
   ],
   "source": [
    "train_subset_usrbiz_update[train_subset_usrbiz_update['business_id'] == targetRestId]['biz_name'].unique()[0]"
   ]
  },
  {
   "cell_type": "code",
   "execution_count": 50,
   "metadata": {
    "collapsed": true
   },
   "outputs": [],
   "source": [
    "def restNameFromId(df, theid):\n",
    "    return df[df['business_id'] == theid]['biz_name'].unique()"
   ]
  },
  {
   "cell_type": "code",
   "execution_count": 52,
   "metadata": {
    "collapsed": false
   },
   "outputs": [
    {
     "name": "stdout",
     "output_type": "stream",
     "text": [
      "eIxSLxzIlfExI6vgAbn2JA ['Lobbys Beef Burgers Dogs']\n",
      "L-uPZxooP_ziXCtRrWi8Pw ['Café Monarch']\n"
     ]
    }
   ],
   "source": [
    "print( targetRestId, restNameFromId(train_subset_usrbiz_update, targetRestId))\n",
    "print( targetRestId2, restNameFromId(train_subset_usrbiz_update, targetRestId2))"
   ]
  },
  {
   "cell_type": "code",
   "execution_count": 53,
   "metadata": {
    "collapsed": false
   },
   "outputs": [
    {
     "name": "stdout",
     "output_type": "stream",
     "text": [
      "For  Lobbys Beef Burgers Dogs , top matches are:\n",
      "0 La Condesa Gourmet Taco Shop | Sim 0.598714448434 | Support 6\n",
      "1 Citizen Public House | Sim 0.571428571429 | Support 4\n",
      "2 FnB | Sim 0.527129890943 | Support 5\n",
      "3 Defalco's Italian Grocery | Sim 0.519456555658 | Support 6\n",
      "4 Republic Ramen + Noodles | Sim 0.519140146937 | Support 5\n",
      "5 unPhogettable | Sim 0.5 | Support 3\n",
      "6 Haus Murphy's | Sim 0.467637235308 | Support 3\n"
     ]
    }
   ],
   "source": [
    "tops = restaurant_KNN(targetRestId, train_subset_usrbiz_update['business_id'].unique(), 7, 3, db)\n",
    "print( 'For ', restNameFromId(train_subset_usrbiz_update, targetRestId)[0], ', top matches are:')\n",
    "for i, (rest_id, sim, nc) in enumerate(tops):\n",
    "    print( i, restNameFromId(train_subset_usrbiz_update, rest_id)[0], '| Sim', sim, '| Support',nc)"
   ]
  },
  {
   "cell_type": "code",
   "execution_count": 54,
   "metadata": {
    "collapsed": false
   },
   "outputs": [
    {
     "name": "stdout",
     "output_type": "stream",
     "text": [
      "For  Café Monarch , top matches are:\n",
      "0 Postino Arcadia | Sim 0.625 | Support 5\n",
      "1 The Main Ingredient Ale House And Café | Sim 0.571428571429 | Support 4\n",
      "2 Brio Tuscan Grille | Sim 0.571428571429 | Support 4\n",
      "3 Kazimierz World Wine Bar | Sim 0.5 | Support 3\n",
      "4 Harlow's Cafe | Sim 0.5 | Support 3\n",
      "5 The Fry Bread House | Sim 0.5 | Support 3\n",
      "6 Cien Agaves Tacos & Tequila | Sim 0.5 | Support 3\n"
     ]
    }
   ],
   "source": [
    "tops2 = restaurant_KNN(targetRestId2, train_subset_usrbiz_update['business_id'].unique(), 7, 3, db)\n",
    "print( 'For ',restNameFromId(train_subset_usrbiz_update, targetRestId2)[0], ', top matches are:')\n",
    "for i, (rest_id, sim, nc) in enumerate(tops2):\n",
    "    print( i, restNameFromId(train_subset_usrbiz_update, rest_id)[0], '| Sim', sim, '| Support',nc)"
   ]
  },
  {
   "cell_type": "markdown",
   "metadata": {},
   "source": [
    "what are the top recommendations for a user? To answer this we must find the user's top rated restaurants, find the nearest neighbors of these restaurants, merge these lists while removing the duplicates and the ones that the user has already rated, and sort by the restaurant's average rating. We provide the code to get the user's top choices in a subset data frame."
   ]
  },
  {
   "cell_type": "code",
   "execution_count": 55,
   "metadata": {
    "collapsed": false
   },
   "outputs": [
    {
     "data": {
      "text/plain": [
       "2778    Essence Bakery Café\n",
       "Name: biz_name, dtype: object"
      ]
     },
     "execution_count": 55,
     "metadata": {},
     "output_type": "execute_result"
    }
   ],
   "source": [
    "usrID = train_subset_usrbiz_update['user_id'].unique()[np.random.randint(0, len(train_subset_usrbiz_update['user_id'].unique()))]\n",
    "usrDF = train_subset_usrbiz_update[train_subset_usrbiz_update['user_id'] == usrID ]\n",
    "usr_sort_restRates_DF = usrDF.sort_values('stars', ascending=False)\n",
    "usr_TopFavor_rest_idx = np.argwhere(usr_sort_restRates_DF['stars'] == usr_sort_restRates_DF['stars'].max()).ravel()\n",
    "usr_TopFavor_rest = usr_sort_restRates_DF.iloc[usr_TopFavor_rest_idx]\n",
    "usr_TopFavor_rest['biz_name']"
   ]
  },
  {
   "cell_type": "code",
   "execution_count": 56,
   "metadata": {
    "collapsed": true
   },
   "outputs": [],
   "source": [
    "def get_user_toppest_choices(user_id, df):\n",
    "    usrDF = df[df['user_id'] == user_id ]\n",
    "    usr_sort_restRates_DF = usrDF.sort_values('stars', ascending=False)\n",
    "    usr_TopFavor_rest_idx = np.argwhere(usr_sort_restRates_DF['stars'] == usr_sort_restRates_DF['stars'].max()).ravel()\n",
    "    rest_toppest_DF = usr_sort_restRates_DF.iloc[usr_TopFavor_rest_idx]\n",
    "    return rest_toppest_DF"
   ]
  },
  {
   "cell_type": "code",
   "execution_count": 57,
   "metadata": {
    "collapsed": false
   },
   "outputs": [
    {
     "data": {
      "text/plain": [
       "5201    Tee Pee Mexican Food\n",
       "5056            Local Breeze\n",
       "3583          Carly's Bistro\n",
       "Name: biz_name, dtype: object"
      ]
     },
     "execution_count": 57,
     "metadata": {},
     "output_type": "execute_result"
    }
   ],
   "source": [
    "get_user_toppest_choices(\"7cR92zkDv4W3kqzii6axvg\", train_subset_usrbiz_update)['biz_name']"
   ]
  },
  {
   "cell_type": "code",
   "execution_count": 58,
   "metadata": {
    "collapsed": true
   },
   "outputs": [],
   "source": [
    "#usr_sort_restRates_DF"
   ]
  },
  {
   "cell_type": "code",
   "execution_count": 59,
   "metadata": {
    "collapsed": true
   },
   "outputs": [],
   "source": [
    "def get_user_top_choices(user_id, df, numchoices=5):\n",
    "    \"get the sorted top 5 restaurants for a user by the star rating the user gave them\"\n",
    "    udf=df[df['user_id']==user_id][['business_id','stars']].sort_values('stars', ascending=False).head(numchoices)\n",
    "    return udf"
   ]
  },
  {
   "cell_type": "code",
   "execution_count": 60,
   "metadata": {
    "collapsed": true
   },
   "outputs": [],
   "source": [
    "def userNameFromId(df, theid):\n",
    "    return df[df['user_id'] == theid]['user_name'].unique()"
   ]
  },
  {
   "cell_type": "code",
   "execution_count": 61,
   "metadata": {
    "collapsed": false
   },
   "outputs": [
    {
     "name": "stdout",
     "output_type": "stream",
     "text": [
      "For user ['Vern'] top choices are:\n"
     ]
    },
    {
     "data": {
      "text/plain": [
       "['Tee Pee Mexican Food',\n",
       " 'Local Breeze',\n",
       " \"Carly's Bistro\",\n",
       " 'District American Kitchen and Wine Bar',\n",
       " 'Sonora Mesquite Grill']"
      ]
     },
     "execution_count": 61,
     "metadata": {},
     "output_type": "execute_result"
    }
   ],
   "source": [
    "testuserid=\"7cR92zkDv4W3kqzii6axvg\"\n",
    "print( \"For user\", userNameFromId(train_subset_usrbiz_update,testuserid), \"top choices are:\" )\n",
    "bizs=get_user_top_choices(testuserid, train_subset_usrbiz_update)['business_id'].values\n",
    "[restNameFromId(train_subset_usrbiz_update, biz_id)[0] for biz_id in bizs]"
   ]
  },
  {
   "cell_type": "markdown",
   "metadata": {},
   "source": [
    "#### Get top recommendations for user."
   ]
  },
  {
   "cell_type": "markdown",
   "metadata": {},
   "source": [
    "**1.7** Write a function `get_top_recos_for_user` which takes as arguments a `userid`, the `n` top choices for the user, the dataframe, `k`, and a regularizer, and returns the top recommendations obtained from combining the restaurants that are neighbors of each of the `n` choices, in the way described in the previous paragraph. This returned list is a list of tuples `(restaurant_id, business_avg)` sorted by `business_avg` where `business_avg` is the average rating of the restaurant over the dataframe."
   ]
  },
  {
   "cell_type": "code",
   "execution_count": 62,
   "metadata": {
    "collapsed": true
   },
   "outputs": [],
   "source": [
    "# the idea is to retrieve the favorite restaurants of the underlying user\n",
    "# then find the similar restaurants in the dataset through KNN, \n",
    "# see if all resturants have been rated by the underlying user.\n",
    "# If not, for those not been rated by user, we retrieve their rates (stars) from other and evaluate their average values\n",
    "# and rank all average rate values. Recommend the top-N rating restaurants to user\n",
    "\n",
    "def get_top_recos_for_user(user_id, top_n, df, KNN, regularRate, reviewClass):\n",
    "    # 1. get the favorite restaurants of user and the restaurants rated by user\n",
    "    #rest_toppest_DF = get_user_toppest_choices(user_id, df)\n",
    "    rest_toppest_DF = get_user_top_choices(user_id, df, top_n)\n",
    "    rated_restaurants = df[df['user_id'] == user_id]['business_id'].unique()\n",
    "    \n",
    "    \n",
    "    # 2. get the K similar most resturants\n",
    "    all_restaurants_ids = df['business_id'].unique()\n",
    "    similar_notRated_restaurants = []\n",
    "    \n",
    "    for rated_restaurant in rated_restaurants:\n",
    "        k_Restaurant = restaurant_KNN(rated_restaurant, all_restaurants_ids, KNN, regularRate, reviewClass)\n",
    "        for similar_restaurant in k_Restaurant:\n",
    "            if similar_restaurant[0] not in rated_restaurants:\n",
    "                similar_notRated_restaurants.append(similar_restaurant)\n",
    "               \n",
    "    # 2.1 get the unique restaurants ids which are not rated by user but are similar to user's favorite restaurants\n",
    "    rest_ids = [rest[0] for rest in similar_notRated_restaurants]\n",
    "    similar_notRated_restaurants_unique_Id = list(set(rest_ids))\n",
    "    \n",
    "    # 3. retrieve the average rates of \n",
    "    # the unique restaurants ids which are not rated by user but are similar to user's favorite restaurants\n",
    "    similar_notRated_restaurants_rate = []\n",
    "    for rest_id in similar_notRated_restaurants_unique_Id:\n",
    "        avg_rate = df[df['business_id'] == rest_id]['stars'].mean()\n",
    "        similar_notRated_restaurants_rate.append([rest_id, avg_rate])\n",
    "        \n",
    "    ## 4. sort the restaurants by their averaged rating\n",
    "    similar_notRated_restaurants_rate_sort = sorted(similar_notRated_restaurants_rate, key=itemgetter(1), reverse=True)\n",
    "    \n",
    "    if top_n < len(similar_notRated_restaurants_rate_sort):\n",
    "        return (similar_notRated_restaurants_rate_sort[0:top_n])\n",
    "    else:\n",
    "        return (similar_notRated_restaurants_rate_sort)\n",
    "    \n",
    "    #return similar_notRated_restaurants_rate"
   ]
  },
  {
   "cell_type": "code",
   "execution_count": 63,
   "metadata": {
    "collapsed": true
   },
   "outputs": [],
   "source": [
    "top_rest4userNotRate = get_top_recos_for_user(testuserid, 5, train_subset_usrbiz_update, 7, 3, db)"
   ]
  },
  {
   "cell_type": "code",
   "execution_count": 64,
   "metadata": {
    "collapsed": false
   },
   "outputs": [
    {
     "data": {
      "text/plain": [
       "[['IuAPYzf3NSyfyXYgT46YVA', 4.428571428571429],\n",
       " ['SDwYQ6eSu1htn8vHWv128g', 4.389830508474576],\n",
       " ['5kRug3bEienrpovtPRVVwg', 4.379310344827586],\n",
       " ['wN_wAXWg8W94v04eqijy6g', 4.357142857142857],\n",
       " ['8t80-omyflkywRfu9LPh6g', 4.294117647058823]]"
      ]
     },
     "execution_count": 64,
     "metadata": {},
     "output_type": "execute_result"
    }
   ],
   "source": [
    "top_rest4userNotRate"
   ]
  },
  {
   "cell_type": "code",
   "execution_count": 65,
   "metadata": {
    "collapsed": false
   },
   "outputs": [
    {
     "name": "stdout",
     "output_type": "stream",
     "text": [
      "FnB 4.428571428571429\n",
      "Postino Arcadia 4.389830508474576\n",
      "Rokerij 4.379310344827586\n",
      "Tacos Atoyac 4.357142857142857\n",
      "Wildfish Seafood Grille 4.294117647058823\n"
     ]
    }
   ],
   "source": [
    "top_rest4user_ids = [rest[0] for rest in top_rest4userNotRate]\n",
    "\n",
    "for j, rest_id in enumerate(top_rest4user_ids):\n",
    "    top_rest4user = train_subset_usrbiz_update[train_subset_usrbiz_update['business_id'] == rest_id]\n",
    "    print(top_rest4user[top_rest4user['business_id'].duplicated()==False]['biz_name'].values[0], top_rest4userNotRate[j][1])"
   ]
  },
  {
   "cell_type": "markdown",
   "metadata": {},
   "source": [
    "## 2. A user based recommender with predicted ratings\n",
    "\n",
    "A restaurant is new (new item problem) or a user is new (cold start problem). Or in the case when there are very few reviewers of a restaurant, or very few reviews by a user respectively. Notice that in adding in the similarity term, we subtract the baseline estimate from the observed rating of the user's neighbor items."
   ]
  },
  {
   "cell_type": "markdown",
   "metadata": {},
   "source": [
    "### Defining the predicted rating\n",
    "\n"
   ]
  },
  {
   "cell_type": "markdown",
   "metadata": {},
   "source": [
    "Write a function `knearest_amongst_userrated`, analogous to the `knearest` function we defined above, to find the nearest `k` neighbors to a given restaurant from the **restaurants that the user has already rated**. This function will take as arguments the `restaurant_id`, the `user_id`, the dataframe of reviews, the database, the `k`, and the regularizer `reg`. Just like before, return a *k-length sorted list* of 3-tuples each corresponding to a restaurant.  HINT: use the `knearest` function you defined earlier"
   ]
  },
  {
   "cell_type": "code",
   "execution_count": 66,
   "metadata": {
    "collapsed": true
   },
   "outputs": [],
   "source": [
    "def knearest_amongst_userrated(target_rest_id, user_id, df, reviewDB, numKNN, regularzRate):\n",
    "    \n",
    "    # restaurants that user rated\n",
    "    rest_user_rated_ids = df[df['user_id'] == user_id]['business_id'].unique()\n",
    "\n",
    "    #for rest_user_rated_id in rest_user_rated_ids:\n",
    "        #KNN_rest = restaurant_KNN(rest_user_rated_id, all_rest_ids, numKNN, regularzRate, reviewDB)\n",
    "        #restaurant_KNN(rest_user_rated_id, all_rest_ids, numKNN, regularzRate, reviewDB)\n",
    "        #KNN_rests.append(KNN_rest)\n",
    "    \n",
    "    # evaluate the K(-th) restaurants similar the most among user rated wrt the target restaurant\n",
    "    similar_rest_userRated_wrt_target_rest = restaurant_KNN(target_rest_id, rest_user_rated_ids, numKNN, regularzRate, reviewDB)\n",
    "    \n",
    "    return similar_rest_userRated_wrt_target_rest"
   ]
  },
  {
   "cell_type": "code",
   "execution_count": 68,
   "metadata": {
    "collapsed": false
   },
   "outputs": [
    {
     "data": {
      "text/plain": [
       "[['KGX7O-_WqOIy9o7u9NOa9A', 0.47282507162257564, 3],\n",
       " ['TfTlOE6h9E9o34dEkw9L_w', 0.40000000000000002, 2],\n",
       " ['bzDs0u8I-z231QVdIQWkrA', 0.40000000000000002, 2],\n",
       " ['zmFc8M-hS4uuyY0hklIpoQ', 0.40000000000000002, 2],\n",
       " ['GAPqG0WNBBidKeZTMpEZ-w', 0.40000000000000002, 2],\n",
       " ['zOCdVUKUN3b-obT67Qjyww', 0.40000000000000002, 2],\n",
       " ['IVc23uY-36WUNYoIbz42Fg', 0.33658267086726062, 5]]"
      ]
     },
     "execution_count": 68,
     "metadata": {},
     "output_type": "execute_result"
    }
   ],
   "source": [
    "knearest_amongst_userrated(targetRestId2, testuserid, train_subset_usrbiz_update, db, 7, 3)"
   ]
  },
  {
   "cell_type": "markdown",
   "metadata": {},
   "source": [
    "**2.2** Now write a function that returns the predicted rating for a user and an item using the formula:\n",
    "\n",
    "$$ \\hat{Y_{um}} = \\hat Y^{baseline}_{um}\\, + \\,\\frac{\\sum\\limits_{j \\in S^{k}(m;u)} s_{mj} ( Y_{uj} - \\hat Y^{baseline}_{uj} )}{\\sum\\limits_{j \\in S^{k}(m;u)} s_{mj} } $$\n",
    "\n",
    "$$\\hat Y^{baseline}=user_{avg} + restaurant_{avg} - allRestaurantStars_{avg} $$\n",
    "\n",
    "where $s^{k}(m;u)$ is the $k$ neighbor items of item $m$ which have been rated by user $u$.\n",
    "\n",
    "Include code to deal with the possibility that the sum of scores that goes in the denominator is 0: return an predicted rating of the baseline portion of the formula in that case. This function `rating` takes as arguments the dataframe, the database, the wanted `restaurant_id` and `user_id`, and `k` as well as the regularizer."
   ]
  },
  {
   "cell_type": "code",
   "execution_count": 69,
   "metadata": {
    "collapsed": true
   },
   "outputs": [],
   "source": [
    "def rating(rest_id, user_id, df, reviewDB):\n",
    "    \n",
    "    \n",
    "    return "
   ]
  },
  {
   "cell_type": "code",
   "execution_count": null,
   "metadata": {
    "collapsed": true
   },
   "outputs": [],
   "source": [
    "r_reviews_row=df[df.user_id==user_id][df[df.user_id==user_id]['business_id']==r]"
   ]
  },
  {
   "cell_type": "markdown",
   "metadata": {},
   "source": [
    "# Model-Based Recommendations"
   ]
  },
  {
   "cell_type": "markdown",
   "metadata": {},
   "source": [
    "####Rating Model Specification####\n",
    "\n",
    "To make this model concrete, we can write down our probability model as a generative process. First, we define the following quantities:\n",
    "\n",
    "Counts:\n",
    "\n",
    "* $L$: The number of latent factors.\n",
    "\n",
    "* $U$: The number of users.\n",
    "\n",
    "* $M$: The number of items (restaurants).\n",
    "\n",
    "* $N$: The number of observed ratings.\n",
    "\n",
    "Data:\n",
    "\n",
    "* $Y_{um}$: The star rating given to restaurant $m$ by user $u$.\n",
    "* $Y$: The full collection of observed star ratings.\n",
    "\n",
    "Item-specific quantities:\n",
    "\n",
    "* $\\gamma_m$: An item-specific parameter vector of length $L+1$. The first element of $\\gamma_m$, denoted $\\gamma_m[0]$ is the item-specific bias. The remaining $L$ elements of $\\gamma_m$, denoted $\\gamma_m[1:]$, are the latent factors associated with item $m$.\n",
    "\n",
    "* $\\Gamma$: An $M$ by $L+1$ matrix where the $m$th row is $\\gamma_m$.\n",
    "\n",
    "User-specific quantities:\n",
    "\n",
    "* $\\theta_u$: A user-specific parameter vector of length $L+1$. The first element of $\\theta_u$, denoted $\\theta_u[0]$ is the user-specific bias. The remaining $L$ elements of $\\theta_u$, denoted $\\theta_u[1:]$, are user $u$'s preferences for the latent factors.\n",
    "\n",
    "* $\\Theta$: A $U$ by $L+1$ matrix where the $u$th row is $\\theta_u$.\n",
    "\n",
    "Global quantities:\n",
    "\n",
    "* $\\mu$: The overall ratings mean.\n",
    "\n",
    "* $\\sigma$: The residual variance of ratings after the mean, bias terms, and latent factors have been taken into account.\n",
    "\n",
    "Using these quantities, we can specify our model for each rating $Y_{um}$ similarly to a linear regression:\n",
    "\n",
    "$$Y_{um} = \\mu + \\theta_{u}[0] + \\gamma_{m}[0] + \\theta_{u}[1:]^{\\top}\\gamma_{m}[1:] + \\epsilon_{um}$$\n",
    "\n",
    "where\n",
    "\n",
    "$$\\epsilon_{um} \\sim N(0, \\sigma).$$\n",
    "\n",
    "Note that while this looks like a linear regression, it is of a slightly different form because the latent factor term involves the product of two unknowns. This is like a linear regression where we forgot to measure some covariates.\n",
    "\n",
    "We also assume the following priors on the user-specific and item-specific parameters:\n",
    "\n",
    "$$\n",
    "\\begin{align*}\n",
    "\\gamma_m &\\sim MVN(\\mathbf 0, \\Lambda_\\gamma^{-1})\\\\\n",
    "\\theta_u &\\sim MVN(\\mathbf 0, \\Lambda_\\theta^{-1}),\n",
    "\\end{align*}\n",
    "$$\n",
    "\n",
    "where $MVN$ means multivariate normal, $\\mathbf 0$ is vector of length $L+1$ filled with zeros, and $\\Lambda_\\theta^{-1}$ and $\\Lambda_\\gamma^{-1}$ are $L+1 \\times L+1$ covariance matrices. $\\mu$ and $\\sigma$ also have priors, but they are not relevant to your task so we won't write them here."
   ]
  },
  {
   "cell_type": "markdown",
   "metadata": {},
   "source": [
    "#### Goal for this Model####\n",
    "Using this model, we want to make inference about all of the quantities that, if we knew them, would allow us to sample $Y_{um}$ for any user and any item. These quantities are $\\mu$, $\\sigma$, and the elements of $\\Theta$ and $\\Gamma$."
   ]
  },
  {
   "cell_type": "markdown",
   "metadata": {},
   "source": [
    "The draw from $\\gamma_{m'}$ given everything else then has the form:\n",
    "$$ \\gamma_{m'} \\mid Y, \\mu, \\sigma, \\Gamma_{-m'}, \\Theta \\sim MVN\\left(Q_{m'}^{-1} \\frac{1}{\\sigma^2}X_{m'}^\\top Y_{m'}, Q_{m'}^{-1}\\right)$$\n",
    "where\n",
    "$$ Q_{m'} = \\left(\\frac{1}{\\sigma^2}X_{m'}^\\top X_{m'} + \\Lambda_\\gamma\\right).$$"
   ]
  },
  {
   "cell_type": "code",
   "execution_count": 70,
   "metadata": {
    "collapsed": true
   },
   "outputs": [],
   "source": [
    "#Item-specific parameters given all else\n",
    "#your code here\n",
    "def gamma_m_draw(X_m, Y_m, sig2, Lambda_gamma):\n",
    "\n",
    "    #Compute matrices that define conditional posterior.\n",
    "    Q_m_inv = np.linalg.inv(np.dot(X_m.T, X_m)/sig2+Lambda_gamma)\n",
    "    XtY = np.dot(X_m.T, Y_m)\n",
    "\n",
    "    #Draw item-specific parameters.\n",
    "    return np.random.multivariate_normal(np.dot(Q_m_inv, XtY)/sig2, Q_m_inv)"
   ]
  },
  {
   "cell_type": "markdown",
   "metadata": {},
   "source": [
    "the draw from $\\theta_{u'}$ given everything else has the form:\n",
    "$$ \\theta_{u'} \\mid Y, \\mu, \\sigma, \\Gamma, \\Theta_{-u'} \\sim MVN\\left(Q_{u'}^{-1} \\frac{1}{\\sigma^2}X_{u'}^\\top Y_{u'}, Q_{u'}^{-1}\\right)$$\n",
    "where\n",
    "$$ Q_{u'}= \\left(\\frac{1}{\\sigma^2}X_{u'}^\\top X_{u'} + \\Lambda_\\theta\\right).$$"
   ]
  },
  {
   "cell_type": "code",
   "execution_count": 71,
   "metadata": {
    "collapsed": true
   },
   "outputs": [],
   "source": [
    "#User-specific parameters given all else\n",
    "#your code here\n",
    "def theta_u_draw(X_u, Y_u, sig2, Lambda_theta):\n",
    "    #Compute matrices that define conditional posterior.\n",
    "    Q_u_inv = np.linalg.inv(np.dot(X_u.T, X_u)/sig2+Lambda_theta)\n",
    "    XtY = np.dot(X_u.T, Y_u)\n",
    "    \n",
    "    #Draw the user-specific parameters\n",
    "    return np.random.multivariate_normal(np.dot(Q_u_inv, XtY)/sig2, Q_u_inv)"
   ]
  },
  {
   "cell_type": "markdown",
   "metadata": {},
   "source": [
    "Here is the Gibbs sampler skeleton that your functions fit into. Look over the structure to see how for each draw from the posterior, the sampler iterates through $\\mu$, $\\sigma$, $\\gamma_m$ for each item, and $\\theta_u$ for each user."
   ]
  },
  {
   "cell_type": "code",
   "execution_count": 72,
   "metadata": {
    "collapsed": true
   },
   "outputs": [],
   "source": [
    "# maxit: Number of samples to draw from posterior.\n",
    "def factor_gibbs(data, L, gibbsIter, Lambda_theta_diag, Lambda_gamma_diag, progress=True):\n",
    "    data = data.copy()\n",
    "    N = data.shape[0]\n",
    "\n",
    "    #Create indices that allow us to map users and restaurants to rows\n",
    "    #in parameter vectors.\n",
    "    uusers, uidx = np.unique(data.user_id, return_inverse=True)\n",
    "    uitems, midx = np.unique(data.business_id, return_inverse=True)\n",
    "\n",
    "    nusers = uusers.size\n",
    "    nitems = uitems.size\n",
    "\n",
    "    #Add numerical indices to dataframe.\n",
    "    data[\"uidx\"] = uidx\n",
    "    data[\"midx\"] = midx\n",
    "\n",
    "    #Group observations by user and by business.\n",
    "    ugroups = data.groupby(\"uidx\")\n",
    "    mgroups = data.groupby(\"midx\")\n",
    "\n",
    "    all_avg = data.stars.mean()\n",
    "    u_avg = ugroups.stars.mean()\n",
    "    m_avg = mgroups.stars.mean()\n",
    "\n",
    "    #Initialize parameters and set up data structures for\n",
    "    #holding draws.\n",
    "    #Overall mean\n",
    "    mu = all_avg\n",
    "    mu_draws = np.zeros(gibbsIter)\n",
    "    \n",
    "    #Residual variance\n",
    "    sig2 = 0.5\n",
    "    sig2_draws = np.zeros(gibbsIter)\n",
    "\n",
    "    #Matrix of user-specific bias and L latent factors.\n",
    "    theta = np.zeros([nusers, L+1])\n",
    "    theta[:,0] = u_avg-all_avg\n",
    "    theta_draws = np.zeros([nusers, L+1, gibbsIter])\n",
    "\n",
    "    #Matrix of item-specific bias and L latent factors.\n",
    "    gamma = np.zeros([nitems, L+1])\n",
    "    gamma[:,0] = m_avg-all_avg\n",
    "    gamma_draws = np.zeros([nitems, L+1, gibbsIter])\n",
    "\n",
    "    #Matrix for holding the expected number of stars\n",
    "    #for each observation at each draw from the posterior.\n",
    "    EY_draws = np.zeros([data.shape[0], gibbsIter])\n",
    "\n",
    "    #Inverse covariance matrices from the prior on each theta_u\n",
    "    #and gamma_b. These are diagonal, like Ridge regression.\n",
    "    Lambda_theta = np.eye(L+1)*Lambda_theta_diag\n",
    "    Lambda_gamma = np.eye(L+1)*Lambda_gamma_diag\n",
    "\n",
    "    #Main sampler code\n",
    "    for i in range(gibbsIter):\n",
    "        if i%100==0 and progress:\n",
    "            print(i)\n",
    "\n",
    "        #The entire regression equation except for the overall mean.\n",
    "        nomu = np.sum(theta[data.uidx,1:]*gamma[data.midx,1:], axis=1) +\\\n",
    "                  theta[data.uidx,0] + gamma[data.midx,0]\n",
    "\n",
    "        #Compute the expectation of each observation given the current\n",
    "        #parameter values.\n",
    "        EY_draws[:,i]=mu+nomu\n",
    "\n",
    "        #Draw overall mean from a normal distribution\n",
    "        mu = np.random.normal(np.mean(data.stars-nomu), np.sqrt(sig2/N))\n",
    "        #Draw overall residual variance from a scaled inverse-Chi squared distribution.\n",
    "        sig2 = np.sum(np.power(data.stars-nomu-mu,2))/np.random.chisquare(N-2)\n",
    "        \n",
    "        #For each item\n",
    "        for mi,itemdf in mgroups:\n",
    "            #Gather relevant observations, and subtract out overall mean and\n",
    "            #user-specific biases, which we are holding fixed.\n",
    "            Y_m = itemdf.stars-mu-theta[itemdf.uidx,0]\n",
    "            #Build the regression design matrix implied by holding user factors\n",
    "            #fixed.\n",
    "            X_m = np.hstack((np.ones([itemdf.shape[0],1]),\n",
    "                             theta[itemdf.uidx,1:]))\n",
    "            gamma[mi,:] = gamma_m_draw(X_m, Y_m, sig2, Lambda_gamma)\n",
    "            \n",
    "        #For each user\n",
    "        for ui,userdf in ugroups:\n",
    "            #Gather relevant observations, and subtract out overall mean and\n",
    "            #business-specific biases, which we are holding fixed.\n",
    "            Y_u = userdf.stars-mu-gamma[userdf.midx,0]\n",
    "            #Build the regression design matrix implied by holding business factors\n",
    "            #fixed.\n",
    "            X_u = np.hstack((np.ones([userdf.shape[0],1]),\n",
    "                             gamma[userdf.midx,1:]))\n",
    "            \n",
    "            theta[ui,:] = theta_u_draw(X_u, Y_u, sig2, Lambda_theta)\n",
    "\n",
    "        #Record draws\n",
    "        mu_draws[i] = mu\n",
    "        sig2_draws[i] = sig2\n",
    "        theta_draws[:,:,i] = theta\n",
    "        gamma_draws[:,:,i] = gamma\n",
    "\n",
    "    return {\"mu\": mu_draws, \"sig2\": sig2_draws,\n",
    "            \"theta\": theta_draws, \"gamma\": gamma_draws,\n",
    "            \"EY\": EY_draws}"
   ]
  },
  {
   "cell_type": "code",
   "execution_count": 73,
   "metadata": {
    "collapsed": false
   },
   "outputs": [
    {
     "name": "stdout",
     "output_type": "stream",
     "text": [
      "0\n",
      "100\n",
      "200\n",
      "300\n",
      "400\n",
      "500\n",
      "600\n",
      "700\n",
      "800\n",
      "900\n"
     ]
    }
   ],
   "source": [
    "#your code here\n",
    "numlLatentFeature = 2\n",
    "gibbs_out_numLatent_2 = factor_gibbs(train_subset_usrbiz_update, numlLatentFeature, 1000, 0.1, 0.1)\n",
    "burnin = 200\n",
    "predictedGibbs_numLatent_2 = np.mean(gibbs_out_numLatent_2['EY'][:, burnin:], axis=1)"
   ]
  },
  {
   "cell_type": "code",
   "execution_count": 75,
   "metadata": {
    "collapsed": false
   },
   "outputs": [
    {
     "data": {
      "text/plain": [
       "[<matplotlib.lines.Line2D at 0x11d9e8ef0>]"
      ]
     },
     "execution_count": 75,
     "metadata": {},
     "output_type": "execute_result"
    },
    {
     "data": {
      "image/png": "[encoded data removed]",
      "text/plain": [
       "<matplotlib.figure.Figure at 0x11bbbfe48>"
      ]
     },
     "metadata": {},
     "output_type": "display_data"
    }
   ],
   "source": [
    "plt.plot(gibbs_out_numLatent_2['theta'][44, 1, burnin:1000])"
   ]
  },
  {
   "cell_type": "code",
   "execution_count": 76,
   "metadata": {
    "collapsed": false
   },
   "outputs": [
    {
     "data": {
      "image/png": "[encoded data removed]",
      "text/plain": [
       "<matplotlib.figure.Figure at 0x11a18a3c8>"
      ]
     },
     "metadata": {},
     "output_type": "display_data"
    }
   ],
   "source": [
    "fig=plt.figure()\n",
    "stars_actual=train_subset_usrbiz_update.stars.values\n",
    "df=pd.DataFrame(dict(actual=stars_actual, predicted=predictedGibbs_numLatent_2))\n",
    "ax=plt.scatter(df.actual, df.predicted, alpha=0.2, s=30, label=\"predicted\")\n",
    "plt.title('Gibbs sampler for recommender using {0} latent features'.format(numlLatentFeature))\n",
    "plt.legend(loc = 'upper left', frameon=False);"
   ]
  },
  {
   "cell_type": "code",
   "execution_count": 77,
   "metadata": {
    "collapsed": false
   },
   "outputs": [
    {
     "data": {
      "image/png": "[encoded data removed]",
      "text/plain": [
       "<matplotlib.figure.Figure at 0x11d86df98>"
      ]
     },
     "metadata": {},
     "output_type": "display_data"
    }
   ],
   "source": [
    "fig=plt.figure()\n",
    "stars_actual=train_subset_usrbiz_update.stars.values\n",
    "df=pd.DataFrame(dict(actual=stars_actual, predicted=predictedGibbs_numLatent_2))\n",
    "ax=plt.scatter(df.actual, df.predicted, alpha=0.2, s=30, label=\"predicted\")\n",
    "\n",
    "xp=[1,2,3,4,5]\n",
    "yp=df.groupby('actual').predicted.mean().values\n",
    "plt.title('Gibbs sampler for recommender using {0} latent features'.format(numlLatentFeature))\n",
    "plt.plot(xp,yp,'k', label=\" predicted means\");\n",
    "plt.legend(loc = 'upper left', frameon=False);"
   ]
  },
  {
   "cell_type": "code",
   "execution_count": 78,
   "metadata": {
    "collapsed": false
   },
   "outputs": [
    {
     "data": {
      "image/png": "[encoded data removed]",
      "text/plain": [
       "<matplotlib.figure.Figure at 0x11a7539e8>"
      ]
     },
     "metadata": {},
     "output_type": "display_data"
    }
   ],
   "source": [
    "fig=plt.figure()\n",
    "stars_actual=train_subset_usrbiz_update.stars.values\n",
    "df=pd.DataFrame(dict(actual=stars_actual, predicted=predictedGibbs_numLatent_2))\n",
    "ax=plt.scatter(df.actual, df.predicted, alpha=0.2, s=30, label=\"predicted\")\n",
    "\n",
    "xp=[1,2,3,4,5]\n",
    "yp=df.groupby('actual').predicted.mean().values\n",
    "plt.plot(xp,yp,'k', label=\" predicted means\");\n",
    "sig=df.groupby('actual').predicted.std().values\n",
    "plt.fill_between(xp, yp - sig, yp + sig, \n",
    "             color='k', alpha=0.2, label='68% CI');\n",
    "plt.title('Gibbs sampler for recommender using {0} latent features'.format(numlLatentFeature))\n",
    "plt.legend(loc = 'upper left', frameon=False);"
   ]
  },
  {
   "cell_type": "code",
   "execution_count": 79,
   "metadata": {
    "collapsed": false
   },
   "outputs": [
    {
     "data": {
      "image/png": "[encoded data removed]",
      "text/plain": [
       "<matplotlib.figure.Figure at 0x11af2d978>"
      ]
     },
     "metadata": {},
     "output_type": "display_data"
    }
   ],
   "source": [
    "fig=plt.figure()\n",
    "stars_actual=train_subset_usrbiz_update.stars.values\n",
    "df=pd.DataFrame(dict(actual=stars_actual, predicted=predictedGibbs_numLatent_2))\n",
    "ax=plt.scatter(df.actual, df.predicted, alpha=0.2, s=30, label=\"predicted\")\n",
    "\n",
    "xp=[1,2,3,4,5]\n",
    "yp=df.groupby('actual').predicted.mean().values\n",
    "plt.plot(xp,yp,'k', label=\" predicted means\");\n",
    "sig=df.groupby('actual').predicted.std().values\n",
    "plt.fill_between(xp, yp - sig, yp + sig, \n",
    "             color='k', alpha=0.2, label='68% CI');\n",
    "\n",
    "plt.plot([1,5],[1,5], label=\"Ideal/Perfect prediction\", color='red');\n",
    "plt.title('Gibbs sampler for recommender using {0} latent features'.format(numlLatentFeature))\n",
    "plt.legend(loc = 'best', frameon=False);"
   ]
  },
  {
   "cell_type": "code",
   "execution_count": 429,
   "metadata": {
    "collapsed": false
   },
   "outputs": [
    {
     "name": "stdout",
     "output_type": "stream",
     "text": [
      "0\n",
      "100\n",
      "200\n",
      "300\n",
      "400\n",
      "500\n",
      "600\n",
      "700\n",
      "800\n",
      "900\n",
      "1000\n",
      "1100\n",
      "1200\n",
      "1300\n",
      "1400\n",
      "1500\n",
      "1600\n",
      "1700\n",
      "1800\n",
      "1900\n",
      "2000\n",
      "2100\n",
      "2200\n",
      "2300\n",
      "2400\n",
      "2500\n",
      "2600\n",
      "2700\n",
      "2800\n",
      "2900\n",
      "3000\n",
      "3100\n",
      "3200\n",
      "3300\n",
      "3400\n",
      "3500\n",
      "3600\n",
      "3700\n",
      "3800\n",
      "3900\n",
      "4000\n",
      "4100\n",
      "4200\n",
      "4300\n",
      "4400\n",
      "4500\n",
      "4600\n",
      "4700\n",
      "4800\n",
      "4900\n",
      "5000\n",
      "5100\n",
      "5200\n",
      "5300\n",
      "5400\n",
      "5500\n",
      "5600\n",
      "5700\n",
      "5800\n",
      "5900\n",
      "6000\n",
      "6100\n",
      "6200\n",
      "6300\n",
      "6400\n",
      "6500\n",
      "6600\n",
      "6700\n",
      "6800\n",
      "6900\n",
      "7000\n",
      "7100\n",
      "7200\n",
      "7300\n",
      "7400\n",
      "7500\n",
      "7600\n",
      "7700\n",
      "7800\n",
      "7900\n",
      "8000\n",
      "8100\n",
      "8200\n",
      "8300\n",
      "8400\n",
      "8500\n",
      "8600\n",
      "8700\n",
      "8800\n",
      "8900\n",
      "9000\n",
      "9100\n",
      "9200\n",
      "9300\n",
      "9400\n",
      "9500\n",
      "9600\n",
      "9700\n",
      "9800\n",
      "9900\n"
     ]
    }
   ],
   "source": [
    "#your code here\n",
    "%timeit\n",
    "numlLatentFeature = 10\n",
    "gibbs_out_numLatent_10 = factor_gibbs(train_subset_usrbiz_update, numlLatentFeature, 10000, 0.1, 0.1)\n",
    "burnin = 200\n",
    "predictedGibbs_numLatent_10 = np.mean(gibbs_out_numLatent_10['EY'][:,burnin:], axis=1)"
   ]
  },
  {
   "cell_type": "code",
   "execution_count": 430,
   "metadata": {
    "collapsed": false
   },
   "outputs": [
    {
     "data": {
      "text/plain": [
       "[<matplotlib.lines.Line2D at 0x12e9591d0>]"
      ]
     },
     "execution_count": 430,
     "metadata": {},
     "output_type": "execute_result"
    },
    {
     "data": {
      "image/png": "[encoded data removed]",
      "text/plain": [
       "<matplotlib.figure.Figure at 0x12955f0f0>"
      ]
     },
     "metadata": {},
     "output_type": "display_data"
    }
   ],
   "source": [
    "plt.plot(gibbs_out_numLatent_10['theta'][44, 1, burnin:])"
   ]
  },
  {
   "cell_type": "code",
   "execution_count": 431,
   "metadata": {
    "collapsed": false
   },
   "outputs": [
    {
     "data": {
      "image/png": "[encoded data removed]",
      "text/plain": [
       "<matplotlib.figure.Figure at 0x12e9814a8>"
      ]
     },
     "metadata": {},
     "output_type": "display_data"
    }
   ],
   "source": [
    "fig=plt.figure()\n",
    "stars_actual=train_subset_usrbiz_update.stars.values\n",
    "df=pd.DataFrame(dict(actual=stars_actual, predicted=predictedGibbs_numLatent_10))\n",
    "ax=plt.scatter(df.actual, df.predicted, alpha=0.2, s=30, label=\"predicted\")\n",
    "\n",
    "xp=[1,2,3,4,5]\n",
    "yp=df.groupby('actual').predicted.mean().values\n",
    "plt.plot(xp,yp,'k', label=\" predicted means\");\n",
    "sig=df.groupby('actual').predicted.std().values\n",
    "plt.fill_between(xp, yp - sig, yp + sig, \n",
    "             color='k', alpha=0.2, label='68% CI');\n",
    "\n",
    "plt.plot([1,5],[1,5], label=\"Ideal/Perfect prediction\", color='red');\n",
    "plt.title('Gibbs sampler for recommender using {0} latent features'.format(numlLatentFeature))\n",
    "plt.legend(loc = 'best', frameon=False);"
   ]
  },
  {
   "cell_type": "code",
   "execution_count": null,
   "metadata": {
    "collapsed": true
   },
   "outputs": [],
   "source": [
    "#your code here\n",
    "%timeit\n",
    "numlLatentFeature = 20\n",
    "gibbs_out_numLatent_20 = factor_gibbs(train_subset_usrbiz_update, numlLatentFeature, 10000, 0.1, 0.1)\n",
    "burnin = 200\n",
    "predictedGibbs_numLatent_20 = np.mean(gibbs_out_numLatent_10['EY'][:,burnin:], axis=1)"
   ]
  },
  {
   "cell_type": "code",
   "execution_count": null,
   "metadata": {
    "collapsed": true
   },
   "outputs": [],
   "source": [
    "fig=plt.figure()\n",
    "stars_actual=train_subset_usrbiz_update.stars.values\n",
    "df=pd.DataFrame(dict(actual=stars_actual, predicted=predictedGibbs_numLatent_10))\n",
    "ax=plt.scatter(df.actual, df.predicted, alpha=0.2, s=30, label=\"predicted\")\n",
    "\n",
    "xp=[1,2,3,4,5]\n",
    "yp=df.groupby('actual').predicted.mean().values\n",
    "plt.plot(xp,yp,'k', label=\" predicted means\");\n",
    "sig=df.groupby('actual').predicted.std().values\n",
    "plt.fill_between(xp, yp - sig, yp + sig, \n",
    "             color='k', alpha=0.2, label='68% CI');\n",
    "\n",
    "plt.plot([1,5],[1,5], label=\"Ideal/Perfect prediction\", color='red');\n",
    "plt.title('Gibbs sampler for recommender using {0} latent features'.format(numlLatentFeature))\n",
    "plt.legend(loc = 'best', frameon=False);"
   ]
  },
  {
   "cell_type": "markdown",
   "metadata": {},
   "source": [
    "## run this recommender in frequentist way"
   ]
  },
  {
   "cell_type": "code",
   "execution_count": 207,
   "metadata": {
    "collapsed": false
   },
   "outputs": [],
   "source": [
    "train_biz_usr_rateOrNot = pd.DataFrame(data=np.zeros((numBiz, numUsr)).astype(np.int), \n",
    "                                       index = train_OG['business_id'].unique(), \n",
    "                                        columns = train_OG['user_id'].unique())"
   ]
  },
  {
   "cell_type": "code",
   "execution_count": null,
   "metadata": {
    "collapsed": false
   },
   "outputs": [],
   "source": [
    "'''\n",
    "ratedBiz_firstUser = train_usr_group_ratedBiz[0][1]\n",
    "ratedBiz_firstUser_list = []\n",
    "for idx in ratedBiz_firstUser.index:\n",
    "    ratedBiz_firstUser_list.append(ratedBiz_firstUser[idx])\n",
    "ratedBiz_firstUser_list[0:3]\n",
    "\n",
    "inBool = [1*(Biz in ratedBiz_firstUser_list) for Biz in train_all['business_id'].unique()]\n",
    "\n",
    "train_biz_usr_rateOrNot[firstUser_inUsrGroupRatedBiz] = inBool\n",
    "'''"
   ]
  },
  {
   "cell_type": "code",
   "execution_count": 260,
   "metadata": {
    "collapsed": false
   },
   "outputs": [],
   "source": [
    "train_usr_group_ratedBiz = list(train.groupby(['user_id'])['business_id'])"
   ]
  },
  {
   "cell_type": "code",
   "execution_count": 219,
   "metadata": {
    "collapsed": false
   },
   "outputs": [],
   "source": [
    "usr_in_usrBizRatedGroup = []\n",
    "for n in np.arange(len(train_usr_group_ratedBiz)):\n",
    "    usr_in_usrBizRatedGroup.append(train_usr_group_ratedBiz[n][0])\n",
    "    \n",
    "    ratedBiz_byCunrrentUser_list = []\n",
    "    ratedBiz_byCunrrentUser = train_usr_group_ratedBiz[n][1]\n",
    "    \n",
    "    for idx in ratedBiz_byCunrrentUser.index:\n",
    "        ratedBiz_byCunrrentUser_list.append(ratedBiz_byCunrrentUser[idx])\n",
    "        \n",
    "    inBool = [1*(Biz in ratedBiz_byCunrrentUser_list) for Biz in train_all['business_id'].unique()]\n",
    "    \n",
    "    train_biz_usr_rateOrNot[train_usr_group_ratedBiz[n][0]] = inBool"
   ]
  },
  {
   "cell_type": "code",
   "execution_count": 233,
   "metadata": {
    "collapsed": false
   },
   "outputs": [
    {
     "data": {
      "text/html": [
       "<div>\n",
       "<table border=\"1\" class=\"dataframe\">\n",
       "  <thead>\n",
       "    <tr style=\"text-align: right;\">\n",
       "      <th></th>\n",
       "      <th>rLtl8ZkDX5vH5nAx9C3q5Q</th>\n",
       "      <th>SBbftLzfYYKItOMFwOTIJg</th>\n",
       "      <th>mlBC3pN9GXlUUfQi1qBBZA</th>\n",
       "      <th>0bNXP9quoJEgyVZu9ipGgQ</th>\n",
       "      <th>T7J9ae0wTskrI_Bgwp-4cA</th>\n",
       "      <th>8WQubmP7G0NM3IyzyMnCEA</th>\n",
       "      <th>zsBmBMbZhPuWKueEyKoI1Q</th>\n",
       "      <th>4ozupHULqGyO42s3zNUzOQ</th>\n",
       "      <th>oCFQmDotqcyIYAY1JyKUPg</th>\n",
       "      <th>7GC9fVWKa4a1ZmBGLH6Uww</th>\n",
       "      <th>_Lz4b5QL0K8ndeyz2vxslA</th>\n",
       "      <th>f1-pIw_p0ifzu03TXjPRiw</th>\n",
       "      <th>vsXP832M0kOxKpfduD7dWw</th>\n",
       "      <th>idSvgXVCamuEwbL3sp9O_A</th>\n",
       "      <th>kk05snSafuIFK0lsxoMNzA</th>\n",
       "      <th>6ts41fCsDKHbFZaKOMNmVQ</th>\n",
       "      <th>zG7NW5vCKJZRcBR95qEuMw</th>\n",
       "      <th>tdNV2Wb0LrFpm1Yfov_Klw</th>\n",
       "      <th>HOleI3jz1MLNUJ6cc1x0Pw</th>\n",
       "      <th>DwU7KVfebA70AlVtX0iOWw</th>\n",
       "      <th>sQwgFhirdCt6h_g1rbjHHA</th>\n",
       "      <th>kbE6ZgYaytswPn1n3fligQ</th>\n",
       "      <th>3gIfcQq5KxAegwCPXc83cQ</th>\n",
       "      <th>kffxYQVQsEpF1DVlQlcGCg</th>\n",
       "      <th>Vk-hJ1i5ZagPM87Kv9FOnA</th>\n",
       "      <th>...</th>\n",
       "      <th>a2KLTknquBFq3HFHMJBEaQ</th>\n",
       "      <th>ioKM01AiT5kYQrwdAZBUVQ</th>\n",
       "      <th>oIiVkznNlNfAzihT2nSHgw</th>\n",
       "      <th>Q5L7fQ71bB3p95EIr0dgvA</th>\n",
       "      <th>VxvUVA7u7cOAN4zfeffLvw</th>\n",
       "      <th>SFH23ByUq8sSPJYvMCq1Pw</th>\n",
       "      <th>-xfJn_BLOsD3hfefrGM7VA</th>\n",
       "      <th>KRWIuM-iHcPSZBHeW6N2dA</th>\n",
       "      <th>DsfgjUA4w_DmJ7zbgK6ddw</th>\n",
       "      <th>H2YSnKL0kelaipR1xp9u0A</th>\n",
       "      <th>FIBdkKFEn4rPo5kMXYyMOg</th>\n",
       "      <th>oI0Mk99b-32nFpaZFGmDoA</th>\n",
       "      <th>6gKqjd34blACscrEq1nUBQ</th>\n",
       "      <th>orQe4S_PJFHidKMbIZTm5g</th>\n",
       "      <th>roqJZ47TCjgMoe43exJX4Q</th>\n",
       "      <th>smmG7rpmdc5dXl2jvzgTcQ</th>\n",
       "      <th>HkiB9D1R0wmnqvIDkKnxgA</th>\n",
       "      <th>z4Dx11YMDxCllksYHU_S3Q</th>\n",
       "      <th>L-ni8EcqTR-EUOIWqY5KwQ</th>\n",
       "      <th>RZiOiBoWwIUw4zt73quiFg</th>\n",
       "      <th>FERqU5mwH5FE_8-ZfIPS_g</th>\n",
       "      <th>qXMObUokAEAkgUqD7Oc9Dw</th>\n",
       "      <th>r74xkfLgfJ9LhT3DFpRuGw</th>\n",
       "      <th>Z9qOrLluUTJ_bhZJB0m9IQ</th>\n",
       "      <th>KntKztuTHOnSh4Oq4C1NcQ</th>\n",
       "    </tr>\n",
       "  </thead>\n",
       "  <tbody>\n",
       "    <tr>\n",
       "      <th>9yKzy9PApeiPPOUJEtnvkg</th>\n",
       "      <td>1</td>\n",
       "      <td>1</td>\n",
       "      <td>1</td>\n",
       "      <td>1</td>\n",
       "      <td>1</td>\n",
       "      <td>1</td>\n",
       "      <td>1</td>\n",
       "      <td>1</td>\n",
       "      <td>1</td>\n",
       "      <td>1</td>\n",
       "      <td>1</td>\n",
       "      <td>1</td>\n",
       "      <td>1</td>\n",
       "      <td>1</td>\n",
       "      <td>1</td>\n",
       "      <td>1</td>\n",
       "      <td>1</td>\n",
       "      <td>1</td>\n",
       "      <td>1</td>\n",
       "      <td>1</td>\n",
       "      <td>1</td>\n",
       "      <td>1</td>\n",
       "      <td>1</td>\n",
       "      <td>1</td>\n",
       "      <td>1</td>\n",
       "      <td>...</td>\n",
       "      <td>0</td>\n",
       "      <td>0</td>\n",
       "      <td>0</td>\n",
       "      <td>0</td>\n",
       "      <td>0</td>\n",
       "      <td>0</td>\n",
       "      <td>0</td>\n",
       "      <td>0</td>\n",
       "      <td>0</td>\n",
       "      <td>0</td>\n",
       "      <td>0</td>\n",
       "      <td>0</td>\n",
       "      <td>0</td>\n",
       "      <td>0</td>\n",
       "      <td>0</td>\n",
       "      <td>0</td>\n",
       "      <td>0</td>\n",
       "      <td>0</td>\n",
       "      <td>0</td>\n",
       "      <td>0</td>\n",
       "      <td>0</td>\n",
       "      <td>0</td>\n",
       "      <td>0</td>\n",
       "      <td>0</td>\n",
       "      <td>0</td>\n",
       "    </tr>\n",
       "    <tr>\n",
       "      <th>8m08a9xJKmANwmeuR-0bPA</th>\n",
       "      <td>1</td>\n",
       "      <td>0</td>\n",
       "      <td>0</td>\n",
       "      <td>0</td>\n",
       "      <td>0</td>\n",
       "      <td>1</td>\n",
       "      <td>0</td>\n",
       "      <td>0</td>\n",
       "      <td>0</td>\n",
       "      <td>0</td>\n",
       "      <td>0</td>\n",
       "      <td>0</td>\n",
       "      <td>0</td>\n",
       "      <td>0</td>\n",
       "      <td>0</td>\n",
       "      <td>0</td>\n",
       "      <td>0</td>\n",
       "      <td>0</td>\n",
       "      <td>0</td>\n",
       "      <td>0</td>\n",
       "      <td>0</td>\n",
       "      <td>1</td>\n",
       "      <td>0</td>\n",
       "      <td>0</td>\n",
       "      <td>0</td>\n",
       "      <td>...</td>\n",
       "      <td>0</td>\n",
       "      <td>0</td>\n",
       "      <td>0</td>\n",
       "      <td>0</td>\n",
       "      <td>0</td>\n",
       "      <td>0</td>\n",
       "      <td>0</td>\n",
       "      <td>0</td>\n",
       "      <td>0</td>\n",
       "      <td>0</td>\n",
       "      <td>0</td>\n",
       "      <td>0</td>\n",
       "      <td>0</td>\n",
       "      <td>0</td>\n",
       "      <td>0</td>\n",
       "      <td>0</td>\n",
       "      <td>0</td>\n",
       "      <td>0</td>\n",
       "      <td>0</td>\n",
       "      <td>0</td>\n",
       "      <td>0</td>\n",
       "      <td>0</td>\n",
       "      <td>0</td>\n",
       "      <td>0</td>\n",
       "      <td>0</td>\n",
       "    </tr>\n",
       "    <tr>\n",
       "      <th>r3r_bAfa6pZKIhQB82FizQ</th>\n",
       "      <td>1</td>\n",
       "      <td>0</td>\n",
       "      <td>0</td>\n",
       "      <td>1</td>\n",
       "      <td>0</td>\n",
       "      <td>0</td>\n",
       "      <td>0</td>\n",
       "      <td>0</td>\n",
       "      <td>0</td>\n",
       "      <td>0</td>\n",
       "      <td>0</td>\n",
       "      <td>0</td>\n",
       "      <td>1</td>\n",
       "      <td>0</td>\n",
       "      <td>0</td>\n",
       "      <td>0</td>\n",
       "      <td>0</td>\n",
       "      <td>0</td>\n",
       "      <td>0</td>\n",
       "      <td>0</td>\n",
       "      <td>0</td>\n",
       "      <td>0</td>\n",
       "      <td>0</td>\n",
       "      <td>0</td>\n",
       "      <td>0</td>\n",
       "      <td>...</td>\n",
       "      <td>0</td>\n",
       "      <td>0</td>\n",
       "      <td>0</td>\n",
       "      <td>0</td>\n",
       "      <td>0</td>\n",
       "      <td>0</td>\n",
       "      <td>0</td>\n",
       "      <td>0</td>\n",
       "      <td>0</td>\n",
       "      <td>0</td>\n",
       "      <td>0</td>\n",
       "      <td>0</td>\n",
       "      <td>0</td>\n",
       "      <td>0</td>\n",
       "      <td>0</td>\n",
       "      <td>0</td>\n",
       "      <td>0</td>\n",
       "      <td>0</td>\n",
       "      <td>0</td>\n",
       "      <td>0</td>\n",
       "      <td>0</td>\n",
       "      <td>0</td>\n",
       "      <td>0</td>\n",
       "      <td>0</td>\n",
       "      <td>0</td>\n",
       "    </tr>\n",
       "  </tbody>\n",
       "</table>\n",
       "<p>3 rows × 34789 columns</p>\n",
       "</div>"
      ],
      "text/plain": [
       "                        rLtl8ZkDX5vH5nAx9C3q5Q  SBbftLzfYYKItOMFwOTIJg  \\\n",
       "9yKzy9PApeiPPOUJEtnvkg                       1                       1   \n",
       "8m08a9xJKmANwmeuR-0bPA                       1                       0   \n",
       "r3r_bAfa6pZKIhQB82FizQ                       1                       0   \n",
       "\n",
       "                        mlBC3pN9GXlUUfQi1qBBZA  0bNXP9quoJEgyVZu9ipGgQ  \\\n",
       "9yKzy9PApeiPPOUJEtnvkg                       1                       1   \n",
       "8m08a9xJKmANwmeuR-0bPA                       0                       0   \n",
       "r3r_bAfa6pZKIhQB82FizQ                       0                       1   \n",
       "\n",
       "                        T7J9ae0wTskrI_Bgwp-4cA  8WQubmP7G0NM3IyzyMnCEA  \\\n",
       "9yKzy9PApeiPPOUJEtnvkg                       1                       1   \n",
       "8m08a9xJKmANwmeuR-0bPA                       0                       1   \n",
       "r3r_bAfa6pZKIhQB82FizQ                       0                       0   \n",
       "\n",
       "                        zsBmBMbZhPuWKueEyKoI1Q  4ozupHULqGyO42s3zNUzOQ  \\\n",
       "9yKzy9PApeiPPOUJEtnvkg                       1                       1   \n",
       "8m08a9xJKmANwmeuR-0bPA                       0                       0   \n",
       "r3r_bAfa6pZKIhQB82FizQ                       0                       0   \n",
       "\n",
       "                        oCFQmDotqcyIYAY1JyKUPg  7GC9fVWKa4a1ZmBGLH6Uww  \\\n",
       "9yKzy9PApeiPPOUJEtnvkg                       1                       1   \n",
       "8m08a9xJKmANwmeuR-0bPA                       0                       0   \n",
       "r3r_bAfa6pZKIhQB82FizQ                       0                       0   \n",
       "\n",
       "                        _Lz4b5QL0K8ndeyz2vxslA  f1-pIw_p0ifzu03TXjPRiw  \\\n",
       "9yKzy9PApeiPPOUJEtnvkg                       1                       1   \n",
       "8m08a9xJKmANwmeuR-0bPA                       0                       0   \n",
       "r3r_bAfa6pZKIhQB82FizQ                       0                       0   \n",
       "\n",
       "                        vsXP832M0kOxKpfduD7dWw  idSvgXVCamuEwbL3sp9O_A  \\\n",
       "9yKzy9PApeiPPOUJEtnvkg                       1                       1   \n",
       "8m08a9xJKmANwmeuR-0bPA                       0                       0   \n",
       "r3r_bAfa6pZKIhQB82FizQ                       1                       0   \n",
       "\n",
       "                        kk05snSafuIFK0lsxoMNzA  6ts41fCsDKHbFZaKOMNmVQ  \\\n",
       "9yKzy9PApeiPPOUJEtnvkg                       1                       1   \n",
       "8m08a9xJKmANwmeuR-0bPA                       0                       0   \n",
       "r3r_bAfa6pZKIhQB82FizQ                       0                       0   \n",
       "\n",
       "                        zG7NW5vCKJZRcBR95qEuMw  tdNV2Wb0LrFpm1Yfov_Klw  \\\n",
       "9yKzy9PApeiPPOUJEtnvkg                       1                       1   \n",
       "8m08a9xJKmANwmeuR-0bPA                       0                       0   \n",
       "r3r_bAfa6pZKIhQB82FizQ                       0                       0   \n",
       "\n",
       "                        HOleI3jz1MLNUJ6cc1x0Pw  DwU7KVfebA70AlVtX0iOWw  \\\n",
       "9yKzy9PApeiPPOUJEtnvkg                       1                       1   \n",
       "8m08a9xJKmANwmeuR-0bPA                       0                       0   \n",
       "r3r_bAfa6pZKIhQB82FizQ                       0                       0   \n",
       "\n",
       "                        sQwgFhirdCt6h_g1rbjHHA  kbE6ZgYaytswPn1n3fligQ  \\\n",
       "9yKzy9PApeiPPOUJEtnvkg                       1                       1   \n",
       "8m08a9xJKmANwmeuR-0bPA                       0                       1   \n",
       "r3r_bAfa6pZKIhQB82FizQ                       0                       0   \n",
       "\n",
       "                        3gIfcQq5KxAegwCPXc83cQ  kffxYQVQsEpF1DVlQlcGCg  \\\n",
       "9yKzy9PApeiPPOUJEtnvkg                       1                       1   \n",
       "8m08a9xJKmANwmeuR-0bPA                       0                       0   \n",
       "r3r_bAfa6pZKIhQB82FizQ                       0                       0   \n",
       "\n",
       "                        Vk-hJ1i5ZagPM87Kv9FOnA           ...            \\\n",
       "9yKzy9PApeiPPOUJEtnvkg                       1           ...             \n",
       "8m08a9xJKmANwmeuR-0bPA                       0           ...             \n",
       "r3r_bAfa6pZKIhQB82FizQ                       0           ...             \n",
       "\n",
       "                        a2KLTknquBFq3HFHMJBEaQ  ioKM01AiT5kYQrwdAZBUVQ  \\\n",
       "9yKzy9PApeiPPOUJEtnvkg                       0                       0   \n",
       "8m08a9xJKmANwmeuR-0bPA                       0                       0   \n",
       "r3r_bAfa6pZKIhQB82FizQ                       0                       0   \n",
       "\n",
       "                        oIiVkznNlNfAzihT2nSHgw  Q5L7fQ71bB3p95EIr0dgvA  \\\n",
       "9yKzy9PApeiPPOUJEtnvkg                       0                       0   \n",
       "8m08a9xJKmANwmeuR-0bPA                       0                       0   \n",
       "r3r_bAfa6pZKIhQB82FizQ                       0                       0   \n",
       "\n",
       "                        VxvUVA7u7cOAN4zfeffLvw  SFH23ByUq8sSPJYvMCq1Pw  \\\n",
       "9yKzy9PApeiPPOUJEtnvkg                       0                       0   \n",
       "8m08a9xJKmANwmeuR-0bPA                       0                       0   \n",
       "r3r_bAfa6pZKIhQB82FizQ                       0                       0   \n",
       "\n",
       "                        -xfJn_BLOsD3hfefrGM7VA  KRWIuM-iHcPSZBHeW6N2dA  \\\n",
       "9yKzy9PApeiPPOUJEtnvkg                       0                       0   \n",
       "8m08a9xJKmANwmeuR-0bPA                       0                       0   \n",
       "r3r_bAfa6pZKIhQB82FizQ                       0                       0   \n",
       "\n",
       "                        DsfgjUA4w_DmJ7zbgK6ddw  H2YSnKL0kelaipR1xp9u0A  \\\n",
       "9yKzy9PApeiPPOUJEtnvkg                       0                       0   \n",
       "8m08a9xJKmANwmeuR-0bPA                       0                       0   \n",
       "r3r_bAfa6pZKIhQB82FizQ                       0                       0   \n",
       "\n",
       "                        FIBdkKFEn4rPo5kMXYyMOg  oI0Mk99b-32nFpaZFGmDoA  \\\n",
       "9yKzy9PApeiPPOUJEtnvkg                       0                       0   \n",
       "8m08a9xJKmANwmeuR-0bPA                       0                       0   \n",
       "r3r_bAfa6pZKIhQB82FizQ                       0                       0   \n",
       "\n",
       "                        6gKqjd34blACscrEq1nUBQ  orQe4S_PJFHidKMbIZTm5g  \\\n",
       "9yKzy9PApeiPPOUJEtnvkg                       0                       0   \n",
       "8m08a9xJKmANwmeuR-0bPA                       0                       0   \n",
       "r3r_bAfa6pZKIhQB82FizQ                       0                       0   \n",
       "\n",
       "                        roqJZ47TCjgMoe43exJX4Q  smmG7rpmdc5dXl2jvzgTcQ  \\\n",
       "9yKzy9PApeiPPOUJEtnvkg                       0                       0   \n",
       "8m08a9xJKmANwmeuR-0bPA                       0                       0   \n",
       "r3r_bAfa6pZKIhQB82FizQ                       0                       0   \n",
       "\n",
       "                        HkiB9D1R0wmnqvIDkKnxgA  z4Dx11YMDxCllksYHU_S3Q  \\\n",
       "9yKzy9PApeiPPOUJEtnvkg                       0                       0   \n",
       "8m08a9xJKmANwmeuR-0bPA                       0                       0   \n",
       "r3r_bAfa6pZKIhQB82FizQ                       0                       0   \n",
       "\n",
       "                        L-ni8EcqTR-EUOIWqY5KwQ  RZiOiBoWwIUw4zt73quiFg  \\\n",
       "9yKzy9PApeiPPOUJEtnvkg                       0                       0   \n",
       "8m08a9xJKmANwmeuR-0bPA                       0                       0   \n",
       "r3r_bAfa6pZKIhQB82FizQ                       0                       0   \n",
       "\n",
       "                        FERqU5mwH5FE_8-ZfIPS_g  qXMObUokAEAkgUqD7Oc9Dw  \\\n",
       "9yKzy9PApeiPPOUJEtnvkg                       0                       0   \n",
       "8m08a9xJKmANwmeuR-0bPA                       0                       0   \n",
       "r3r_bAfa6pZKIhQB82FizQ                       0                       0   \n",
       "\n",
       "                        r74xkfLgfJ9LhT3DFpRuGw  Z9qOrLluUTJ_bhZJB0m9IQ  \\\n",
       "9yKzy9PApeiPPOUJEtnvkg                       0                       0   \n",
       "8m08a9xJKmANwmeuR-0bPA                       0                       0   \n",
       "r3r_bAfa6pZKIhQB82FizQ                       0                       0   \n",
       "\n",
       "                        KntKztuTHOnSh4Oq4C1NcQ  \n",
       "9yKzy9PApeiPPOUJEtnvkg                       0  \n",
       "8m08a9xJKmANwmeuR-0bPA                       0  \n",
       "r3r_bAfa6pZKIhQB82FizQ                       0  \n",
       "\n",
       "[3 rows x 34789 columns]"
      ]
     },
     "execution_count": 233,
     "metadata": {},
     "output_type": "execute_result"
    }
   ],
   "source": [
    "train_biz_usr_rateOrNot.head(3)"
   ]
  },
  {
   "cell_type": "code",
   "execution_count": 240,
   "metadata": {
    "collapsed": false
   },
   "outputs": [
    {
     "name": "stdout",
     "output_type": "stream",
     "text": [
      "57\n",
      "57\n"
     ]
    }
   ],
   "source": [
    "# sanity check\n",
    "print((train_biz_usr_rateOrNot['SBbftLzfYYKItOMFwOTIJg'] == 1).sum())\n",
    "print(train[train['user_id'] == 'SBbftLzfYYKItOMFwOTIJg']['user_review_count'].values[0])"
   ]
  },
  {
   "cell_type": "code",
   "execution_count": null,
   "metadata": {
    "collapsed": true
   },
   "outputs": [],
   "source": []
  },
  {
   "cell_type": "code",
   "execution_count": 307,
   "metadata": {
    "collapsed": true
   },
   "outputs": [],
   "source": [
    "train_biz_usr_rates = pd.DataFrame(data=np.zeros((numBiz, numUsr)).astype(np.int), \n",
    "                                       index = train_OG['business_id'].unique(), \n",
    "                                        columns = train_OG['user_id'].unique())"
   ]
  },
  {
   "cell_type": "code",
   "execution_count": 308,
   "metadata": {
    "collapsed": false
   },
   "outputs": [],
   "source": [
    "train_usr_group_ratedBiz_rating = list(train.groupby(['user_id'])['business_id','stars'])"
   ]
  },
  {
   "cell_type": "code",
   "execution_count": 309,
   "metadata": {
    "collapsed": false
   },
   "outputs": [
    {
     "data": {
      "text/plain": [
       "'--65q1FpAL_UQtVZ2PTGew'"
      ]
     },
     "execution_count": 309,
     "metadata": {},
     "output_type": "execute_result"
    }
   ],
   "source": [
    "train_usr_group_ratedBiz_rating[0][0]"
   ]
  },
  {
   "cell_type": "code",
   "execution_count": null,
   "metadata": {
    "collapsed": false
   },
   "outputs": [],
   "source": []
  },
  {
   "cell_type": "code",
   "execution_count": 311,
   "metadata": {
    "collapsed": false
   },
   "outputs": [],
   "source": [
    "\n",
    "for n in np.arange(len(train_usr_group_ratedBiz_rating)):\n",
    "    \n",
    "    current_user = train_usr_group_ratedBiz_rating[n][0]\n",
    "    current_user_df = train_usr_group_ratedBiz_rating[n][1]\n",
    "    \n",
    "    #current_user_rated_biz = current_user_df['business_id'].values\n",
    "    current_user_rated_biz = train_usr_group_ratedBiz_rating[n][1]['business_id']\n",
    "    current_user_rated_biz_list = []\n",
    "    \n",
    "    for idx in current_user_rated_biz.index:\n",
    "        current_user_rated_biz_list.append(current_user_rated_biz[idx])\n",
    "    \n",
    "    inBool = [Biz in current_user_rated_biz_list for Biz in train_all['business_id'].unique()]\n",
    "    \n",
    "    train_biz_usr_rates.loc[inBool, current_user] = current_user_df['stars'].values"
   ]
  },
  {
   "cell_type": "code",
   "execution_count": null,
   "metadata": {
    "collapsed": false
   },
   "outputs": [],
   "source": [
    "'''\n",
    "current_user = train_usr_group_ratedBiz_rating[0][0]\n",
    "current_user_df = train_usr_group_ratedBiz_rating[0][1]\n",
    "current_user_rated_biz = train_usr_group_ratedBiz_rating[0][1]['business_id']\n",
    "current_user_rated_biz_list = []\n",
    "for idx in current_user_rated_biz.index:\n",
    "    current_user_rated_biz_list.append(current_user_rated_biz[idx])\n",
    "\n",
    "inBool = [Biz in current_user_rated_biz_list for Biz in train_all['business_id'].unique()]\n",
    "train_biz_usr_rates.loc[inBool, current_user] = current_user_df['stars'].values\n",
    "'''"
   ]
  },
  {
   "cell_type": "code",
   "execution_count": null,
   "metadata": {
    "collapsed": true
   },
   "outputs": [],
   "source": [
    "train_biz_usr_rates = pd.DataFrame(data=np.zeros((numBiz, numUsr)).astype(np.int), \n",
    "                                       index = train_OG['business_id'].unique(), \n",
    "                                        columns = train_OG['user_id'].unique())"
   ]
  },
  {
   "cell_type": "code",
   "execution_count": 381,
   "metadata": {
    "collapsed": false
   },
   "outputs": [],
   "source": [
    "class userRatedOrNotAndRatingDB:\n",
    "    \n",
    "    def __init__(self, df):\n",
    "        self.df = df\n",
    "        self.numBiz = len(df['business_id'].unique())\n",
    "        self.numUsr = len(df['user_id'].unique())\n",
    "        self.Biz_ids = df['business_id'].unique()\n",
    "        self.Usr_ids = df['user_id'].unique()\n",
    "        \n",
    "        self.train_biz_usr_rateOrNot = pd.DataFrame(data=np.zeros((self.numBiz, self.numUsr)).astype(np.int), \n",
    "                                                index = self.Biz_ids, columns = self.Usr_ids)\n",
    "        self.train_biz_usr_rates     = pd.DataFrame(data=np.zeros((self.numBiz, self.numUsr)).astype(np.int), \n",
    "                                                index = self.Biz_ids, columns = self.Usr_ids)\n",
    "        self.train_biz_usr_rates_normalized = pd.DataFrame(data=np.zeros((self.numBiz, self.numUsr)).astype(np.int), \n",
    "                                                index = self.Biz_ids, columns = self.Usr_ids)\n",
    "        self.mean_rated_rating = np.zeros((self.numUsr, 1))\n",
    "    def evaluate_rateOrNot_rating_df(self):\n",
    "        train_usr_group_ratedBiz_rating = list(self.df.groupby(['user_id'])['business_id','stars'])\n",
    "        \n",
    "        for n in np.arange(len(train_usr_group_ratedBiz_rating)):\n",
    "    \n",
    "            current_user = train_usr_group_ratedBiz_rating[n][0]\n",
    "            current_user_df = train_usr_group_ratedBiz_rating[n][1]\n",
    "\n",
    "            #current_user_rated_biz = current_user_df['business_id'].values\n",
    "            current_user_rated_biz = train_usr_group_ratedBiz_rating[n][1]['business_id']\n",
    "            current_user_rated_biz_list = []\n",
    "\n",
    "            for idx in current_user_rated_biz.index:\n",
    "                current_user_rated_biz_list.append(current_user_rated_biz[idx])\n",
    "\n",
    "            inBool = [Biz in current_user_rated_biz_list for Biz in self.df['business_id'].unique()]\n",
    "\n",
    "            self.train_biz_usr_rates.loc[inBool, current_user] = current_user_df['stars'].values\n",
    "            self.mean_rated_rating[n] = current_user_df['stars'].values.mean()\n",
    "            self.train_biz_usr_rates_normalized.loc[inBool, current_user] = np.round(current_user_df['stars'].values\\\n",
    "                                                                            -current_user_df['stars'].values.mean(), 4)\n",
    "            \n",
    "            inBinary = [1*(Biz in current_user_rated_biz_list) for Biz in self.df['business_id'].unique()]\n",
    "    \n",
    "            self.train_biz_usr_rateOrNot[current_user] = inBinary\n",
    "        \n",
    "        \n",
    "        \n",
    "    def get_df(self):\n",
    "        train_biz_usr_rateOrNot = self.train_biz_usr_rateOrNot\n",
    "        train_biz_usr_rates = self.train_biz_usr_rates\n",
    "        train_biz_usr_rates_normalized = self.train_biz_usr_rates_normalized\n",
    "        return (train_biz_usr_rateOrNot, train_biz_usr_rates, train_biz_usr_rates_normalized)"
   ]
  },
  {
   "cell_type": "code",
   "execution_count": 403,
   "metadata": {
    "collapsed": false
   },
   "outputs": [],
   "source": [
    "rateOrNotRates_db = userRatedOrNotAndRatingDB(train_subset_usrbiz_update)\n",
    "rateOrNotRates_db.evaluate_rateOrNot_rating_df()\n",
    "rate_normalized_mean = rateOrNotRates_db.mean_rated_rating\n",
    "orNot_DF, rate_DF, rate_normalized_DF = rateOrNotRates_db.get_df()"
   ]
  },
  {
   "cell_type": "markdown",
   "metadata": {},
   "source": [
    "##### run optimization to get an estimate to $\\Theta$ and $\\Gamma$"
   ]
  },
  {
   "cell_type": "code",
   "execution_count": 409,
   "metadata": {
    "collapsed": false
   },
   "outputs": [],
   "source": [
    "numBiz = rateOrNotRates_db.numBiz\n",
    "numUsr = rateOrNotRates_db.numUsr\n",
    "\n",
    "numFeature = 10"
   ]
  },
  {
   "cell_type": "code",
   "execution_count": 410,
   "metadata": {
    "collapsed": true
   },
   "outputs": [],
   "source": [
    "bizFeatureMat = np.random.rand(numBiz, numFeature)\n",
    "userPrefMat = np.random.rand(numUsr, numFeature)\n",
    "\n",
    "# regularization setting and gradient descent setting\n",
    "learningRate = 1\n",
    "Lambda = 10"
   ]
  },
  {
   "cell_type": "code",
   "execution_count": 411,
   "metadata": {
    "collapsed": true
   },
   "outputs": [],
   "source": [
    "# unroll two matrics\n",
    "initParaSpaceUnroll = np.hstack((bizFeatureMat.T.flatten(), userPrefMat.flatten()))"
   ]
  },
  {
   "cell_type": "code",
   "execution_count": 412,
   "metadata": {
    "collapsed": true
   },
   "outputs": [],
   "source": [
    "def cofiCostFunc_unroll(matSpace, bizRates_DF, userRateOrNot_DF, \n",
    "                     numUsers, numBizs, numFeatures, regularization = True, learningRate = 0):\n",
    "    \n",
    "    # 0. retrive movieFeatureMat and userPrefMat from unrolling matSpace\n",
    "    bizFeatureMat = matSpace[:numBizs*numFeatures]\n",
    "    userPrefMat = matSpace[numBizs*numFeatures:]\n",
    "    \n",
    "    # 1. reshape movieFeatureMat and userPrefMat, converse those to their original format\n",
    "    bizFeatureMat = bizFeatureMat.reshape(numBizs, numFeatures, order = 'F')\n",
    "    userPrefMat = userPrefMat.reshape(numUsers, numFeatures, order = 'F')\n",
    "    \n",
    "    # 2. pre-allocate the memory space for X and theta space\n",
    "    bizFeatureMat_grad = np.zeros_like(bizFeatureMat)\n",
    "    userPrefMat_grad = np.zeros_like(userPrefMat)\n",
    "    \n",
    "    # 3. initialize the cost function value\n",
    "    costFcnVal = 0\n",
    "    \n",
    "    # 4. convert the DataFrame storing our target dataset into array\n",
    "    bizRates = bizRates_DF.values\n",
    "    bizRateOrNot = userRateOrNot_DF.values\n",
    "    \n",
    "    # 5. tailor the original data according to the number of user/movie/features of interest\n",
    "    bizRates = bizRates[0:numBizs, 0:numUsers]\n",
    "    bizRateOrNot = bizRateOrNot[0:numBizs, 0:numUsers]\n",
    "    \n",
    "    # 6. evaluate the cost function using the (tailored) X, theta and original data set.\n",
    "    #    Also, the cost function is slightly different depending on whether it has regularization    \n",
    "    error = (bizFeatureMat.dot(userPrefMat.T) - bizRates)**2\n",
    "    \n",
    "    if regularization == False:\n",
    "        costFcnVal = 0.5 * np.sum(np.sum(bizRateOrNot * error))\n",
    "    else:\n",
    "        # if the L2 regularization terms are considered, then the value of cost function becomes\n",
    "        regularUserPrefMat = (learningRate/2) * np.sum(np.sum(userPrefMat**2))\n",
    "        regularBizFeatureMat = (learningRate/2) * np.sum(np.sum(bizFeatureMat**2))\n",
    "        costFcnVal = 0.5 * np.sum(np.sum(bizRateOrNot * error))+regularUserPrefMat+regularBizFeatureMat\n",
    "        \n",
    "        \n",
    "    # 7.1 loop over the moives for updating movieFeatures (also depends on whether L2 regularization is used)\n",
    "    if regularization == False:\n",
    "        for n in np.arange(numBizs):\n",
    "            idx = np.array(np.where(bizRateOrNot[n,:]==1))[0, :]\n",
    "            bizFeatureMat_grad[n, :] = np.sum((bizFeatureMat[n, :].dot(userPrefMat[idx, :].T)-bizRates[n, idx])\n",
    "                                                .dot(userPrefMat[idx, :]))\n",
    "        \n",
    "        # 7.2 loop over the users for updating userPreferences\n",
    "        for u in np.arange(numUsers):\n",
    "            idx = np.array(np.where(bizRateOrNot[:,u]==1))[0,: ]\n",
    "            userPrefMat_grad[u, :] = np.sum((bizFeatureMat[idx,:].dot(userPrefMat[u, :])-bizRates[idx, u])\n",
    "                                                .dot(bizFeatureMat[idx,:]))\n",
    "    \n",
    "    # 8.1 if the regularization is used, then the gradient of cost function changes\n",
    "    else:\n",
    "        for n in np.arange(numBizs):\n",
    "            idx = np.array(np.where(bizRateOrNot[n,:]==1))[0, :]\n",
    "            bizFeatureMat_grad[n, :] = np.sum((bizFeatureMat[n, :].dot(userPrefMat[idx, :].T)-bizRates[n, idx])\n",
    "                                                .dot(userPrefMat[idx, :]))\n",
    "            # update with regularization term : learningRate * movieFeatureMat[n, :]\n",
    "            bizFeatureMat_grad[n, :] = bizFeatureMat_grad[n, :] + learningRate * bizFeatureMat[n, :]\n",
    "            \n",
    "        # 8.2 loop over the users for updating userPreferences\n",
    "        for u in np.arange(numUsers):\n",
    "            idx = np.array(np.where(bizRateOrNot[:,u]==1))[0,: ]\n",
    "            userPrefMat_grad[u, :] = np.sum((bizFeatureMat[idx,:].dot(userPrefMat[u, :])-bizRates[idx, u])\n",
    "                                                .dot(bizFeatureMat[idx,:]))\n",
    "            # update with regulariztion term: learningRate * userPrefMat[u, :]\n",
    "            userPrefMat_grad[u, :] = userPrefMat_grad[u, :] + learningRate * userPrefMat[u, :]\n",
    "    \n",
    "    # 9. unroll the gradient matrices and return it\n",
    "    matSpaceUpdate = np.hstack((bizFeatureMat_grad.T.flatten(), userPrefMat_grad.T.flatten()))\n",
    "    \n",
    "    return costFcnVal, matSpaceUpdate"
   ]
  },
  {
   "cell_type": "code",
   "execution_count": 413,
   "metadata": {
    "collapsed": true
   },
   "outputs": [],
   "source": [
    "def normalization(bizRateMat, bizRateOrNotMat):\n",
    "    numBizs, numUsers = bizRateMat.shape[0], bizRateMat.shape[1]\n",
    "    bizMean = np.zeros(numBizs)\n",
    "    normalizedBizRate = 0.0 * np.ones_like(bizRateMat)\n",
    "    \n",
    "    for n in np.arange(numBizs):\n",
    "        idx = np.array(np.where(bizRateOrNotMat[n, :] == 1))[0, :]\n",
    "        if len(idx) > 0:\n",
    "            bizMean[n] = bizRateMat[n, idx].mean()\n",
    "            normalizedBizRate[n, idx] = np.round(bizRateMat[n, idx] - bizMean[n], 4)\n",
    "        else:\n",
    "            bizMean[n] = 0\n",
    "            normalizedBizRate[n, :] = 0        \n",
    "    \n",
    "    return bizMean, normalizedBizRate"
   ]
  },
  {
   "cell_type": "code",
   "execution_count": 414,
   "metadata": {
    "collapsed": false
   },
   "outputs": [],
   "source": [
    "# normalize the biz rate matrix\n",
    "bizRateDat = rate_DF.values\n",
    "bizRateOrNotDat = orNot_DF.values.astype(bool)\n",
    "bizRateMean, normalizedBizRateData = normalization(bizRateDat, bizRateOrNotDat)"
   ]
  },
  {
   "cell_type": "code",
   "execution_count": 415,
   "metadata": {
    "collapsed": true
   },
   "outputs": [],
   "source": [
    "costFunc = lambda p: cofiCostFunc_unroll(p, rate_normalized_DF, orNot_DF, numUsr, numBiz, numFeature, Lambda)[0]\n",
    "gradFunc = lambda p: cofiCostFunc_unroll(p, rate_normalized_DF, orNot_DF, numUsr, numBiz, numFeature, Lambda)[1]"
   ]
  },
  {
   "cell_type": "code",
   "execution_count": 416,
   "metadata": {
    "collapsed": true
   },
   "outputs": [],
   "source": [
    "from scipy.optimize import minimize"
   ]
  },
  {
   "cell_type": "code",
   "execution_count": 417,
   "metadata": {
    "collapsed": false
   },
   "outputs": [
    {
     "name": "stdout",
     "output_type": "stream",
     "text": [
      "Optimization terminated successfully.\n",
      "         Current function value: 2225.994697\n",
      "         Iterations: 274\n",
      "         Function evaluations: 868\n",
      "         Gradient evaluations: 868\n"
     ]
    }
   ],
   "source": [
    "result = minimize(costFunc, initParaSpaceUnroll, method='CG', jac=gradFunc, options={'disp': True, 'maxiter': 2000.0})\n",
    "theta = result.x\n",
    "cost = result.fun"
   ]
  },
  {
   "cell_type": "code",
   "execution_count": 418,
   "metadata": {
    "collapsed": false
   },
   "outputs": [
    {
     "data": {
      "text/plain": [
       "(4120,)"
      ]
     },
     "execution_count": 418,
     "metadata": {},
     "output_type": "execute_result"
    }
   ],
   "source": [
    "theta.shape"
   ]
  },
  {
   "cell_type": "code",
   "execution_count": 419,
   "metadata": {
    "collapsed": false
   },
   "outputs": [],
   "source": [
    "predBizFeatureMat = theta[:numBiz*numFeature].reshape(numBiz, numFeature, order = 'F')\n",
    "predUserPrefMat = theta[numBiz*numFeature:].reshape(numUsr, numFeature, order = 'F')"
   ]
  },
  {
   "cell_type": "code",
   "execution_count": 420,
   "metadata": {
    "collapsed": true
   },
   "outputs": [],
   "source": [
    "predBizRateNormalized = predBizFeatureMat.dot(predUserPrefMat.T)"
   ]
  },
  {
   "cell_type": "code",
   "execution_count": 421,
   "metadata": {
    "collapsed": false
   },
   "outputs": [],
   "source": [
    "predBizRate = predBizRateNormalized[:,-1] + rate_normalized_mean"
   ]
  },
  {
   "cell_type": "code",
   "execution_count": 422,
   "metadata": {
    "collapsed": false
   },
   "outputs": [
    {
     "data": {
      "text/plain": [
       "array([ 3.1918709 ,  3.45300451,  2.93772527,  3.25703381,  3.14078731,\n",
       "        3.17608143,  3.49372849,  3.07305113,  3.41056419,  3.15869013,\n",
       "        3.26497032,  3.89989095,  2.87608143,  2.22793328])"
      ]
     },
     "execution_count": 422,
     "metadata": {},
     "output_type": "execute_result"
    }
   ],
   "source": [
    "predBizRate[np.where(rate_DF.iloc[:,-1] >0)[0], -1]"
   ]
  },
  {
   "cell_type": "code",
   "execution_count": 423,
   "metadata": {
    "collapsed": false
   },
   "outputs": [
    {
     "data": {
      "text/plain": [
       "xY1sPHTA2RGVFlh5tZhs9g    4\n",
       "K8pM6qQdYu5h6buRE1-_sw    5\n",
       "eTbtfgUtfewdncgVf2CbWw    4\n",
       "JokKtdXU7zXHcr20Lrk29A    5\n",
       "mxrXVZWc6PWk81gvOVNOUw    3\n",
       "EWMwV5V9BxNs_U6nNVMeqw    5\n",
       "90AXjqb4O-wrTHDKDoDUzg    4\n",
       "XkNQVTkCEzBrq7OlRHI11Q    4\n",
       "uEJQSIjWui-TDWXaGlcqyQ    2\n",
       "d52zg-S0o940WUCK-nNiKw    5\n",
       "fK7ujDbjhRFEe2D7eIwK4w    2\n",
       "AkOruz5CrCxUmXe1p_WoRg    5\n",
       "0K634ehk41ZRc4kj3NTAEQ    4\n",
       "mqQwChPNN4o4DhAzaGntIA    5\n",
       "Name: vF4B6eFdoDmyV_l7MLHMzw, dtype: int64"
      ]
     },
     "execution_count": 423,
     "metadata": {},
     "output_type": "execute_result"
    }
   ],
   "source": [
    "rate_DF.iloc[np.where(rate_DF.iloc[:,-1] >0)[0], -1]"
   ]
  },
  {
   "cell_type": "code",
   "execution_count": null,
   "metadata": {
    "collapsed": true
   },
   "outputs": [],
   "source": []
  },
  {
   "cell_type": "code",
   "execution_count": null,
   "metadata": {
    "collapsed": true
   },
   "outputs": [],
   "source": []
  },
  {
   "cell_type": "code",
   "execution_count": null,
   "metadata": {
    "collapsed": true
   },
   "outputs": [],
   "source": []
  },
  {
   "cell_type": "code",
   "execution_count": null,
   "metadata": {
    "collapsed": true
   },
   "outputs": [],
   "source": []
  },
  {
   "cell_type": "markdown",
   "metadata": {
    "collapsed": true
   },
   "source": [
    "### leave-out data to see whether it is overfitted"
   ]
  },
  {
   "cell_type": "code",
   "execution_count": 84,
   "metadata": {
    "collapsed": true
   },
   "outputs": [],
   "source": [
    "train_all = train_OG.copy()"
   ]
  },
  {
   "cell_type": "code",
   "execution_count": 91,
   "metadata": {
    "collapsed": false
   },
   "outputs": [],
   "source": [
    "train_size = round(train_all.shape[0] * 0.7)\n",
    "train_subset = train_all.iloc[:train_size, :]\n",
    "valid_set = train_all.iloc[train_size:, :]"
   ]
  },
  {
   "cell_type": "code",
   "execution_count": null,
   "metadata": {
    "collapsed": true
   },
   "outputs": [],
   "source": [
    "numlLatentFeature = 20\n",
    "gibbs_out_numLatent_20 = factor_gibbs(train_subset_usrbiz_update, numlLatentFeature, 1000, 0.1, 0.1)\n",
    "burnin = 200\n",
    "predictedGibbs_numLatent_20 = np.mean(gibbs_out_numLatent_20['EY'][:,burnin:], axis=1)"
   ]
  },
  {
   "cell_type": "code",
   "execution_count": 95,
   "metadata": {
    "collapsed": false
   },
   "outputs": [
    {
     "data": {
      "text/plain": [
       "(44796, 15)"
      ]
     },
     "execution_count": 95,
     "metadata": {},
     "output_type": "execute_result"
    }
   ],
   "source": [
    "valid_set.shape"
   ]
  },
  {
   "cell_type": "code",
   "execution_count": 94,
   "metadata": {
    "collapsed": false
   },
   "outputs": [
    {
     "data": {
      "text/plain": [
       "(6165, 16)"
      ]
     },
     "execution_count": 94,
     "metadata": {},
     "output_type": "execute_result"
    }
   ],
   "source": [
    "train_subset_usrbiz_update.shape"
   ]
  },
  {
   "cell_type": "code",
   "execution_count": 97,
   "metadata": {
    "collapsed": false
   },
   "outputs": [
    {
     "data": {
      "text/plain": [
       "34789"
      ]
     },
     "execution_count": 97,
     "metadata": {},
     "output_type": "execute_result"
    }
   ],
   "source": [
    "len(train_OG['user_id'].unique())"
   ]
  },
  {
   "cell_type": "code",
   "execution_count": 98,
   "metadata": {
    "collapsed": false
   },
   "outputs": [
    {
     "data": {
      "text/plain": [
       "4503"
      ]
     },
     "execution_count": 98,
     "metadata": {},
     "output_type": "execute_result"
    }
   ],
   "source": [
    "len(train_OG['business_id'].unique())"
   ]
  },
  {
   "cell_type": "code",
   "execution_count": null,
   "metadata": {
    "collapsed": true
   },
   "outputs": [],
   "source": []
  },
  {
   "cell_type": "code",
   "execution_count": null,
   "metadata": {
    "collapsed": true
   },
   "outputs": [],
   "source": []
  },
  {
   "cell_type": "code",
   "execution_count": null,
   "metadata": {
    "collapsed": true
   },
   "outputs": [],
   "source": []
  },
  {
   "cell_type": "code",
   "execution_count": null,
   "metadata": {
    "collapsed": true
   },
   "outputs": [],
   "source": []
  },
  {
   "cell_type": "code",
   "execution_count": null,
   "metadata": {
    "collapsed": true
   },
   "outputs": [],
   "source": []
  },
  {
   "cell_type": "code",
   "execution_count": null,
   "metadata": {
    "collapsed": true
   },
   "outputs": [],
   "source": []
  },
  {
   "cell_type": "code",
   "execution_count": null,
   "metadata": {
    "collapsed": true
   },
   "outputs": [],
   "source": []
  },
  {
   "cell_type": "code",
   "execution_count": null,
   "metadata": {
    "collapsed": true
   },
   "outputs": [],
   "source": []
  },
  {
   "cell_type": "code",
   "execution_count": null,
   "metadata": {
    "collapsed": true
   },
   "outputs": [],
   "source": []
  }
 ],
 "metadata": {
  "kernelspec": {
   "display_name": "Python 3",
   "language": "python",
   "name": "python3"
  },
  "language_info": {
   "codemirror_mode": {
    "name": "ipython",
    "version": 3
   },
   "file_extension": ".py",
   "mimetype": "text/x-python",
   "name": "python",
   "nbconvert_exporter": "python",
   "pygments_lexer": "ipython3",
   "version": "3.5.2"
  }
 },
 "nbformat": 4,
 "nbformat_minor": 1
}
