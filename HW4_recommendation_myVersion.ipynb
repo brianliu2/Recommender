{
 "cells": [
  {
   "cell_type": "code",
   "execution_count": 11,
   "metadata": {},
   "outputs": [],
   "source": [
    "import pandas as pd\n",
    "import numpy as np\n",
    "import matplotlib.pyplot as plt\n",
    "%matplotlib inline\n",
    "\n",
    "import seaborn as sns\n",
    "pd.options.display.max_columns = 50\n",
    "pd.options.display.max_colwidth = 500\n",
    "sns.set_style('whitegrid')\n"
   ]
  },
  {
   "cell_type": "code",
   "execution_count": 3,
   "metadata": {
    "collapsed": true
   },
   "outputs": [],
   "source": [
    "dataPath = ('H:\\Document\\Program\\Harvard Data Science Course\\HomeWork2013\\content-master\\content-master\\data\\\\')\n",
    "dataFile = 'restaurant_rating.csv'"
   ]
  },
  {
   "cell_type": "code",
   "execution_count": 123,
   "metadata": {
    "collapsed": true
   },
   "outputs": [],
   "source": [
    "train_OG = pd.read_csv(dataPath + dataFile)"
   ]
  },
  {
   "cell_type": "code",
   "execution_count": 397,
   "metadata": {
    "collapsed": true
   },
   "outputs": [],
   "source": [
    "train = train_OG.copy()"
   ]
  },
  {
   "cell_type": "code",
   "execution_count": 25,
   "metadata": {},
   "outputs": [
    {
     "name": "stdout",
     "output_type": "stream",
     "text": [
      "(149319, 16)\n"
     ]
    },
    {
     "data": {
      "text/html": [
       "<div>\n",
       "<table border=\"1\" class=\"dataframe\">\n",
       "  <thead>\n",
       "    <tr style=\"text-align: right;\">\n",
       "      <th></th>\n",
       "      <th>user_id</th>\n",
       "      <th>business_id</th>\n",
       "      <th>date</th>\n",
       "      <th>review_id</th>\n",
       "      <th>stars</th>\n",
       "      <th>usefulvotes_review</th>\n",
       "      <th>user_name</th>\n",
       "      <th>categories</th>\n",
       "      <th>biz_name</th>\n",
       "      <th>latitude</th>\n",
       "      <th>longitude</th>\n",
       "      <th>business_avg</th>\n",
       "      <th>business_review_count</th>\n",
       "      <th>user_avg</th>\n",
       "      <th>user_review_count</th>\n",
       "      <th>month</th>\n",
       "    </tr>\n",
       "  </thead>\n",
       "  <tbody>\n",
       "    <tr>\n",
       "      <th>0</th>\n",
       "      <td>rLtl8ZkDX5vH5nAx9C3q5Q</td>\n",
       "      <td>9yKzy9PApeiPPOUJEtnvkg</td>\n",
       "      <td>2011-01-26</td>\n",
       "      <td>fWKvX83p0-ka4JS3dc6E5A</td>\n",
       "      <td>5</td>\n",
       "      <td>5</td>\n",
       "      <td>Jason</td>\n",
       "      <td>[Breakfast &amp; Brunch, Restaurants]</td>\n",
       "      <td>Morning Glory Cafe</td>\n",
       "      <td>33.390792</td>\n",
       "      <td>-112.012504</td>\n",
       "      <td>3.87156</td>\n",
       "      <td>109</td>\n",
       "      <td>3.796954</td>\n",
       "      <td>197</td>\n",
       "      <td>1</td>\n",
       "    </tr>\n",
       "    <tr>\n",
       "      <th>1</th>\n",
       "      <td>SBbftLzfYYKItOMFwOTIJg</td>\n",
       "      <td>9yKzy9PApeiPPOUJEtnvkg</td>\n",
       "      <td>2008-05-04</td>\n",
       "      <td>DASdFe-g0BgfN9J2tanStg</td>\n",
       "      <td>5</td>\n",
       "      <td>1</td>\n",
       "      <td>Jennifer</td>\n",
       "      <td>[Breakfast &amp; Brunch, Restaurants]</td>\n",
       "      <td>Morning Glory Cafe</td>\n",
       "      <td>33.390792</td>\n",
       "      <td>-112.012504</td>\n",
       "      <td>3.87156</td>\n",
       "      <td>109</td>\n",
       "      <td>3.473684</td>\n",
       "      <td>57</td>\n",
       "      <td>5</td>\n",
       "    </tr>\n",
       "    <tr>\n",
       "      <th>2</th>\n",
       "      <td>mlBC3pN9GXlUUfQi1qBBZA</td>\n",
       "      <td>9yKzy9PApeiPPOUJEtnvkg</td>\n",
       "      <td>2010-07-05</td>\n",
       "      <td>W8CX2h_hmODWmgSJVbMifw</td>\n",
       "      <td>2</td>\n",
       "      <td>1</td>\n",
       "      <td>Jennifer</td>\n",
       "      <td>[Breakfast &amp; Brunch, Restaurants]</td>\n",
       "      <td>Morning Glory Cafe</td>\n",
       "      <td>33.390792</td>\n",
       "      <td>-112.012504</td>\n",
       "      <td>3.87156</td>\n",
       "      <td>109</td>\n",
       "      <td>3.702381</td>\n",
       "      <td>84</td>\n",
       "      <td>7</td>\n",
       "    </tr>\n",
       "  </tbody>\n",
       "</table>\n",
       "</div>"
      ],
      "text/plain": [
       "                  user_id             business_id       date  \\\n",
       "0  rLtl8ZkDX5vH5nAx9C3q5Q  9yKzy9PApeiPPOUJEtnvkg 2011-01-26   \n",
       "1  SBbftLzfYYKItOMFwOTIJg  9yKzy9PApeiPPOUJEtnvkg 2008-05-04   \n",
       "2  mlBC3pN9GXlUUfQi1qBBZA  9yKzy9PApeiPPOUJEtnvkg 2010-07-05   \n",
       "\n",
       "                review_id  stars  usefulvotes_review user_name  \\\n",
       "0  fWKvX83p0-ka4JS3dc6E5A      5                   5     Jason   \n",
       "1  DASdFe-g0BgfN9J2tanStg      5                   1  Jennifer   \n",
       "2  W8CX2h_hmODWmgSJVbMifw      2                   1  Jennifer   \n",
       "\n",
       "                          categories            biz_name   latitude  \\\n",
       "0  [Breakfast & Brunch, Restaurants]  Morning Glory Cafe  33.390792   \n",
       "1  [Breakfast & Brunch, Restaurants]  Morning Glory Cafe  33.390792   \n",
       "2  [Breakfast & Brunch, Restaurants]  Morning Glory Cafe  33.390792   \n",
       "\n",
       "    longitude  business_avg  business_review_count  user_avg  \\\n",
       "0 -112.012504       3.87156                    109  3.796954   \n",
       "1 -112.012504       3.87156                    109  3.473684   \n",
       "2 -112.012504       3.87156                    109  3.702381   \n",
       "\n",
       "   user_review_count  month  \n",
       "0                197      1  \n",
       "1                 57      5  \n",
       "2                 84      7  "
      ]
     },
     "execution_count": 25,
     "metadata": {},
     "output_type": "execute_result"
    }
   ],
   "source": [
    "print(train.shape)\n",
    "train.head(3)"
   ]
  },
  {
   "cell_type": "code",
   "execution_count": 9,
   "metadata": {},
   "outputs": [
    {
     "name": "stdout",
     "output_type": "stream",
     "text": [
      "<class 'pandas.core.frame.DataFrame'>\n",
      "RangeIndex: 149319 entries, 0 to 149318\n",
      "Data columns (total 15 columns):\n",
      "user_id                  149319 non-null object\n",
      "business_id              149319 non-null object\n",
      "date                     149319 non-null object\n",
      "review_id                149319 non-null object\n",
      "stars                    149319 non-null int64\n",
      "usefulvotes_review       149319 non-null int64\n",
      "user_name                149319 non-null object\n",
      "categories               149319 non-null object\n",
      "biz_name                 149319 non-null object\n",
      "latitude                 149319 non-null float64\n",
      "longitude                149319 non-null float64\n",
      "business_avg             149319 non-null float64\n",
      "business_review_count    149319 non-null int64\n",
      "user_avg                 149319 non-null float64\n",
      "user_review_count        149319 non-null int64\n",
      "dtypes: float64(4), int64(4), object(7)\n",
      "memory usage: 17.1+ MB\n"
     ]
    }
   ],
   "source": [
    "train.info()"
   ]
  },
  {
   "cell_type": "code",
   "execution_count": 10,
   "metadata": {},
   "outputs": [
    {
     "data": {
      "text/html": [
       "<div>\n",
       "<table border=\"1\" class=\"dataframe\">\n",
       "  <thead>\n",
       "    <tr style=\"text-align: right;\">\n",
       "      <th></th>\n",
       "      <th>stars</th>\n",
       "      <th>usefulvotes_review</th>\n",
       "      <th>latitude</th>\n",
       "      <th>longitude</th>\n",
       "      <th>business_avg</th>\n",
       "      <th>business_review_count</th>\n",
       "      <th>user_avg</th>\n",
       "      <th>user_review_count</th>\n",
       "    </tr>\n",
       "  </thead>\n",
       "  <tbody>\n",
       "    <tr>\n",
       "      <th>count</th>\n",
       "      <td>149319.000000</td>\n",
       "      <td>149319.000000</td>\n",
       "      <td>149319.000000</td>\n",
       "      <td>149319.000000</td>\n",
       "      <td>149319.000000</td>\n",
       "      <td>149319.000000</td>\n",
       "      <td>149319.000000</td>\n",
       "      <td>149319.000000</td>\n",
       "    </tr>\n",
       "    <tr>\n",
       "      <th>mean</th>\n",
       "      <td>3.741413</td>\n",
       "      <td>1.349741</td>\n",
       "      <td>33.484835</td>\n",
       "      <td>-111.984559</td>\n",
       "      <td>3.741413</td>\n",
       "      <td>129.234987</td>\n",
       "      <td>3.741413</td>\n",
       "      <td>31.852082</td>\n",
       "    </tr>\n",
       "    <tr>\n",
       "      <th>std</th>\n",
       "      <td>1.185309</td>\n",
       "      <td>2.154615</td>\n",
       "      <td>0.109204</td>\n",
       "      <td>0.121524</td>\n",
       "      <td>0.486074</td>\n",
       "      <td>136.521707</td>\n",
       "      <td>0.711949</td>\n",
       "      <td>49.701214</td>\n",
       "    </tr>\n",
       "    <tr>\n",
       "      <th>min</th>\n",
       "      <td>1.000000</td>\n",
       "      <td>0.000000</td>\n",
       "      <td>32.876848</td>\n",
       "      <td>-112.875482</td>\n",
       "      <td>1.000000</td>\n",
       "      <td>1.000000</td>\n",
       "      <td>1.000000</td>\n",
       "      <td>1.000000</td>\n",
       "    </tr>\n",
       "    <tr>\n",
       "      <th>25%</th>\n",
       "      <td>3.000000</td>\n",
       "      <td>0.000000</td>\n",
       "      <td>33.422169</td>\n",
       "      <td>-112.065458</td>\n",
       "      <td>3.467649</td>\n",
       "      <td>37.000000</td>\n",
       "      <td>3.444444</td>\n",
       "      <td>3.000000</td>\n",
       "    </tr>\n",
       "    <tr>\n",
       "      <th>50%</th>\n",
       "      <td>4.000000</td>\n",
       "      <td>1.000000</td>\n",
       "      <td>33.492502</td>\n",
       "      <td>-111.963708</td>\n",
       "      <td>3.838710</td>\n",
       "      <td>82.000000</td>\n",
       "      <td>3.767442</td>\n",
       "      <td>11.000000</td>\n",
       "    </tr>\n",
       "    <tr>\n",
       "      <th>75%</th>\n",
       "      <td>5.000000</td>\n",
       "      <td>2.000000</td>\n",
       "      <td>33.538351</td>\n",
       "      <td>-111.923255</td>\n",
       "      <td>4.071749</td>\n",
       "      <td>170.000000</td>\n",
       "      <td>4.083333</td>\n",
       "      <td>39.000000</td>\n",
       "    </tr>\n",
       "    <tr>\n",
       "      <th>max</th>\n",
       "      <td>5.000000</td>\n",
       "      <td>82.000000</td>\n",
       "      <td>34.002867</td>\n",
       "      <td>-111.386046</td>\n",
       "      <td>5.000000</td>\n",
       "      <td>742.000000</td>\n",
       "      <td>5.000000</td>\n",
       "      <td>332.000000</td>\n",
       "    </tr>\n",
       "  </tbody>\n",
       "</table>\n",
       "</div>"
      ],
      "text/plain": [
       "               stars  usefulvotes_review       latitude      longitude  \\\n",
       "count  149319.000000       149319.000000  149319.000000  149319.000000   \n",
       "mean        3.741413            1.349741      33.484835    -111.984559   \n",
       "std         1.185309            2.154615       0.109204       0.121524   \n",
       "min         1.000000            0.000000      32.876848    -112.875482   \n",
       "25%         3.000000            0.000000      33.422169    -112.065458   \n",
       "50%         4.000000            1.000000      33.492502    -111.963708   \n",
       "75%         5.000000            2.000000      33.538351    -111.923255   \n",
       "max         5.000000           82.000000      34.002867    -111.386046   \n",
       "\n",
       "        business_avg  business_review_count       user_avg  user_review_count  \n",
       "count  149319.000000          149319.000000  149319.000000      149319.000000  \n",
       "mean        3.741413             129.234987       3.741413          31.852082  \n",
       "std         0.486074             136.521707       0.711949          49.701214  \n",
       "min         1.000000               1.000000       1.000000           1.000000  \n",
       "25%         3.467649              37.000000       3.444444           3.000000  \n",
       "50%         3.838710              82.000000       3.767442          11.000000  \n",
       "75%         4.071749             170.000000       4.083333          39.000000  \n",
       "max         5.000000             742.000000       5.000000         332.000000  "
      ]
     },
     "execution_count": 10,
     "metadata": {},
     "output_type": "execute_result"
    }
   ],
   "source": [
    "train.describe()"
   ]
  },
  {
   "cell_type": "code",
   "execution_count": 13,
   "metadata": {
    "collapsed": true
   },
   "outputs": [],
   "source": [
    "train['date'] = pd.to_datetime(train['date'])"
   ]
  },
  {
   "cell_type": "code",
   "execution_count": 16,
   "metadata": {},
   "outputs": [],
   "source": [
    "train['month'] = train['date'].apply(lambda d: d.month)"
   ]
  },
  {
   "cell_type": "code",
   "execution_count": 19,
   "metadata": {},
   "outputs": [
    {
     "data": {
      "image/png": "[encoded data removed]",
      "text/plain": [
       "<matplotlib.figure.Figure at 0xcf04780>"
      ]
     },
     "metadata": {},
     "output_type": "display_data"
    }
   ],
   "source": [
    "train['month'].plot(kind='hist');"
   ]
  },
  {
   "cell_type": "code",
   "execution_count": 20,
   "metadata": {},
   "outputs": [
    {
     "data": {
      "text/plain": [
       "266"
      ]
     },
     "execution_count": 20,
     "metadata": {},
     "output_type": "execute_result"
    }
   ],
   "source": [
    "len(train['business_review_count'].value_counts())"
   ]
  },
  {
   "cell_type": "code",
   "execution_count": 26,
   "metadata": {},
   "outputs": [
    {
     "data": {
      "text/plain": [
       "Index(['user_id', 'business_id', 'date', 'review_id', 'stars',\n",
       "       'usefulvotes_review', 'user_name', 'categories', 'biz_name', 'latitude',\n",
       "       'longitude', 'business_avg', 'business_review_count', 'user_avg',\n",
       "       'user_review_count', 'month'],\n",
       "      dtype='object')"
      ]
     },
     "execution_count": 26,
     "metadata": {},
     "output_type": "execute_result"
    }
   ],
   "source": [
    "train.columns"
   ]
  },
  {
   "cell_type": "code",
   "execution_count": 45,
   "metadata": {},
   "outputs": [],
   "source": [
    "cnt = train.groupby(['business_review_count', 'business_id'])['business_id'].count()"
   ]
  },
  {
   "cell_type": "code",
   "execution_count": 46,
   "metadata": {},
   "outputs": [
    {
     "data": {
      "text/plain": [
       "<matplotlib.axes._subplots.AxesSubplot at 0xe62a588>"
      ]
     },
     "execution_count": 46,
     "metadata": {},
     "output_type": "execute_result"
    },
    {
     "data": {
      "image/png": "[encoded data removed]",
      "text/plain": [
       "<matplotlib.figure.Figure at 0xc543860>"
      ]
     },
     "metadata": {},
     "output_type": "display_data"
    }
   ],
   "source": [
    "cnt.plot(kind='hist')"
   ]
  },
  {
   "cell_type": "code",
   "execution_count": 100,
   "metadata": {},
   "outputs": [
    {
     "data": {
      "image/png": "[encoded data removed]",
      "text/plain": [
       "<matplotlib.figure.Figure at 0x126b2320>"
      ]
     },
     "metadata": {},
     "output_type": "display_data"
    }
   ],
   "source": [
    "businessReviewTimes = train.groupby(['business_id', 'business_avg'])['business_id'].count()\n",
    "businesReviewRates = train.groupby(['business_id', 'business_avg'])['business_avg'].mean()\n",
    "#print(businessReviewTimes[businessReviewTimes > 10][0:10])\n",
    "businesReviewRates[businessReviewTimes>50].hist(bins=10, edgecolor='w', lw=1)\n",
    "plt.xlabel(\"Average business rating when the business is reviewed more than 50 times\")\n",
    "plt.ylabel(\"Business reviewed times\")\n",
    "plt.xticks([0, 1, 2, 3, 4, 5]);\n",
    "plt.axvline(businesReviewRates[businessReviewTimes>50].mean(), 0, 200, color='red');"
   ]
  },
  {
   "cell_type": "code",
   "execution_count": 96,
   "metadata": {},
   "outputs": [
    {
     "data": {
      "image/png": "[encoded data removed]",
      "text/plain": [
       "<matplotlib.figure.Figure at 0x12c56400>"
      ]
     },
     "metadata": {},
     "output_type": "display_data"
    }
   ],
   "source": [
    "userReviewTimes = train.groupby(['user_id', 'user_avg'])['user_id'].count()\n",
    "userReviewRates = train.groupby(['user_id', 'user_avg'])['user_avg'].mean()\n",
    "#print(userReviewTimes[userReviewTimes > 50][0:10])\n",
    "userReviewRates[userReviewTimes>50].hist(bins=10, edgecolor='w', lw=1)\n",
    "plt.xlabel(\"Average user rating when the user reviews more than 50 times\")\n",
    "plt.ylabel(\"Review times\")\n",
    "plt.xticks([0, 1, 2, 3, 4, 5]);\n",
    "plt.axvline(userReviewRates[userReviewTimes>50].mean(), 0, 200, color='red');"
   ]
  },
  {
   "cell_type": "markdown",
   "metadata": {},
   "source": [
    "### Exploratory Data Analysis"
   ]
  },
  {
   "cell_type": "markdown",
   "metadata": {},
   "source": [
    "**1.1** Visualize the sparsity of the full data set by plotting two histograms of the review count  grouped by the `user_id` and `business_id` respectively. Are there more users or more businesses? "
   ]
  },
  {
   "cell_type": "code",
   "execution_count": 398,
   "metadata": {},
   "outputs": [
    {
     "data": {
      "text/plain": [
       "Index(['user_id', 'business_id', 'date', 'review_id', 'stars',\n",
       "       'usefulvotes_review', 'user_name', 'categories', 'biz_name', 'latitude',\n",
       "       'longitude', 'business_avg', 'business_review_count', 'user_avg',\n",
       "       'user_review_count'],\n",
       "      dtype='object')"
      ]
     },
     "execution_count": 398,
     "metadata": {},
     "output_type": "execute_result"
    }
   ],
   "source": [
    "train.columns"
   ]
  },
  {
   "cell_type": "code",
   "execution_count": 399,
   "metadata": {},
   "outputs": [
    {
     "data": {
      "text/plain": [
       "34789"
      ]
     },
     "execution_count": 399,
     "metadata": {},
     "output_type": "execute_result"
    }
   ],
   "source": [
    "len(train['user_id'].value_counts())"
   ]
  },
  {
   "cell_type": "code",
   "execution_count": 400,
   "metadata": {},
   "outputs": [
    {
     "data": {
      "text/plain": [
       "4503"
      ]
     },
     "execution_count": 400,
     "metadata": {},
     "output_type": "execute_result"
    }
   ],
   "source": [
    "len(train['business_id'].value_counts())"
   ]
  },
  {
   "cell_type": "code",
   "execution_count": 401,
   "metadata": {},
   "outputs": [
    {
     "data": {
      "image/png": "[encoded data removed]",
      "text/plain": [
       "<matplotlib.figure.Figure at 0x1b1d7208>"
      ]
     },
     "metadata": {},
     "output_type": "display_data"
    }
   ],
   "source": [
    "train.groupby(['user_id'])['review_id'].count().hist(bins=10, edgecolor='w', lw=1);\n"
   ]
  },
  {
   "cell_type": "code",
   "execution_count": 402,
   "metadata": {},
   "outputs": [
    {
     "data": {
      "image/png": "[encoded data removed]",
      "text/plain": [
       "<matplotlib.figure.Figure at 0x287f4e48>"
      ]
     },
     "metadata": {},
     "output_type": "display_data"
    }
   ],
   "source": [
    "train.groupby(['business_id'])['review_id'].count().hist(bins=10, edgecolor='w', lw=1);"
   ]
  },
  {
   "cell_type": "markdown",
   "metadata": {},
   "source": [
    "**1.2** Compute the average rating of reviews in the data set and a histogram of all the ratings in the dataset."
   ]
  },
  {
   "cell_type": "code",
   "execution_count": 403,
   "metadata": {},
   "outputs": [
    {
     "data": {
      "text/plain": [
       "<matplotlib.axes._subplots.AxesSubplot at 0x2ac347f0>"
      ]
     },
     "execution_count": 403,
     "metadata": {},
     "output_type": "execute_result"
    },
    {
     "data": {
      "image/png": "[encoded data removed]",
      "text/plain": [
       "<matplotlib.figure.Figure at 0x294f2c88>"
      ]
     },
     "metadata": {},
     "output_type": "display_data"
    }
   ],
   "source": [
    "train['stars'].hist(bins=5, edgecolor='w', lw=1)"
   ]
  },
  {
   "cell_type": "markdown",
   "metadata": {},
   "source": [
    "**1.3** Create a smaller data set in dataframe `smalldf` by looking for those businesses with more than 150 reviews and those users with more than 60 reviews. Include all the columns that were there in the parent dataframe. Since you have created a subset of the data set, use the method provided above to recalculate the averages. Print the number of unique users and items in this data set.  \n",
    "\n",
    "Note that while this cut makes sure we have prolific users, the cut on businesses restores sparsity  by reducing the number of reviews per user."
   ]
  },
  {
   "cell_type": "code",
   "execution_count": 404,
   "metadata": {},
   "outputs": [],
   "source": [
    "train_subset = train[(train['business_review_count'] > 150) & (train['user_review_count'] > 60)]"
   ]
  },
  {
   "cell_type": "code",
   "execution_count": 405,
   "metadata": {},
   "outputs": [
    {
     "data": {
      "text/html": [
       "<div>\n",
       "<table border=\"1\" class=\"dataframe\">\n",
       "  <thead>\n",
       "    <tr style=\"text-align: right;\">\n",
       "      <th></th>\n",
       "      <th>user_id</th>\n",
       "      <th>business_id</th>\n",
       "      <th>date</th>\n",
       "      <th>review_id</th>\n",
       "      <th>stars</th>\n",
       "      <th>usefulvotes_review</th>\n",
       "      <th>user_name</th>\n",
       "      <th>categories</th>\n",
       "      <th>biz_name</th>\n",
       "      <th>latitude</th>\n",
       "      <th>longitude</th>\n",
       "      <th>business_avg</th>\n",
       "      <th>business_review_count</th>\n",
       "      <th>user_avg</th>\n",
       "      <th>user_review_count</th>\n",
       "    </tr>\n",
       "  </thead>\n",
       "  <tbody>\n",
       "    <tr>\n",
       "      <th>395</th>\n",
       "      <td>rLtl8ZkDX5vH5nAx9C3q5Q</td>\n",
       "      <td>eIxSLxzIlfExI6vgAbn2JA</td>\n",
       "      <td>2011-05-12 00:00:00</td>\n",
       "      <td>z4G1g3VcdfigCUtVDFRL1w</td>\n",
       "      <td>4</td>\n",
       "      <td>5</td>\n",
       "      <td>Jason</td>\n",
       "      <td>[Burgers, Hot Dogs, American (New), Restaurants]</td>\n",
       "      <td>Lobbys Beef Burgers Dogs</td>\n",
       "      <td>33.39477</td>\n",
       "      <td>-111.908894</td>\n",
       "      <td>4.283237</td>\n",
       "      <td>173</td>\n",
       "      <td>3.796954</td>\n",
       "      <td>197</td>\n",
       "    </tr>\n",
       "    <tr>\n",
       "      <th>397</th>\n",
       "      <td>C6IOtaaYdLIT5fWd7ZYIuA</td>\n",
       "      <td>eIxSLxzIlfExI6vgAbn2JA</td>\n",
       "      <td>2011-04-12 00:00:00</td>\n",
       "      <td>480M-xDpRaA1gCVCqIG4WA</td>\n",
       "      <td>4</td>\n",
       "      <td>14</td>\n",
       "      <td>Daren</td>\n",
       "      <td>[Burgers, Hot Dogs, American (New), Restaurants]</td>\n",
       "      <td>Lobbys Beef Burgers Dogs</td>\n",
       "      <td>33.39477</td>\n",
       "      <td>-111.908894</td>\n",
       "      <td>4.283237</td>\n",
       "      <td>173</td>\n",
       "      <td>3.784689</td>\n",
       "      <td>209</td>\n",
       "    </tr>\n",
       "    <tr>\n",
       "      <th>399</th>\n",
       "      <td>mlBC3pN9GXlUUfQi1qBBZA</td>\n",
       "      <td>eIxSLxzIlfExI6vgAbn2JA</td>\n",
       "      <td>2011-09-17 00:00:00</td>\n",
       "      <td>q_T6FtScTul_yYIGyrgTxA</td>\n",
       "      <td>3</td>\n",
       "      <td>0</td>\n",
       "      <td>Jennifer</td>\n",
       "      <td>[Burgers, Hot Dogs, American (New), Restaurants]</td>\n",
       "      <td>Lobbys Beef Burgers Dogs</td>\n",
       "      <td>33.39477</td>\n",
       "      <td>-111.908894</td>\n",
       "      <td>4.283237</td>\n",
       "      <td>173</td>\n",
       "      <td>3.702381</td>\n",
       "      <td>84</td>\n",
       "    </tr>\n",
       "  </tbody>\n",
       "</table>\n",
       "</div>"
      ],
      "text/plain": [
       "                    user_id             business_id                 date  \\\n",
       "395  rLtl8ZkDX5vH5nAx9C3q5Q  eIxSLxzIlfExI6vgAbn2JA  2011-05-12 00:00:00   \n",
       "397  C6IOtaaYdLIT5fWd7ZYIuA  eIxSLxzIlfExI6vgAbn2JA  2011-04-12 00:00:00   \n",
       "399  mlBC3pN9GXlUUfQi1qBBZA  eIxSLxzIlfExI6vgAbn2JA  2011-09-17 00:00:00   \n",
       "\n",
       "                  review_id  stars  usefulvotes_review user_name  \\\n",
       "395  z4G1g3VcdfigCUtVDFRL1w      4                   5     Jason   \n",
       "397  480M-xDpRaA1gCVCqIG4WA      4                  14     Daren   \n",
       "399  q_T6FtScTul_yYIGyrgTxA      3                   0  Jennifer   \n",
       "\n",
       "                                           categories  \\\n",
       "395  [Burgers, Hot Dogs, American (New), Restaurants]   \n",
       "397  [Burgers, Hot Dogs, American (New), Restaurants]   \n",
       "399  [Burgers, Hot Dogs, American (New), Restaurants]   \n",
       "\n",
       "                     biz_name  latitude   longitude  business_avg  \\\n",
       "395  Lobbys Beef Burgers Dogs  33.39477 -111.908894      4.283237   \n",
       "397  Lobbys Beef Burgers Dogs  33.39477 -111.908894      4.283237   \n",
       "399  Lobbys Beef Burgers Dogs  33.39477 -111.908894      4.283237   \n",
       "\n",
       "     business_review_count  user_avg  user_review_count  \n",
       "395                    173  3.796954                197  \n",
       "397                    173  3.784689                209  \n",
       "399                    173  3.702381                 84  "
      ]
     },
     "execution_count": 405,
     "metadata": {},
     "output_type": "execute_result"
    }
   ],
   "source": [
    "train_subset.head(3)"
   ]
  },
  {
   "cell_type": "code",
   "execution_count": 411,
   "metadata": {
    "collapsed": true
   },
   "outputs": [],
   "source": [
    "def df_update_user_biz_avg(df):\n",
    "    df_user_group = df.groupby('user_id')\n",
    "    df_biz_group = df.groupby('business_id')\n",
    "    \n",
    "    user_view_count = df_user_group['review_id'].count()\n",
    "    biz_view_count = df_biz_group['review_id'].count()\n",
    "    \n",
    "    star_user_group_Avg = df_user_group['stars'].mean()\n",
    "    star_biz_group_Avg = df_biz_group['stars'].mean()\n",
    "    \n",
    "    df_update = df.copy()\n",
    "    \n",
    "    df_update.set_index(['user_id'], inplace = True)\n",
    "    df_update['user_avg'] = star_user_group_Avg\n",
    "    df_update['user_review_count'] = user_view_count\n",
    "    df_update.reset_index(inplace = True)\n",
    "    \n",
    "    df_update.set_index(['business_id'], inplace = True)\n",
    "    df_update['business_avg'] = star_biz_group_Avg\n",
    "    df_update['business_review_count'] = biz_view_count\n",
    "    df_update.reset_index(inplace = True)\n",
    "    \n",
    "    return df_update"
   ]
  },
  {
   "cell_type": "code",
   "execution_count": 412,
   "metadata": {},
   "outputs": [
    {
     "data": {
      "text/html": [
       "<div>\n",
       "<table border=\"1\" class=\"dataframe\">\n",
       "  <thead>\n",
       "    <tr style=\"text-align: right;\">\n",
       "      <th></th>\n",
       "      <th>business_id</th>\n",
       "      <th>user_id</th>\n",
       "      <th>date</th>\n",
       "      <th>review_id</th>\n",
       "      <th>stars</th>\n",
       "      <th>usefulvotes_review</th>\n",
       "      <th>user_name</th>\n",
       "      <th>categories</th>\n",
       "      <th>biz_name</th>\n",
       "      <th>latitude</th>\n",
       "      <th>longitude</th>\n",
       "      <th>business_avg</th>\n",
       "      <th>business_review_count</th>\n",
       "      <th>user_avg</th>\n",
       "      <th>user_review_count</th>\n",
       "    </tr>\n",
       "  </thead>\n",
       "  <tbody>\n",
       "    <tr>\n",
       "      <th>0</th>\n",
       "      <td>eIxSLxzIlfExI6vgAbn2JA</td>\n",
       "      <td>rLtl8ZkDX5vH5nAx9C3q5Q</td>\n",
       "      <td>2011-05-12 00:00:00</td>\n",
       "      <td>z4G1g3VcdfigCUtVDFRL1w</td>\n",
       "      <td>4</td>\n",
       "      <td>5</td>\n",
       "      <td>Jason</td>\n",
       "      <td>[Burgers, Hot Dogs, American (New), Restaurants]</td>\n",
       "      <td>Lobbys Beef Burgers Dogs</td>\n",
       "      <td>33.39477</td>\n",
       "      <td>-111.908894</td>\n",
       "      <td>4.04</td>\n",
       "      <td>25</td>\n",
       "      <td>3.709677</td>\n",
       "      <td>62</td>\n",
       "    </tr>\n",
       "    <tr>\n",
       "      <th>1</th>\n",
       "      <td>eIxSLxzIlfExI6vgAbn2JA</td>\n",
       "      <td>C6IOtaaYdLIT5fWd7ZYIuA</td>\n",
       "      <td>2011-04-12 00:00:00</td>\n",
       "      <td>480M-xDpRaA1gCVCqIG4WA</td>\n",
       "      <td>4</td>\n",
       "      <td>14</td>\n",
       "      <td>Daren</td>\n",
       "      <td>[Burgers, Hot Dogs, American (New), Restaurants]</td>\n",
       "      <td>Lobbys Beef Burgers Dogs</td>\n",
       "      <td>33.39477</td>\n",
       "      <td>-111.908894</td>\n",
       "      <td>4.04</td>\n",
       "      <td>25</td>\n",
       "      <td>4.000000</td>\n",
       "      <td>15</td>\n",
       "    </tr>\n",
       "    <tr>\n",
       "      <th>2</th>\n",
       "      <td>eIxSLxzIlfExI6vgAbn2JA</td>\n",
       "      <td>mlBC3pN9GXlUUfQi1qBBZA</td>\n",
       "      <td>2011-09-17 00:00:00</td>\n",
       "      <td>q_T6FtScTul_yYIGyrgTxA</td>\n",
       "      <td>3</td>\n",
       "      <td>0</td>\n",
       "      <td>Jennifer</td>\n",
       "      <td>[Burgers, Hot Dogs, American (New), Restaurants]</td>\n",
       "      <td>Lobbys Beef Burgers Dogs</td>\n",
       "      <td>33.39477</td>\n",
       "      <td>-111.908894</td>\n",
       "      <td>4.04</td>\n",
       "      <td>25</td>\n",
       "      <td>3.750000</td>\n",
       "      <td>12</td>\n",
       "    </tr>\n",
       "  </tbody>\n",
       "</table>\n",
       "</div>"
      ],
      "text/plain": [
       "              business_id                 user_id                 date  \\\n",
       "0  eIxSLxzIlfExI6vgAbn2JA  rLtl8ZkDX5vH5nAx9C3q5Q  2011-05-12 00:00:00   \n",
       "1  eIxSLxzIlfExI6vgAbn2JA  C6IOtaaYdLIT5fWd7ZYIuA  2011-04-12 00:00:00   \n",
       "2  eIxSLxzIlfExI6vgAbn2JA  mlBC3pN9GXlUUfQi1qBBZA  2011-09-17 00:00:00   \n",
       "\n",
       "                review_id  stars  usefulvotes_review user_name  \\\n",
       "0  z4G1g3VcdfigCUtVDFRL1w      4                   5     Jason   \n",
       "1  480M-xDpRaA1gCVCqIG4WA      4                  14     Daren   \n",
       "2  q_T6FtScTul_yYIGyrgTxA      3                   0  Jennifer   \n",
       "\n",
       "                                         categories                  biz_name  \\\n",
       "0  [Burgers, Hot Dogs, American (New), Restaurants]  Lobbys Beef Burgers Dogs   \n",
       "1  [Burgers, Hot Dogs, American (New), Restaurants]  Lobbys Beef Burgers Dogs   \n",
       "2  [Burgers, Hot Dogs, American (New), Restaurants]  Lobbys Beef Burgers Dogs   \n",
       "\n",
       "   latitude   longitude  business_avg  business_review_count  user_avg  \\\n",
       "0  33.39477 -111.908894          4.04                     25  3.709677   \n",
       "1  33.39477 -111.908894          4.04                     25  4.000000   \n",
       "2  33.39477 -111.908894          4.04                     25  3.750000   \n",
       "\n",
       "   user_review_count  \n",
       "0                 62  \n",
       "1                 15  \n",
       "2                 12  "
      ]
     },
     "execution_count": 412,
     "metadata": {},
     "output_type": "execute_result"
    }
   ],
   "source": [
    "train_subset_usrbiz_update = df_update_user_biz_avg(train_subset)\n",
    "train_subset_usrbiz_update.head(3)"
   ]
  },
  {
   "cell_type": "markdown",
   "metadata": {},
   "source": [
    "How does this compare to the parent data set, in terms of size and sparsity? Once again, plot histograms of the review count grouped by user, and by the review count grouped by business, respectively, and describe the results"
   ]
  },
  {
   "cell_type": "code",
   "execution_count": 413,
   "metadata": {},
   "outputs": [
    {
     "name": "stdout",
     "output_type": "stream",
     "text": [
      "There are 6165 reviews when we set a certain condition\n",
      "6165 reviews are given by 240 differnt users to 172 resturants\n"
     ]
    }
   ],
   "source": [
    "print('There are {0} reviews when we set a certain condition'.format(train_subset_usrbiz_update.shape[0]))\n",
    "print('{0} reviews are given by {1} differnt users to {2} resturants'.format(train_subset_usrbiz_update.shape[0],\n",
    "      len(train_subset_usrbiz_update['user_id'].unique()), len(train_subset_usrbiz_update['business_id'].unique())))"
   ]
  },
  {
   "cell_type": "code",
   "execution_count": 414,
   "metadata": {},
   "outputs": [
    {
     "data": {
      "image/png": "[encoded data removed]",
      "text/plain": [
       "<matplotlib.figure.Figure at 0x2f41ae10>"
      ]
     },
     "metadata": {},
     "output_type": "display_data"
    }
   ],
   "source": [
    "plt.hist(train_subset_usrbiz_update.groupby('user_id')['user_review_count'].count())\n",
    "plt.xlabel('Reviews per user after certain condition');"
   ]
  },
  {
   "cell_type": "code",
   "execution_count": 415,
   "metadata": {},
   "outputs": [
    {
     "data": {
      "image/png": "[encoded data removed]",
      "text/plain": [
       "<matplotlib.figure.Figure at 0x2b820a20>"
      ]
     },
     "metadata": {},
     "output_type": "display_data"
    }
   ],
   "source": [
    "plt.hist(train_subset_usrbiz_update.groupby('business_id')['business_review_count'].count())\n",
    "plt.xlabel('Reviews per business after certain condition');"
   ]
  },
  {
   "cell_type": "markdown",
   "metadata": {},
   "source": [
    "Comparing to the Reviews per user given and Reviews per business received, after the condition selection, the data becomes less sparse, since the original data has steep decline in histogram over these two quantities, while with certatin condition the histograms tend to be more flatten."
   ]
  },
  {
   "cell_type": "markdown",
   "metadata": {},
   "source": [
    "**1.4** Compute histograms of the average user rating in the smaller data set, and the average business rating in the smaller data set. Print the overall mean."
   ]
  },
  {
   "cell_type": "code",
   "execution_count": 416,
   "metadata": {},
   "outputs": [
    {
     "data": {
      "image/png": "[encoded data removed]",
      "text/plain": [
       "<matplotlib.figure.Figure at 0x2be2a080>"
      ]
     },
     "metadata": {},
     "output_type": "display_data"
    }
   ],
   "source": [
    "train_subset_usrbiz_update.groupby('user_id')['stars'].mean().hist(bins=10)\n",
    "plt.axvline(train_subset_usrbiz_update.groupby('user_id')['stars'].mean().mean(), 0, 200, color='red')\n",
    "plt.xlabel('average user rating after applying selective condition');"
   ]
  },
  {
   "cell_type": "code",
   "execution_count": 417,
   "metadata": {},
   "outputs": [
    {
     "data": {
      "image/png": "[encoded data removed]",
      "text/plain": [
       "<matplotlib.figure.Figure at 0x305b2fd0>"
      ]
     },
     "metadata": {},
     "output_type": "display_data"
    }
   ],
   "source": [
    "train_subset_usrbiz_update.groupby('business_id')['stars'].mean().hist(bins=10)\n",
    "plt.axvline(train_subset_usrbiz_update.groupby('business_id')['stars'].mean().mean(), 0, 200, color='red')\n",
    "plt.xlabel('average business rating after applying selective condition');"
   ]
  },
  {
   "cell_type": "markdown",
   "metadata": {},
   "source": [
    "## 1. A global similarity based recommender"
   ]
  },
  {
   "cell_type": "markdown",
   "metadata": {},
   "source": [
    "### Common Support\n",
    "\n",
    "Lets now make a histogram of the common user support (the number of common reviewers) of each pair of restaurants on the smaller set, and print the mean. Pay attention to the code, as you will use parts of it later. (This code takes a bit of time to run, so be patient).\n",
    "\n",
    "The common support is an important concept, as for each pair of restaurants, its the number of people who reviewed both. It will be used to modify similarity between restaurants. If the common support is low, the similarity is less believable."
   ]
  },
  {
   "cell_type": "code",
   "execution_count": 418,
   "metadata": {},
   "outputs": [
    {
     "name": "stdout",
     "output_type": "stream",
     "text": [
      "{1, 3, 5}\n",
      "3 entries exist both in list a and list b\n"
     ]
    }
   ],
   "source": [
    "a = [1,2,3,4,5]\n",
    "b = [1,3,5,6]\n",
    "print(set(a).intersection(b))\n",
    "print('{0} entries exist both in list a and list b'.format(len(set(a).intersection(b))))"
   ]
  },
  {
   "cell_type": "code",
   "execution_count": 419,
   "metadata": {},
   "outputs": [
    {
     "name": "stdout",
     "output_type": "stream",
     "text": [
      "Mean support is: 6.84679722562\n"
     ]
    },
    {
     "data": {
      "image/png": "[encoded data removed]",
      "text/plain": [
       "<matplotlib.figure.Figure at 0x2b83aa20>"
      ]
     },
     "metadata": {},
     "output_type": "display_data"
    }
   ],
   "source": [
    "restaurants = train_subset_usrbiz_update['business_id'].unique()\n",
    "\n",
    "supports=[]\n",
    "for i, rest1 in enumerate(restaurants):\n",
    "    for j, rest2 in enumerate(restaurants):\n",
    "        if  i < j:\n",
    "            rest1_reviewers = train_subset_usrbiz_update[train_subset_usrbiz_update.business_id==rest1]['user_id'].unique()\n",
    "            rest2_reviewers = train_subset_usrbiz_update[train_subset_usrbiz_update.business_id==rest2]['user_id'].unique()\n",
    "            common_reviewers = set(rest1_reviewers).intersection(rest2_reviewers)\n",
    "            supports.append(len(common_reviewers))\n",
    "            \n",
    "print( \"Mean support is:\", np.mean(supports))\n",
    "plt.hist(supports);"
   ]
  },
  {
   "cell_type": "markdown",
   "metadata": {},
   "source": [
    "As you can see, even though we chose a subset of the dataframe in which every restaurant had 150 reviews and every user had at least made 60 reviews, the common support (users comment on pair-two resturants over all resturants considered) of most pairs of restaurants is really low, indeed less than 10!."
   ]
  },
  {
   "cell_type": "markdown",
   "metadata": {},
   "source": [
    "### Calculating Similarity"
   ]
  },
  {
   "cell_type": "markdown",
   "metadata": {},
   "source": [
    "The function `get_restaurant_reviews` defined below takes a restaurant `business_id` and a set of users, and returns the reviews of that restaurant by those users. You will use this function in calculating a similarity function, in **1.5**."
   ]
  },
  {
   "cell_type": "code",
   "execution_count": 439,
   "metadata": {},
   "outputs": [],
   "source": [
    "#p1 = {'name': 'willy', 'age': 10}\n",
    "#p2 = {'name': 'willy', 'age': 11}\n",
    "#p3 = {'name': 'zoe', 'age': 10}\n",
    "#df = pd.DataFrame([p1, p2, p3])\n",
    "#print(df,'\\n')\n",
    "#print(df.duplicated('name'))\n",
    "#df[df['name'].duplicated()==False]"
   ]
  },
  {
   "cell_type": "code",
   "execution_count": 425,
   "metadata": {
    "collapsed": true
   },
   "outputs": [],
   "source": [
    "def get_restaurant_reviews(df, biz_id, users):\n",
    "    mask = (df['business_id'] == biz_id) & (df['user_id'].isin(users))\n",
    "    df_biz_id_rate = df[mask]\n",
    "    df_biz_id_rate = df_biz_id_rate[df_biz_id_rate['user_id'].duplicated() == False]\n",
    "    \n",
    "    #df_user_group = df.groupby('user_id')\n",
    "    #df_biz_id_rate = df_user_group[(df_user_group['user_id'].users)][(df_user_group['business_id'] == biz_id)]\n",
    "    #df_biz_id_rate = df_user_group[df_user_group['user_id'] == users]\n",
    "    #df_biz_id_rate = df_biz_id_rate[df_biz_id_rate['business_id'] == biz_id]\n",
    "    return df_biz_id_rate"
   ]
  },
  {
   "cell_type": "code",
   "execution_count": 426,
   "metadata": {},
   "outputs": [],
   "source": [
    "#df = train.groupby('user_id')\n",
    "#df['user_id'].apply(lambda usr: usr.isin(['rLtl8ZkDX5vH5nAx9C3q5Q']))"
   ]
  },
  {
   "cell_type": "code",
   "execution_count": 427,
   "metadata": {},
   "outputs": [
    {
     "data": {
      "text/html": [
       "<div>\n",
       "<table border=\"1\" class=\"dataframe\">\n",
       "  <thead>\n",
       "    <tr style=\"text-align: right;\">\n",
       "      <th></th>\n",
       "      <th>user_id</th>\n",
       "      <th>business_id</th>\n",
       "      <th>date</th>\n",
       "      <th>review_id</th>\n",
       "      <th>stars</th>\n",
       "      <th>usefulvotes_review</th>\n",
       "      <th>user_name</th>\n",
       "      <th>categories</th>\n",
       "      <th>biz_name</th>\n",
       "      <th>latitude</th>\n",
       "      <th>longitude</th>\n",
       "      <th>business_avg</th>\n",
       "      <th>business_review_count</th>\n",
       "      <th>user_avg</th>\n",
       "      <th>user_review_count</th>\n",
       "    </tr>\n",
       "  </thead>\n",
       "  <tbody>\n",
       "    <tr>\n",
       "      <th>436</th>\n",
       "      <td>NvDR3SPVPXrDB_dbKuGoWA</td>\n",
       "      <td>eIxSLxzIlfExI6vgAbn2JA</td>\n",
       "      <td>2011-07-13 00:00:00</td>\n",
       "      <td>qUAKZgt-8Oa_C2FUslkqxw</td>\n",
       "      <td>2</td>\n",
       "      <td>3</td>\n",
       "      <td>Scott</td>\n",
       "      <td>[Burgers, Hot Dogs, American (New), Restaurants]</td>\n",
       "      <td>Lobbys Beef Burgers Dogs</td>\n",
       "      <td>33.39477</td>\n",
       "      <td>-111.908894</td>\n",
       "      <td>4.283237</td>\n",
       "      <td>173</td>\n",
       "      <td>3.354610</td>\n",
       "      <td>141</td>\n",
       "    </tr>\n",
       "    <tr>\n",
       "      <th>441</th>\n",
       "      <td>iwZ_7QuZ1tzT6pIZmOlDQg</td>\n",
       "      <td>eIxSLxzIlfExI6vgAbn2JA</td>\n",
       "      <td>2012-03-16 00:00:00</td>\n",
       "      <td>czJpzENiE4bDsfe_OkBjPw</td>\n",
       "      <td>5</td>\n",
       "      <td>3</td>\n",
       "      <td>Larry</td>\n",
       "      <td>[Burgers, Hot Dogs, American (New), Restaurants]</td>\n",
       "      <td>Lobbys Beef Burgers Dogs</td>\n",
       "      <td>33.39477</td>\n",
       "      <td>-111.908894</td>\n",
       "      <td>4.283237</td>\n",
       "      <td>173</td>\n",
       "      <td>3.594937</td>\n",
       "      <td>79</td>\n",
       "    </tr>\n",
       "  </tbody>\n",
       "</table>\n",
       "</div>"
      ],
      "text/plain": [
       "                    user_id             business_id                 date  \\\n",
       "436  NvDR3SPVPXrDB_dbKuGoWA  eIxSLxzIlfExI6vgAbn2JA  2011-07-13 00:00:00   \n",
       "441  iwZ_7QuZ1tzT6pIZmOlDQg  eIxSLxzIlfExI6vgAbn2JA  2012-03-16 00:00:00   \n",
       "\n",
       "                  review_id  stars  usefulvotes_review user_name  \\\n",
       "436  qUAKZgt-8Oa_C2FUslkqxw      2                   3     Scott   \n",
       "441  czJpzENiE4bDsfe_OkBjPw      5                   3     Larry   \n",
       "\n",
       "                                           categories  \\\n",
       "436  [Burgers, Hot Dogs, American (New), Restaurants]   \n",
       "441  [Burgers, Hot Dogs, American (New), Restaurants]   \n",
       "\n",
       "                     biz_name  latitude   longitude  business_avg  \\\n",
       "436  Lobbys Beef Burgers Dogs  33.39477 -111.908894      4.283237   \n",
       "441  Lobbys Beef Burgers Dogs  33.39477 -111.908894      4.283237   \n",
       "\n",
       "     business_review_count  user_avg  user_review_count  \n",
       "436                    173  3.354610                141  \n",
       "441                    173  3.594937                 79  "
      ]
     },
     "execution_count": 427,
     "metadata": {},
     "output_type": "execute_result"
    }
   ],
   "source": [
    "subUser = train_subset_usrbiz_update['user_id'][20:22]\n",
    "get_restaurant_reviews(train, 'eIxSLxzIlfExI6vgAbn2JA', subUser)"
   ]
  },
  {
   "cell_type": "markdown",
   "metadata": {},
   "source": [
    "**1.5** Write a function `calculate_similarity` that operates between two restaurants and calculates a similarity for them, taking a dataframe and a similarity function `similarity_func`. An example of the `similarity_func` is the `pearson_sim` we defined above. `calculate_similarity` operates as follows: \n",
    "\n",
    "1. For each of the two restaurants, get the set of reviewers who have reviewed the restaurant and compute the intersection of these two sets. Also compute the number of common reviewers `n_common`.\n",
    "\n",
    "2. Use the function `get_restaurant_reviews` defined below to get the reviews for each restaurant as made by these common reviewers. Notice that `get_restaurant_reviews` returns a sub data frame of reviews.\n",
    "\n",
    "3. Calculate the similarity using `similarity_func` which takes the two reviews dataframes from part 2 and the number of common reviewers `n_common` as arguments\n",
    "\n",
    "4. Return the similarity and `n_common` in a tuple `(sim, n_common)`. If the similarity is a `NaN`, set the similarity to 0."
   ]
  },
  {
   "cell_type": "code",
   "execution_count": 291,
   "metadata": {
    "collapsed": true
   },
   "outputs": [],
   "source": [
    "from scipy.stats.stats import pearsonr"
   ]
  },
  {
   "cell_type": "code",
   "execution_count": 446,
   "metadata": {
    "collapsed": true
   },
   "outputs": [],
   "source": [
    "def calculate_similarity(df, resturant_1, resturant_2):\n",
    "    rest_1_reviewer = df[df['business_id']==resturant_1]['user_id'].unique()\n",
    "    rest_2_reviewer = df[df['business_id']==resturant_2]['user_id'].unique()\n",
    "    \n",
    "    common_usr = set(rest_1_reviewer).intersection(rest_2_reviewer)\n",
    "    num_common_usr = len(common_usr)\n",
    "    \n",
    "    rest_1_review = df[(df['business_id'] == resturant_1) & (df['user_id'].isin(common_usr))]\n",
    "    rest_1_review = rest_1_review[rest_1_review['user_id'].duplicated() == False]\n",
    "    \n",
    "    rest_2_review = df[(df['business_id'] == resturant_2) & (df['user_id'].isin(common_usr))]\n",
    "    rest_2_review = rest_2_review[rest_2_review['user_id'].duplicated() == False]\n",
    "    \n",
    "    '''\n",
    "    Even though each reviewer uses the same 5-star scale when rating restaurants, \n",
    "    comparing two users by comparing their raw user ratings can be problematic. \n",
    "    Consider a user whose average rating is 2. This is a curmudgeonly user. \n",
    "    Consider another whose average rating is 4. This is a rather enthusiastic one. \n",
    "    How should we compare a 3 rating by the curmudgeonly one to a 5 rating of the enthusiastic one?\n",
    "    It is for this purpose that we must subtract the average rating of the user from the actual rating of the restaurants \n",
    "    in computing the similarity of two restaurants. This makes the above ratings by the two users comparable. \n",
    "    '''\n",
    "    if num_common_usr == 0:\n",
    "        similarity = 0\n",
    "    else:\n",
    "        # star quantifies how the current reviewer rates the underlying restaurant\n",
    "        # user_avg quantifies what's the style of current reviewer generally rates\n",
    "        rest_1_diff_review_star_reviewer_rateAvg = rest_1_review['stars'] - rest_1_review['user_avg']\n",
    "        rest_2_diff_review_star_reviewer_rateAvg = rest_2_review['stars'] - rest_2_review['user_avg']\n",
    "        similarity = pearsonr(rest_1_diff_review_star_reviewer_rateAvg, \n",
    "                              rest_2_diff_review_star_reviewer_rateAvg)[0]\n",
    "        p_similarity = pearsonr(rest_1_diff_review_star_reviewer_rateAvg, \n",
    "                              rest_2_diff_review_star_reviewer_rateAvg)[1]\n",
    "        if np.isnan(similarity):\n",
    "            similarity = 0\n",
    "    \n",
    "    \n",
    "    return (similarity, num_common_usr)"
   ]
  },
  {
   "cell_type": "code",
   "execution_count": 443,
   "metadata": {
    "collapsed": true
   },
   "outputs": [],
   "source": [
    "?pearsonr"
   ]
  },
  {
   "cell_type": "code",
   "execution_count": 447,
   "metadata": {},
   "outputs": [
    {
     "data": {
      "text/plain": [
       "(0.48148421546623382, 4)"
      ]
     },
     "execution_count": 447,
     "metadata": {},
     "output_type": "execute_result"
    }
   ],
   "source": [
    "calculate_similarity(train, 'WNy1uzcmm_UHmTyR--o5IA', 'xBCfrESSbroTjhVcRfG4NA')"
   ]
  },
  {
   "cell_type": "markdown",
   "metadata": {},
   "source": [
    "### Making a database of similarities\n",
    "\n",
    "We now move to calculating a global database of pairwise restaurant similarities.\n",
    "We provide you here with a function to make a database of the similarities for each pair of restaurants in the database. The class `Database` is initialized in its constructor by taking as arguments a dataframe of reviews. The method `populate_by calculating` iterates over every possible pair of business_id's in the dataframe and populates the database with similarities and common supports. It takes as arguments a function the similarity function `similarity_func` like `pearson_sim` (`calculate_similarity` then uses this to calculate the similarity). The `get` method on the database can be used to retrieve the similarity for two business ids."
   ]
  },
  {
   "cell_type": "code",
   "execution_count": 324,
   "metadata": {
    "collapsed": true
   },
   "outputs": [],
   "source": [
    "class reviewDB:\n",
    "    # consturct a self-constructor\n",
    "    def __init__(self, df):\n",
    "        self.df = df\n",
    "        # create a dict to store unique restaurant id\n",
    "        self.uniqueRestaurantId = {restId: idx for (idx, restId) in enumerate(df['business_id'].unique())}\n",
    "        numUniqueBiz = len(df['business_id'].unique())\n",
    "        self.similarityMat = np.zeros((numUniqueBiz, numUniqueBiz))\n",
    "        self.numCommonReviewer = np.zeros((numUniqueBiz, numUniqueBiz), dtype=np.int)\n",
    "    \n",
    "    # evaluate the similarity of restaurants in pair-wise\n",
    "    def eval_similarity_numComm(self):\n",
    "        # retrieve the dict for unique restaurants from self-constructor\n",
    "        restaurants = self.uniqueRestaurantId.items()\n",
    "        \n",
    "        # loop-over 'items'--restaurant id and its index stored in dict\n",
    "        for rest_1, idx_1 in restaurants:\n",
    "            for rest_2, idx_2 in restaurants:\n",
    "                if idx_1 < idx_2:\n",
    "                    similarity = calculate_similarity(self.df, rest_1, rest_2)[0]\n",
    "                    numCommonReviewer = calculate_similarity(self.df, rest_1, rest_2)[1]\n",
    "                    self.similarityMat[idx_1][idx_2] = similarity\n",
    "                    self.similarityMat[idx_2][idx_1] = similarity\n",
    "                    self.numCommonReviewer[idx_1][idx_2] = numCommonReviewer\n",
    "                    self.numCommonReviewer[idx_2][idx_1] = numCommonReviewer\n",
    "                elif idx_1 == idx_2:\n",
    "                    self.similarityMat[idx_1][idx_2] = 1\n",
    "                    self.numCommonReviewer[idx_1][idx_2] = len(self.df[self.df['business_id'] == rest_1]['user_id'].unique())\n",
    "    \n",
    "    # return the infomation we want to evaluate from df\n",
    "    def retrie_similarity_numComm(self, rest_1, rest_2):\n",
    "        similarity = self.similarityMat[self.uniqueRestaurantId[rest_1]][self.uniqueRestaurantId[rest_2]]\n",
    "        numComm = self.numCommonReviewer[self.uniqueRestaurantId[rest_1]][self.uniqueRestaurantId[rest_2]]\n",
    "        return (similarity, numComm)"
   ]
  },
  {
   "cell_type": "code",
   "execution_count": 326,
   "metadata": {},
   "outputs": [
    {
     "name": "stderr",
     "output_type": "stream",
     "text": [
      "C:\\Users\\xinliu\\AppData\\Local\\Continuum\\Anaconda3\\lib\\site-packages\\scipy\\stats\\stats.py:3029: RuntimeWarning: invalid value encountered in double_scalars\n",
      "  r = r_num / r_den\n",
      "C:\\Users\\xinliu\\AppData\\Local\\Continuum\\Anaconda3\\lib\\site-packages\\scipy\\stats\\stats.py:5084: RuntimeWarning: invalid value encountered in less\n",
      "  x = np.where(x < 1.0, x, 1.0)  # if x > 1 then return 1.0\n",
      "C:\\Users\\xinliu\\AppData\\Local\\Continuum\\Anaconda3\\lib\\site-packages\\scipy\\stats\\stats.py:3039: RuntimeWarning: invalid value encountered in double_scalars\n",
      "  prob = _betai(0.5*df, 0.5, df/(df+t_squared))\n"
     ]
    }
   ],
   "source": [
    "db=reviewDB(train_subset_usrbiz_update)\n",
    "db.eval_similarity_numComm()"
   ]
  },
  {
   "cell_type": "code",
   "execution_count": 331,
   "metadata": {},
   "outputs": [
    {
     "data": {
      "text/plain": [
       "(-0.36100635467383579, 5)"
      ]
     },
     "execution_count": 331,
     "metadata": {},
     "output_type": "execute_result"
    }
   ],
   "source": [
    "db.retrie_similarity_numComm('UL3OMN_c-NXHlyb97pDifA', '-AAig9FG0s8gYE4f8GfowQ')"
   ]
  },
  {
   "cell_type": "markdown",
   "metadata": {},
   "source": [
    "### K-Nearest restaurants (in similarity)"
   ]
  },
  {
   "cell_type": "markdown",
   "metadata": {},
   "source": [
    "We are now going to find the k-nearest restaurants to a given restaurant based on the database of similarities that we calculated. But we have a problem.\n",
    "\n",
    "Consider the two cases where there is just one common reviewer, and where there are 40. In the former case, we might get a artificially high similarity based on the tastes of just this user, and thus we must reduce its importance in the nearest-neighbor calculation. In the latter case, we would get a much more unbiased estimator of the similarity of the two restaurants.\n",
    "\n",
    "To control the effect of small common supports, we can **shrink** our pearson co-efficients. We shall do this by using the \"regularization\" parameter `reg`:\n",
    "\n",
    "$$s_{mj} = \\frac{N_{common}\\, \\rho_{mj}}{N_{common}+reg} $$\n",
    "\n",
    "where $N_{common}$ (`n_common`) is the common reviewer support and $\\rho_{ij}$ is the pearson co-relation coefficient.\n",
    "\n",
    "A good value of the regularizer is intuitively one that dosent affect the similarity when the common support is high ~ 10, but has a large effect when the support is small. In this case, values of 2-4 are good. Usually, the value of `reg` is determined using cross-validation, but for the sake of simplicity we will generally set it to 3.\n",
    "\n",
    "We define a function `shrunk_sim` which takes the `sim` and `n_common` obtained from the database, and shrinks the similarity down using the regularizer `reg`."
   ]
  },
  {
   "cell_type": "code",
   "execution_count": 341,
   "metadata": {
    "collapsed": true
   },
   "outputs": [],
   "source": [
    "regularRate = 3\n",
    "def regularized_similarity(similarity, numComm, regRate):\n",
    "    \"takes a similarity and shrinks it down by using the regularizer\"\n",
    "    regSimilarity=(numComm*similarity)/(numComm+regRate)\n",
    "    return regSimilarity"
   ]
  },
  {
   "cell_type": "code",
   "execution_count": 343,
   "metadata": {
    "collapsed": true
   },
   "outputs": [],
   "source": [
    "train_subset_usrbiz_Similarity = db.similarityMat\n",
    "train_subset_usrbiz_NumCommUsr = db.numCommonReviewer\n",
    "\n",
    "train_subset_usrbiz_RegSimilarity = regularized_similarity(train_subset_usrbiz_Similarity, \n",
    "                                                           train_subset_usrbiz_NumCommUsr, regularRate)"
   ]
  },
  {
   "cell_type": "code",
   "execution_count": 374,
   "metadata": {
    "collapsed": true
   },
   "outputs": [],
   "source": [
    "# to sort the table with string type and numeric type, we need to use itemgetter()\n",
    "from operator import itemgetter\n",
    "\n",
    "# given a restaurant id, we want to find its k nearest neighbors\n",
    "def restaurant_KNN(targetRest_id, otherRestaurant_ids, numK, regularRate, reviewClass):\n",
    "    similarityTable = []\n",
    "    \n",
    "    for otherRest_id in otherRestaurant_ids:\n",
    "        if otherRest_id != targetRest_id:\n",
    "            #print(otherRest_id)\n",
    "            similarity = reviewClass.retrie_similarity_numComm(targetRest_id, otherRest_id)[0]            \n",
    "            numComm = reviewClass.retrie_similarity_numComm(targetRest_id, otherRest_id)[1]\n",
    "            regularSimilarity = regularized_similarity(similarity, numComm, regularRate)\n",
    "            similarityTable.append([otherRest_id, regularSimilarity, numComm])\n",
    "            \n",
    "    # rank the similarity value in descending order\n",
    "    similarityTable = sorted(similarityTable, key=itemgetter(1), reverse=True)\n",
    "    return similarityTable[0:numK]"
   ]
  },
  {
   "cell_type": "code",
   "execution_count": 370,
   "metadata": {},
   "outputs": [
    {
     "data": {
      "text/plain": [
       "(-0.092018140306249649, 4)"
      ]
     },
     "execution_count": 370,
     "metadata": {},
     "output_type": "execute_result"
    }
   ],
   "source": [
    "db.retrie_similarity_numComm(\"eIxSLxzIlfExI6vgAbn2JA\", 'L-uPZxooP_ziXCtRrWi8Pw') "
   ]
  },
  {
   "cell_type": "markdown",
   "metadata": {},
   "source": [
    "#### Get top matches\n",
    "\n",
    "Its now time to answer the question: \"if you liked this, you might also like these\". We use our `testbizid` and `testbizid2` to compute the `k=7` nearest neighbors with a regularization of `3.` . We print these top 7 matches names, along with their similarity coefficient and common support."
   ]
  },
  {
   "cell_type": "code",
   "execution_count": 388,
   "metadata": {
    "collapsed": true
   },
   "outputs": [],
   "source": [
    "targetRestId=\"eIxSLxzIlfExI6vgAbn2JA\"\n",
    "targetRestId2=\"L-uPZxooP_ziXCtRrWi8Pw\""
   ]
  },
  {
   "cell_type": "code",
   "execution_count": 451,
   "metadata": {},
   "outputs": [
    {
     "data": {
      "text/plain": [
       "'Lobbys Beef Burgers Dogs'"
      ]
     },
     "execution_count": 451,
     "metadata": {},
     "output_type": "execute_result"
    }
   ],
   "source": [
    "train_subset_usrbiz_update[train_subset_usrbiz_update['business_id'] == targetRestId]['biz_name'].unique()[0]"
   ]
  },
  {
   "cell_type": "code",
   "execution_count": 457,
   "metadata": {
    "collapsed": true
   },
   "outputs": [],
   "source": [
    "def restNameFromId(df, theid):\n",
    "    return df[df['business_id'] == theid]['biz_name'].unique()"
   ]
  },
  {
   "cell_type": "code",
   "execution_count": 458,
   "metadata": {},
   "outputs": [
    {
     "name": "stdout",
     "output_type": "stream",
     "text": [
      "eIxSLxzIlfExI6vgAbn2JA ['Lobbys Beef Burgers Dogs']\n",
      "L-uPZxooP_ziXCtRrWi8Pw ['Café Monarch']\n"
     ]
    }
   ],
   "source": [
    "print( targetRestId, restNameFromId(train_subset_usrbiz_update,testbizid))\n",
    "print( targetRestId2, restNameFromId(train_subset_usrbiz_update, testbizid2))"
   ]
  },
  {
   "cell_type": "code",
   "execution_count": 460,
   "metadata": {},
   "outputs": [
    {
     "name": "stdout",
     "output_type": "stream",
     "text": [
      "For  Lobbys Beef Burgers Dogs , top matches are:\n",
      "0 La Condesa Gourmet Taco Shop | Sim 0.598714448434 | Support 6\n",
      "1 Citizen Public House | Sim 0.571428571429 | Support 4\n",
      "2 FnB | Sim 0.527129890943 | Support 5\n",
      "3 Defalco's Italian Grocery | Sim 0.519456555658 | Support 6\n",
      "4 Republic Ramen + Noodles | Sim 0.519140146937 | Support 5\n",
      "5 unPhogettable | Sim 0.5 | Support 3\n",
      "6 Haus Murphy's | Sim 0.467637235308 | Support 3\n"
     ]
    }
   ],
   "source": [
    "tops = restaurant_KNN(targetRestId, train_subset_usrbiz_update['business_id'].unique(), 7, 3, db)\n",
    "print( 'For ', restNameFromId(train_subset_usrbiz_update, targetRestId)[0], ', top matches are:')\n",
    "for i, (rest_id, sim, nc) in enumerate(tops):\n",
    "    print( i, restNameFromId(train_subset_usrbiz_update, rest_id)[0], '| Sim', sim, '| Support',nc)"
   ]
  },
  {
   "cell_type": "code",
   "execution_count": 461,
   "metadata": {},
   "outputs": [
    {
     "name": "stdout",
     "output_type": "stream",
     "text": [
      "For  Café Monarch , top matches are:\n",
      "0 Postino Arcadia | Sim 0.625 | Support 5\n",
      "1 The Main Ingredient Ale House And Café | Sim 0.571428571429 | Support 4\n",
      "2 Brio Tuscan Grille | Sim 0.571428571429 | Support 4\n",
      "3 Kazimierz World Wine Bar | Sim 0.5 | Support 3\n",
      "4 Harlow's Cafe | Sim 0.5 | Support 3\n",
      "5 The Fry Bread House | Sim 0.5 | Support 3\n",
      "6 Cien Agaves Tacos & Tequila | Sim 0.5 | Support 3\n"
     ]
    }
   ],
   "source": [
    "tops2 = restaurant_KNN(targetRestId2, train_subset_usrbiz_update['business_id'].unique(), 7, 3, db)\n",
    "print( 'For ',restNameFromId(train_subset_usrbiz_update, targetRestId2)[0], ', top matches are:')\n",
    "for i, (rest_id, sim, nc) in enumerate(tops2):\n",
    "    print( i, restNameFromId(train_subset_usrbiz_update, rest_id)[0], '| Sim', sim, '| Support',nc)"
   ]
  },
  {
   "cell_type": "markdown",
   "metadata": {},
   "source": [
    "what are the top recommendations for a user? To answer this we must find the user's top rated restaurants, find the nearest neighbors of these restaurants, merge these lists while removing the duplicates and the ones that the user has already rated, and sort by the restaurant's average rating. We provide the code to get the user's top choices in a subset data frame."
   ]
  },
  {
   "cell_type": "code",
   "execution_count": 650,
   "metadata": {},
   "outputs": [
    {
     "data": {
      "text/plain": [
       "80      Nobuo At Teeter House\n",
       "704               Pane Bianco\n",
       "1085                      FnB\n",
       "1313                     NOCA\n",
       "Name: biz_name, dtype: object"
      ]
     },
     "execution_count": 650,
     "metadata": {},
     "output_type": "execute_result"
    }
   ],
   "source": [
    "usrID = train_subset_usrbiz_update['user_id'].unique()[np.random.randint(0, len(train_subset_usrbiz_update['user_id'].unique()))]\n",
    "usrDF = train_subset_usrbiz_update[train_subset_usrbiz_update['user_id'] == usrID ]\n",
    "usr_sort_restRates_DF = usrDF.sort_values('stars', ascending=False)\n",
    "usr_TopFavor_rest_idx = np.argwhere(usr_sort_restRates_DF['stars'] == usr_sort_restRates_DF['stars'].max()).ravel()\n",
    "usr_TopFavor_rest = usr_sort_restRates_DF.iloc[usr_TopFavor_rest_idx]\n",
    "usr_TopFavor_rest['biz_name']"
   ]
  },
  {
   "cell_type": "code",
   "execution_count": 553,
   "metadata": {
    "collapsed": true
   },
   "outputs": [],
   "source": [
    "def get_user_toppest_choices(user_id, df):\n",
    "    usrDF = df[df['user_id'] == user_id ]\n",
    "    usr_sort_restRates_DF = usrDF.sort_values('stars', ascending=False)\n",
    "    usr_TopFavor_rest_idx = np.argwhere(usr_sort_restRates_DF['stars'] == usr_sort_restRates_DF['stars'].max()).ravel()\n",
    "    rest_toppest_DF = usr_sort_restRates_DF.iloc[usr_TopFavor_rest_idx]\n",
    "    return rest_toppest_DF"
   ]
  },
  {
   "cell_type": "code",
   "execution_count": 558,
   "metadata": {},
   "outputs": [
    {
     "data": {
      "text/plain": [
       "5201    Tee Pee Mexican Food\n",
       "5056            Local Breeze\n",
       "3583          Carly's Bistro\n",
       "Name: biz_name, dtype: object"
      ]
     },
     "execution_count": 558,
     "metadata": {},
     "output_type": "execute_result"
    }
   ],
   "source": [
    "get_user_toppest_choices(\"7cR92zkDv4W3kqzii6axvg\", train_subset_usrbiz_update)['biz_name']"
   ]
  },
  {
   "cell_type": "code",
   "execution_count": 550,
   "metadata": {},
   "outputs": [],
   "source": [
    "#usr_sort_restRates_DF"
   ]
  },
  {
   "cell_type": "code",
   "execution_count": 542,
   "metadata": {
    "collapsed": true
   },
   "outputs": [],
   "source": [
    "def get_user_top_choices(user_id, df, numchoices=5):\n",
    "    \"get the sorted top 5 restaurants for a user by the star rating the user gave them\"\n",
    "    udf=df[df['user_id']==user_id][['business_id','stars']].sort_values('stars', ascending=False).head(numchoices)\n",
    "    return udf"
   ]
  },
  {
   "cell_type": "code",
   "execution_count": 543,
   "metadata": {
    "collapsed": true
   },
   "outputs": [],
   "source": [
    "def userNameFromId(df, theid):\n",
    "    return df[df['user_id'] == theid]['user_name'].unique()"
   ]
  },
  {
   "cell_type": "code",
   "execution_count": 548,
   "metadata": {},
   "outputs": [
    {
     "name": "stdout",
     "output_type": "stream",
     "text": [
      "For user ['Vern'] top choices are:\n"
     ]
    },
    {
     "data": {
      "text/plain": [
       "['Tee Pee Mexican Food',\n",
       " 'Local Breeze',\n",
       " \"Carly's Bistro\",\n",
       " 'District American Kitchen and Wine Bar',\n",
       " 'Sonora Mesquite Grill']"
      ]
     },
     "execution_count": 548,
     "metadata": {},
     "output_type": "execute_result"
    }
   ],
   "source": [
    "testuserid=\"7cR92zkDv4W3kqzii6axvg\"\n",
    "print( \"For user\", userNameFromId(train_subset_usrbiz_update,testuserid), \"top choices are:\" )\n",
    "bizs=get_user_top_choices(testuserid, train_subset_usrbiz_update)['business_id'].values\n",
    "[restNameFromId(train_subset_usrbiz_update, biz_id)[0] for biz_id in bizs]"
   ]
  },
  {
   "cell_type": "markdown",
   "metadata": {},
   "source": [
    "#### Get top recommendations for user."
   ]
  },
  {
   "cell_type": "markdown",
   "metadata": {},
   "source": [
    "**1.7** Write a function `get_top_recos_for_user` which takes as arguments a `userid`, the `n` top choices for the user, the dataframe, `k`, and a regularizer, and returns the top recommendations obtained from combining the restaurants that are neighbors of each of the `n` choices, in the way described in the previous paragraph. This returned list is a list of tuples `(restaurant_id, business_avg)` sorted by `business_avg` where `business_avg` is the average rating of the restaurant over the dataframe."
   ]
  },
  {
   "cell_type": "code",
   "execution_count": 696,
   "metadata": {},
   "outputs": [],
   "source": [
    "# the idea is to retrieve the favorite restaurants of the underlying user\n",
    "# then find the similar restaurants in the dataset through KNN, \n",
    "# see if all resturants have been rated by the underlying user.\n",
    "# If not, for those not been rated by user, we retrieve their rates (stars) from other and evaluate their average values\n",
    "# and rank all average rate values. Recommend the top-N rating restaurants to user\n",
    "\n",
    "def get_top_recos_for_user(user_id, top_n, df, KNN, regularRate, reviewClass):\n",
    "    # 1. get the favorite restaurants of user and the restaurants rated by user\n",
    "    #rest_toppest_DF = get_user_toppest_choices(user_id, df)\n",
    "    rest_toppest_DF = get_user_top_choices(user_id, df, top_n)\n",
    "    rated_restaurants = df[df['user_id'] == user_id]['business_id'].unique()\n",
    "    \n",
    "    \n",
    "    # 2. get the K similar most resturants\n",
    "    all_restaurants_ids = df['business_id'].unique()\n",
    "    similar_notRated_restaurants = []\n",
    "    \n",
    "    for rated_restaurant in rated_restaurants:\n",
    "        k_Restaurant = restaurant_KNN(rated_restaurant, all_restaurants_ids, KNN, regularRate, reviewClass)\n",
    "        for similar_restaurant in k_Restaurant:\n",
    "            if similar_restaurant[0] not in rated_restaurants:\n",
    "                similar_notRated_restaurants.append(similar_restaurant)\n",
    "               \n",
    "    # 2.1 get the unique restaurants ids which are not rated by user but are similar to user's favorite restaurants\n",
    "    rest_ids = [rest[0] for rest in similar_notRated_restaurants]\n",
    "    similar_notRated_restaurants_unique_Id = list(set(rest_ids))\n",
    "    \n",
    "    # 3. retrieve the average rates of \n",
    "    # the unique restaurants ids which are not rated by user but are similar to user's favorite restaurants\n",
    "    similar_notRated_restaurants_rate = []\n",
    "    for rest_id in similar_notRated_restaurants_unique_Id:\n",
    "        avg_rate = df[df['business_id'] == rest_id]['stars'].mean()\n",
    "        similar_notRated_restaurants_rate.append([rest_id, avg_rate])\n",
    "        \n",
    "    ## 4. sort the restaurants by their averaged rating\n",
    "    similar_notRated_restaurants_rate_sort = sorted(similar_notRated_restaurants_rate, key=itemgetter(1), reverse=True)\n",
    "    \n",
    "    if top_n < len(similar_notRated_restaurants_rate_sort):\n",
    "        return (similar_notRated_restaurants_rate_sort[0:top_n])\n",
    "    else:\n",
    "        return (similar_notRated_restaurants_rate_sort)\n",
    "    \n",
    "    #return similar_notRated_restaurants_rate"
   ]
  },
  {
   "cell_type": "code",
   "execution_count": 697,
   "metadata": {},
   "outputs": [],
   "source": [
    "top_rest4userNotRate = get_top_recos_for_user(testuserid, 5, train_subset_usrbiz_update, 7, 3, db)"
   ]
  },
  {
   "cell_type": "code",
   "execution_count": 698,
   "metadata": {},
   "outputs": [
    {
     "data": {
      "text/plain": [
       "[['IuAPYzf3NSyfyXYgT46YVA', 4.4285714285714288],\n",
       " ['SDwYQ6eSu1htn8vHWv128g', 4.3898305084745761],\n",
       " ['5kRug3bEienrpovtPRVVwg', 4.3793103448275863],\n",
       " ['wN_wAXWg8W94v04eqijy6g', 4.3571428571428568],\n",
       " ['8t80-omyflkywRfu9LPh6g', 4.2941176470588234]]"
      ]
     },
     "execution_count": 698,
     "metadata": {},
     "output_type": "execute_result"
    }
   ],
   "source": [
    "top_rest4userNotRate"
   ]
  },
  {
   "cell_type": "code",
   "execution_count": 699,
   "metadata": {},
   "outputs": [
    {
     "name": "stdout",
     "output_type": "stream",
     "text": [
      "FnB 4.42857142857\n",
      "Postino Arcadia 4.38983050847\n",
      "Rokerij 4.37931034483\n",
      "Tacos Atoyac 4.35714285714\n",
      "Wildfish Seafood Grille 4.29411764706\n"
     ]
    }
   ],
   "source": [
    "top_rest4user_ids = [rest[0] for rest in top_rest4userNotRate]\n",
    "\n",
    "for j, rest_id in enumerate(top_rest4user_ids):\n",
    "    top_rest4user = train_subset_usrbiz_update[train_subset_usrbiz_update['business_id'] == rest_id]\n",
    "    print(top_rest4user[top_rest4user['business_id'].duplicated()==False]['biz_name'].values[0], top_rest4userNotRate[j][1])"
   ]
  },
  {
   "cell_type": "markdown",
   "metadata": {},
   "source": [
    "## 2. A user based recommender with predicted ratings\n",
    "\n",
    "A restaurant is new (new item problem) or a user is new (cold start problem). Or in the case when there are very few reviewers of a restaurant, or very few reviews by a user respectively. Notice that in adding in the similarity term, we subtract the baseline estimate from the observed rating of the user's neighbor items."
   ]
  },
  {
   "cell_type": "markdown",
   "metadata": {},
   "source": [
    "### Defining the predicted rating\n",
    "\n"
   ]
  },
  {
   "cell_type": "markdown",
   "metadata": {},
   "source": [
    "Write a function `knearest_amongst_userrated`, analogous to the `knearest` function we defined above, to find the nearest `k` neighbors to a given restaurant from the **restaurants that the user has already rated**. This function will take as arguments the `restaurant_id`, the `user_id`, the dataframe of reviews, the database, the `k`, and the regularizer `reg`. Just like before, return a *k-length sorted list* of 3-tuples each corresponding to a restaurant.  HINT: use the `knearest` function you defined earlier"
   ]
  },
  {
   "cell_type": "code",
   "execution_count": null,
   "metadata": {
    "collapsed": true
   },
   "outputs": [],
   "source": [
    "def knearest_amongst_userrated():\n",
    "    "
   ]
  },
  {
   "cell_type": "code",
   "execution_count": null,
   "metadata": {
    "collapsed": true
   },
   "outputs": [],
   "source": []
  },
  {
   "cell_type": "code",
   "execution_count": null,
   "metadata": {
    "collapsed": true
   },
   "outputs": [],
   "source": []
  },
  {
   "cell_type": "code",
   "execution_count": null,
   "metadata": {
    "collapsed": true
   },
   "outputs": [],
   "source": []
  },
  {
   "cell_type": "code",
   "execution_count": null,
   "metadata": {
    "collapsed": true
   },
   "outputs": [],
   "source": []
  },
  {
   "cell_type": "code",
   "execution_count": null,
   "metadata": {
    "collapsed": true
   },
   "outputs": [],
   "source": []
  },
  {
   "cell_type": "code",
   "execution_count": null,
   "metadata": {
    "collapsed": true
   },
   "outputs": [],
   "source": []
  },
  {
   "cell_type": "code",
   "execution_count": null,
   "metadata": {
    "collapsed": true
   },
   "outputs": [],
   "source": []
  },
  {
   "cell_type": "code",
   "execution_count": null,
   "metadata": {
    "collapsed": true
   },
   "outputs": [],
   "source": []
  },
  {
   "cell_type": "code",
   "execution_count": null,
   "metadata": {
    "collapsed": true
   },
   "outputs": [],
   "source": []
  },
  {
   "cell_type": "code",
   "execution_count": null,
   "metadata": {
    "collapsed": true
   },
   "outputs": [],
   "source": []
  },
  {
   "cell_type": "code",
   "execution_count": null,
   "metadata": {
    "collapsed": true
   },
   "outputs": [],
   "source": []
  },
  {
   "cell_type": "code",
   "execution_count": null,
   "metadata": {
    "collapsed": true
   },
   "outputs": [],
   "source": []
  },
  {
   "cell_type": "code",
   "execution_count": null,
   "metadata": {
    "collapsed": true
   },
   "outputs": [],
   "source": []
  },
  {
   "cell_type": "code",
   "execution_count": null,
   "metadata": {
    "collapsed": true
   },
   "outputs": [],
   "source": []
  },
  {
   "cell_type": "code",
   "execution_count": null,
   "metadata": {
    "collapsed": true
   },
   "outputs": [],
   "source": []
  },
  {
   "cell_type": "code",
   "execution_count": null,
   "metadata": {
    "collapsed": true
   },
   "outputs": [],
   "source": []
  },
  {
   "cell_type": "code",
   "execution_count": null,
   "metadata": {
    "collapsed": true
   },
   "outputs": [],
   "source": []
  }
 ],
 "metadata": {
  "kernelspec": {
   "display_name": "Python 3",
   "language": "python",
   "name": "python3"
  },
  "language_info": {
   "codemirror_mode": {
    "name": "ipython",
    "version": 3
   },
   "file_extension": ".py",
   "mimetype": "text/x-python",
   "name": "python",
   "nbconvert_exporter": "python",
   "pygments_lexer": "ipython3",
   "version": "3.5.2"
  }
 },
 "nbformat": 4,
 "nbformat_minor": 1
}
