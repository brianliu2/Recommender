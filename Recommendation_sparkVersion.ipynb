{
 "cells": [
  {
   "cell_type": "code",
   "execution_count": 1,
   "metadata": {},
   "outputs": [],
   "source": [
    "import pandas as pd\n",
    "import numpy as np\n",
    "import matplotlib.pyplot as plt\n",
    "%matplotlib inline\n",
    "\n",
    "pd.options.display.max_columns = 50\n",
    "pd.options.display.max_colwidth = 100\n",
    "\n",
    "import seaborn as sns\n",
    "import scipy.stats.stats as st"
   ]
  },
  {
   "cell_type": "code",
   "execution_count": 2,
   "metadata": {
    "collapsed": true
   },
   "outputs": [],
   "source": [
    "dataFile = 'restaurant_rating.csv'"
   ]
  },
  {
   "cell_type": "code",
   "execution_count": 3,
   "metadata": {
    "collapsed": true
   },
   "outputs": [],
   "source": [
    "dataOG = pd.read_csv(dataFile)"
   ]
  },
  {
   "cell_type": "code",
   "execution_count": 4,
   "metadata": {
    "collapsed": true
   },
   "outputs": [],
   "source": [
    "data = dataOG.copy()"
   ]
  },
  {
   "cell_type": "code",
   "execution_count": 5,
   "metadata": {},
   "outputs": [
    {
     "data": {
      "text/html": [
       "<div>\n",
       "<table border=\"1\" class=\"dataframe\">\n",
       "  <thead>\n",
       "    <tr style=\"text-align: right;\">\n",
       "      <th></th>\n",
       "      <th>user_id</th>\n",
       "      <th>business_id</th>\n",
       "      <th>date</th>\n",
       "      <th>review_id</th>\n",
       "      <th>stars</th>\n",
       "      <th>usefulvotes_review</th>\n",
       "      <th>user_name</th>\n",
       "      <th>categories</th>\n",
       "      <th>biz_name</th>\n",
       "      <th>latitude</th>\n",
       "      <th>longitude</th>\n",
       "      <th>business_avg</th>\n",
       "      <th>business_review_count</th>\n",
       "      <th>user_avg</th>\n",
       "      <th>user_review_count</th>\n",
       "    </tr>\n",
       "  </thead>\n",
       "  <tbody>\n",
       "    <tr>\n",
       "      <th>0</th>\n",
       "      <td>rLtl8ZkDX5vH5nAx9C3q5Q</td>\n",
       "      <td>9yKzy9PApeiPPOUJEtnvkg</td>\n",
       "      <td>2011-01-26 00:00:00</td>\n",
       "      <td>fWKvX83p0-ka4JS3dc6E5A</td>\n",
       "      <td>5</td>\n",
       "      <td>5</td>\n",
       "      <td>Jason</td>\n",
       "      <td>[Breakfast &amp; Brunch, Restaurants]</td>\n",
       "      <td>Morning Glory Cafe</td>\n",
       "      <td>33.390792</td>\n",
       "      <td>-112.012504</td>\n",
       "      <td>3.87156</td>\n",
       "      <td>109</td>\n",
       "      <td>3.796954</td>\n",
       "      <td>197</td>\n",
       "    </tr>\n",
       "    <tr>\n",
       "      <th>1</th>\n",
       "      <td>SBbftLzfYYKItOMFwOTIJg</td>\n",
       "      <td>9yKzy9PApeiPPOUJEtnvkg</td>\n",
       "      <td>2008-05-04 00:00:00</td>\n",
       "      <td>DASdFe-g0BgfN9J2tanStg</td>\n",
       "      <td>5</td>\n",
       "      <td>1</td>\n",
       "      <td>Jennifer</td>\n",
       "      <td>[Breakfast &amp; Brunch, Restaurants]</td>\n",
       "      <td>Morning Glory Cafe</td>\n",
       "      <td>33.390792</td>\n",
       "      <td>-112.012504</td>\n",
       "      <td>3.87156</td>\n",
       "      <td>109</td>\n",
       "      <td>3.473684</td>\n",
       "      <td>57</td>\n",
       "    </tr>\n",
       "  </tbody>\n",
       "</table>\n",
       "</div>"
      ],
      "text/plain": [
       "                  user_id             business_id                 date  \\\n",
       "0  rLtl8ZkDX5vH5nAx9C3q5Q  9yKzy9PApeiPPOUJEtnvkg  2011-01-26 00:00:00   \n",
       "1  SBbftLzfYYKItOMFwOTIJg  9yKzy9PApeiPPOUJEtnvkg  2008-05-04 00:00:00   \n",
       "\n",
       "                review_id  stars  usefulvotes_review user_name  \\\n",
       "0  fWKvX83p0-ka4JS3dc6E5A      5                   5     Jason   \n",
       "1  DASdFe-g0BgfN9J2tanStg      5                   1  Jennifer   \n",
       "\n",
       "                          categories            biz_name   latitude  \\\n",
       "0  [Breakfast & Brunch, Restaurants]  Morning Glory Cafe  33.390792   \n",
       "1  [Breakfast & Brunch, Restaurants]  Morning Glory Cafe  33.390792   \n",
       "\n",
       "    longitude  business_avg  business_review_count  user_avg  \\\n",
       "0 -112.012504       3.87156                    109  3.796954   \n",
       "1 -112.012504       3.87156                    109  3.473684   \n",
       "\n",
       "   user_review_count  \n",
       "0                197  \n",
       "1                 57  "
      ]
     },
     "execution_count": 5,
     "metadata": {},
     "output_type": "execute_result"
    }
   ],
   "source": [
    "data.head(2)"
   ]
  },
  {
   "cell_type": "code",
   "execution_count": 6,
   "metadata": {},
   "outputs": [
    {
     "data": {
      "text/plain": [
       "user_id                   object\n",
       "business_id               object\n",
       "date                      object\n",
       "review_id                 object\n",
       "stars                      int64\n",
       "usefulvotes_review         int64\n",
       "user_name                 object\n",
       "categories                object\n",
       "biz_name                  object\n",
       "latitude                 float64\n",
       "longitude                float64\n",
       "business_avg             float64\n",
       "business_review_count      int64\n",
       "user_avg                 float64\n",
       "user_review_count          int64\n",
       "dtype: object"
      ]
     },
     "execution_count": 6,
     "metadata": {},
     "output_type": "execute_result"
    }
   ],
   "source": [
    "data.dtypes"
   ]
  },
  {
   "cell_type": "code",
   "execution_count": 7,
   "metadata": {},
   "outputs": [
    {
     "data": {
      "text/plain": [
       "str"
      ]
     },
     "execution_count": 7,
     "metadata": {},
     "output_type": "execute_result"
    }
   ],
   "source": [
    "type(data['user_id'][1])"
   ]
  },
  {
   "cell_type": "code",
   "execution_count": 8,
   "metadata": {
    "collapsed": true
   },
   "outputs": [],
   "source": [
    "from pyspark.sql import SparkSession\n",
    "from pyspark.sql import Row"
   ]
  },
  {
   "cell_type": "code",
   "execution_count": 9,
   "metadata": {
    "collapsed": true
   },
   "outputs": [],
   "source": [
    "spark = SparkSession.builder.appName('SparkRecomm').getOrCreate()"
   ]
  },
  {
   "cell_type": "code",
   "execution_count": 10,
   "metadata": {},
   "outputs": [
    {
     "data": {
      "text/html": [
       "<div>\n",
       "<table border=\"1\" class=\"dataframe\">\n",
       "  <thead>\n",
       "    <tr style=\"text-align: right;\">\n",
       "      <th></th>\n",
       "      <th>user_id</th>\n",
       "      <th>business_id</th>\n",
       "      <th>review_id</th>\n",
       "      <th>stars</th>\n",
       "      <th>usefulvotes_review</th>\n",
       "      <th>user_name</th>\n",
       "      <th>biz_name</th>\n",
       "      <th>latitude</th>\n",
       "      <th>longitude</th>\n",
       "      <th>business_avg</th>\n",
       "      <th>business_review_count</th>\n",
       "      <th>user_avg</th>\n",
       "      <th>user_review_count</th>\n",
       "    </tr>\n",
       "  </thead>\n",
       "  <tbody>\n",
       "    <tr>\n",
       "      <th>0</th>\n",
       "      <td>rLtl8ZkDX5vH5nAx9C3q5Q</td>\n",
       "      <td>9yKzy9PApeiPPOUJEtnvkg</td>\n",
       "      <td>fWKvX83p0-ka4JS3dc6E5A</td>\n",
       "      <td>5</td>\n",
       "      <td>5</td>\n",
       "      <td>Jason</td>\n",
       "      <td>Morning Glory Cafe</td>\n",
       "      <td>33.390792</td>\n",
       "      <td>-112.012504</td>\n",
       "      <td>3.87156</td>\n",
       "      <td>109</td>\n",
       "      <td>3.796954</td>\n",
       "      <td>197</td>\n",
       "    </tr>\n",
       "    <tr>\n",
       "      <th>1</th>\n",
       "      <td>SBbftLzfYYKItOMFwOTIJg</td>\n",
       "      <td>9yKzy9PApeiPPOUJEtnvkg</td>\n",
       "      <td>DASdFe-g0BgfN9J2tanStg</td>\n",
       "      <td>5</td>\n",
       "      <td>1</td>\n",
       "      <td>Jennifer</td>\n",
       "      <td>Morning Glory Cafe</td>\n",
       "      <td>33.390792</td>\n",
       "      <td>-112.012504</td>\n",
       "      <td>3.87156</td>\n",
       "      <td>109</td>\n",
       "      <td>3.473684</td>\n",
       "      <td>57</td>\n",
       "    </tr>\n",
       "  </tbody>\n",
       "</table>\n",
       "</div>"
      ],
      "text/plain": [
       "                  user_id             business_id               review_id  \\\n",
       "0  rLtl8ZkDX5vH5nAx9C3q5Q  9yKzy9PApeiPPOUJEtnvkg  fWKvX83p0-ka4JS3dc6E5A   \n",
       "1  SBbftLzfYYKItOMFwOTIJg  9yKzy9PApeiPPOUJEtnvkg  DASdFe-g0BgfN9J2tanStg   \n",
       "\n",
       "   stars  usefulvotes_review user_name            biz_name   latitude  \\\n",
       "0      5                   5     Jason  Morning Glory Cafe  33.390792   \n",
       "1      5                   1  Jennifer  Morning Glory Cafe  33.390792   \n",
       "\n",
       "    longitude  business_avg  business_review_count  user_avg  \\\n",
       "0 -112.012504       3.87156                    109  3.796954   \n",
       "1 -112.012504       3.87156                    109  3.473684   \n",
       "\n",
       "   user_review_count  \n",
       "0                197  \n",
       "1                 57  "
      ]
     },
     "execution_count": 10,
     "metadata": {},
     "output_type": "execute_result"
    }
   ],
   "source": [
    "restaurant_rating_spark = dataOG[['user_id', 'business_id', 'review_id', 'stars',\n",
    "       'usefulvotes_review', 'user_name', 'biz_name', 'latitude',\n",
    "       'longitude', 'business_avg', 'business_review_count', 'user_avg',\n",
    "       'user_review_count']]\n",
    "\n",
    "restaurant_rating_spark.head(2)"
   ]
  },
  {
   "cell_type": "code",
   "execution_count": 11,
   "metadata": {},
   "outputs": [
    {
     "data": {
      "text/html": [
       "<div>\n",
       "<table border=\"1\" class=\"dataframe\">\n",
       "  <thead>\n",
       "    <tr style=\"text-align: right;\">\n",
       "      <th></th>\n",
       "      <th>user_id</th>\n",
       "      <th>business_id</th>\n",
       "      <th>review_id</th>\n",
       "      <th>stars</th>\n",
       "      <th>usefulvotes_review</th>\n",
       "      <th>user_name</th>\n",
       "      <th>biz_name</th>\n",
       "      <th>latitude</th>\n",
       "      <th>longitude</th>\n",
       "      <th>business_avg</th>\n",
       "      <th>business_review_count</th>\n",
       "      <th>user_avg</th>\n",
       "      <th>user_review_count</th>\n",
       "    </tr>\n",
       "  </thead>\n",
       "  <tbody>\n",
       "    <tr>\n",
       "      <th>0</th>\n",
       "      <td>rLtl8ZkDX5vH5nAx9C3q5Q</td>\n",
       "      <td>9yKzy9PApeiPPOUJEtnvkg</td>\n",
       "      <td>fWKvX83p0-ka4JS3dc6E5A</td>\n",
       "      <td>5</td>\n",
       "      <td>5</td>\n",
       "      <td>Jason</td>\n",
       "      <td>Morning Glory Cafe</td>\n",
       "      <td>33.390792</td>\n",
       "      <td>-112.012504</td>\n",
       "      <td>3.87156</td>\n",
       "      <td>109</td>\n",
       "      <td>3.796954</td>\n",
       "      <td>197</td>\n",
       "    </tr>\n",
       "    <tr>\n",
       "      <th>1</th>\n",
       "      <td>SBbftLzfYYKItOMFwOTIJg</td>\n",
       "      <td>9yKzy9PApeiPPOUJEtnvkg</td>\n",
       "      <td>DASdFe-g0BgfN9J2tanStg</td>\n",
       "      <td>5</td>\n",
       "      <td>1</td>\n",
       "      <td>Jennifer</td>\n",
       "      <td>Morning Glory Cafe</td>\n",
       "      <td>33.390792</td>\n",
       "      <td>-112.012504</td>\n",
       "      <td>3.87156</td>\n",
       "      <td>109</td>\n",
       "      <td>3.473684</td>\n",
       "      <td>57</td>\n",
       "    </tr>\n",
       "  </tbody>\n",
       "</table>\n",
       "</div>"
      ],
      "text/plain": [
       "                  user_id             business_id               review_id  \\\n",
       "0  rLtl8ZkDX5vH5nAx9C3q5Q  9yKzy9PApeiPPOUJEtnvkg  fWKvX83p0-ka4JS3dc6E5A   \n",
       "1  SBbftLzfYYKItOMFwOTIJg  9yKzy9PApeiPPOUJEtnvkg  DASdFe-g0BgfN9J2tanStg   \n",
       "\n",
       "   stars  usefulvotes_review user_name            biz_name   latitude  \\\n",
       "0      5                   5     Jason  Morning Glory Cafe  33.390792   \n",
       "1      5                   1  Jennifer  Morning Glory Cafe  33.390792   \n",
       "\n",
       "    longitude  business_avg  business_review_count  user_avg  \\\n",
       "0 -112.012504       3.87156                    109  3.796954   \n",
       "1 -112.012504       3.87156                    109  3.473684   \n",
       "\n",
       "   user_review_count  \n",
       "0                197  \n",
       "1                 57  "
      ]
     },
     "execution_count": 11,
     "metadata": {},
     "output_type": "execute_result"
    }
   ],
   "source": [
    "restaurant_rating_spark.head(2)"
   ]
  },
  {
   "cell_type": "code",
   "execution_count": 82,
   "metadata": {},
   "outputs": [],
   "source": [
    "bizID_dict = {}\n",
    "numBiz = len(restaurant_rating_spark['business_id'].unique())\n",
    "#restaurant_rating_spark['business_id_int'] = np.zeros((restaurant_rating_spark.shape[0], 1)).astype(np.int)\n",
    "bizID_BOW = []\n",
    "bizEncoder = 0\n",
    "for n in np.arange(restaurant_rating_spark.shape[0]):\n",
    "    bizID = restaurant_rating_spark.loc[n, 'business_id']\n",
    "    if bizID not in bizID_BOW:\n",
    "        bizID_BOW.append(bizID)\n",
    "        bizID_dict[bizID] = bizEncoder\n",
    "        #restaurant_rating_spark.loc[n, 'business_id_int'] = bizEncoder\n",
    "        bizEncoder += 1\n",
    "    #else:\n",
    "    #    restaurant_rating_spark.loc[n, 'business_id_int'] = bizID_dict[bizID]"
   ]
  },
  {
   "cell_type": "code",
   "execution_count": 77,
   "metadata": {},
   "outputs": [],
   "source": [
    "restaurant_rating_spark['business_id_int'] = restaurant_rating_spark['business_id'].map(bizID_dict)\n",
    "#restaurant_rating_spark['business_id_int'] = np.zeros((restaurant_rating_spark.shape[0], 1)).astype(np.int)"
   ]
  },
  {
   "cell_type": "code",
   "execution_count": 84,
   "metadata": {},
   "outputs": [
    {
     "data": {
      "text/html": [
       "<div>\n",
       "<table border=\"1\" class=\"dataframe\">\n",
       "  <thead>\n",
       "    <tr style=\"text-align: right;\">\n",
       "      <th></th>\n",
       "      <th>user_id</th>\n",
       "      <th>business_id</th>\n",
       "      <th>review_id</th>\n",
       "      <th>stars</th>\n",
       "      <th>usefulvotes_review</th>\n",
       "      <th>user_name</th>\n",
       "      <th>biz_name</th>\n",
       "      <th>latitude</th>\n",
       "      <th>longitude</th>\n",
       "      <th>business_avg</th>\n",
       "      <th>business_review_count</th>\n",
       "      <th>user_avg</th>\n",
       "      <th>user_review_count</th>\n",
       "      <th>business_id_int</th>\n",
       "      <th>user_id_int</th>\n",
       "    </tr>\n",
       "  </thead>\n",
       "  <tbody>\n",
       "    <tr>\n",
       "      <th>0</th>\n",
       "      <td>rLtl8ZkDX5vH5nAx9C3q5Q</td>\n",
       "      <td>9yKzy9PApeiPPOUJEtnvkg</td>\n",
       "      <td>fWKvX83p0-ka4JS3dc6E5A</td>\n",
       "      <td>5</td>\n",
       "      <td>5</td>\n",
       "      <td>Jason</td>\n",
       "      <td>Morning Glory Cafe</td>\n",
       "      <td>33.390792</td>\n",
       "      <td>-112.012504</td>\n",
       "      <td>3.87156</td>\n",
       "      <td>109</td>\n",
       "      <td>3.796954</td>\n",
       "      <td>197</td>\n",
       "      <td>0</td>\n",
       "      <td>0</td>\n",
       "    </tr>\n",
       "    <tr>\n",
       "      <th>1</th>\n",
       "      <td>SBbftLzfYYKItOMFwOTIJg</td>\n",
       "      <td>9yKzy9PApeiPPOUJEtnvkg</td>\n",
       "      <td>DASdFe-g0BgfN9J2tanStg</td>\n",
       "      <td>5</td>\n",
       "      <td>1</td>\n",
       "      <td>Jennifer</td>\n",
       "      <td>Morning Glory Cafe</td>\n",
       "      <td>33.390792</td>\n",
       "      <td>-112.012504</td>\n",
       "      <td>3.87156</td>\n",
       "      <td>109</td>\n",
       "      <td>3.473684</td>\n",
       "      <td>57</td>\n",
       "      <td>0</td>\n",
       "      <td>1</td>\n",
       "    </tr>\n",
       "  </tbody>\n",
       "</table>\n",
       "</div>"
      ],
      "text/plain": [
       "                  user_id             business_id               review_id  \\\n",
       "0  rLtl8ZkDX5vH5nAx9C3q5Q  9yKzy9PApeiPPOUJEtnvkg  fWKvX83p0-ka4JS3dc6E5A   \n",
       "1  SBbftLzfYYKItOMFwOTIJg  9yKzy9PApeiPPOUJEtnvkg  DASdFe-g0BgfN9J2tanStg   \n",
       "\n",
       "   stars  usefulvotes_review user_name            biz_name   latitude  \\\n",
       "0      5                   5     Jason  Morning Glory Cafe  33.390792   \n",
       "1      5                   1  Jennifer  Morning Glory Cafe  33.390792   \n",
       "\n",
       "    longitude  business_avg  business_review_count  user_avg  \\\n",
       "0 -112.012504       3.87156                    109  3.796954   \n",
       "1 -112.012504       3.87156                    109  3.473684   \n",
       "\n",
       "   user_review_count  business_id_int  user_id_int  \n",
       "0                197                0            0  \n",
       "1                 57                0            1  "
      ]
     },
     "execution_count": 84,
     "metadata": {},
     "output_type": "execute_result"
    }
   ],
   "source": [
    "restaurant_rating_spark.head(2)"
   ]
  },
  {
   "cell_type": "code",
   "execution_count": 15,
   "metadata": {},
   "outputs": [],
   "source": [
    "usrID_dict = {}\n",
    "numUsr = len(restaurant_rating_spark['user_id'].unique())\n",
    "\n",
    "usrID_BOW = []\n",
    "usrEncoder = 0\n",
    "for n in np.arange(restaurant_rating_spark.shape[0]):\n",
    "    usrID = restaurant_rating_spark.loc[n, 'user_id']\n",
    "    if usrID not in usrID_BOW:\n",
    "        usrID_BOW.append(usrID)\n",
    "        usrID_dict[usrID] = usrEncoder\n",
    "        usrEncoder += 1"
   ]
  },
  {
   "cell_type": "code",
   "execution_count": 16,
   "metadata": {
    "collapsed": true
   },
   "outputs": [],
   "source": [
    "restaurant_rating_spark['user_id_int'] = restaurant_rating_spark['user_id'].map(usrID_dict)"
   ]
  },
  {
   "cell_type": "code",
   "execution_count": 17,
   "metadata": {},
   "outputs": [
    {
     "data": {
      "text/plain": [
       "34789"
      ]
     },
     "execution_count": 17,
     "metadata": {},
     "output_type": "execute_result"
    }
   ],
   "source": [
    "len(restaurant_rating_spark['user_id_int'].unique())"
   ]
  },
  {
   "cell_type": "code",
   "execution_count": 18,
   "metadata": {},
   "outputs": [
    {
     "data": {
      "text/plain": [
       "4503"
      ]
     },
     "execution_count": 18,
     "metadata": {},
     "output_type": "execute_result"
    }
   ],
   "source": [
    "len(restaurant_rating_spark['business_id_int'].unique())"
   ]
  },
  {
   "cell_type": "code",
   "execution_count": 83,
   "metadata": {
    "collapsed": true
   },
   "outputs": [],
   "source": [
    "restaurant_rating_spark.to_csv('restaurant_rating_spark.csv')"
   ]
  },
  {
   "cell_type": "code",
   "execution_count": 20,
   "metadata": {},
   "outputs": [
    {
     "name": "stdout",
     "output_type": "stream",
     "text": [
      "['0', 'rLtl8ZkDX5vH5nAx9C3q5Q', '9yKzy9PApeiPPOUJEtnvkg', 'fWKvX83p0-ka4JS3dc6E5A', '5', '5', 'Jason', 'Morning Glory Cafe', '33.390792', '-112.012504', '3.8715596330275233', '109', '3.796954314720812', '197', '0', '0\\n']\n",
      "16\n",
      "['1', 'SBbftLzfYYKItOMFwOTIJg', '9yKzy9PApeiPPOUJEtnvkg', 'DASdFe-g0BgfN9J2tanStg', '5', '1', 'Jennifer', 'Morning Glory Cafe', '33.390792', '-112.012504', '3.8715596330275233', '109', '3.4736842105263164', '57', '0', '1\\n']\n",
      "16\n"
     ]
    }
   ],
   "source": [
    "with open('restaurant_rating_spark.csv') as f:\n",
    "    next(f)\n",
    "    for i, lines in enumerate(f):\n",
    "        if i < 2:\n",
    "            line = lines.split(',')\n",
    "            print(line)\n",
    "            print(len(line))\n",
    "        else:\n",
    "            break"
   ]
  },
  {
   "cell_type": "code",
   "execution_count": 85,
   "metadata": {},
   "outputs": [],
   "source": [
    "def mapper(lines):\n",
    "    lines = lines.replace(\"'\",\"\").replace(\"\\n\",\"\")\n",
    "    line = lines.split(',')\n",
    "    element = Row(\n",
    "            caseID = int(line[0]),\n",
    "            userID = str(line[1]),\n",
    "            bizID = str(line[2]), \n",
    "            reviewID = str(line[3]),\n",
    "            stars = int(line[4]),\n",
    "            userfulvotes_review = int(line[5]), \n",
    "            userName = str(line[6]), \n",
    "            bizName = str(line[7]), \n",
    "            #latitude = float(line[8]), \n",
    "            #longitude = float(line[9]), \n",
    "            biz_avg = float(line[10]), \n",
    "            bizReviewCnt = float(line[11]), \n",
    "            user_avg = float(line[12]),\n",
    "            userReviewCnt = float(line[13]),\n",
    "            bizID_int = int(line[14]),\n",
    "            userID_int = int(line[15].split('\\n')[0]))\n",
    "    return element"
   ]
  },
  {
   "cell_type": "code",
   "execution_count": 86,
   "metadata": {},
   "outputs": [],
   "source": [
    "lines = spark.sparkContext.textFile('restaurant_rating_spark.csv')"
   ]
  },
  {
   "cell_type": "code",
   "execution_count": 87,
   "metadata": {},
   "outputs": [
    {
     "data": {
      "text/plain": [
       "['0,rLtl8ZkDX5vH5nAx9C3q5Q,9yKzy9PApeiPPOUJEtnvkg,fWKvX83p0-ka4JS3dc6E5A,5,5,Jason,Morning Glory Cafe,33.390792,-112.012504,3.8715596330275233,109,3.796954314720812,197,0,0',\n",
       " '1,SBbftLzfYYKItOMFwOTIJg,9yKzy9PApeiPPOUJEtnvkg,DASdFe-g0BgfN9J2tanStg,5,1,Jennifer,Morning Glory Cafe,33.390792,-112.012504,3.8715596330275233,109,3.4736842105263164,57,0,1']"
      ]
     },
     "execution_count": 87,
     "metadata": {},
     "output_type": "execute_result"
    }
   ],
   "source": [
    "lines = lines.filter(lambda l: not '_id' in l)\n",
    "lines.take(2)"
   ]
  },
  {
   "cell_type": "code",
   "execution_count": 88,
   "metadata": {},
   "outputs": [
    {
     "data": {
      "text/plain": [
       "[Row(bizID='9yKzy9PApeiPPOUJEtnvkg', bizID_int=0, bizName='Morning Glory Cafe', bizReviewCnt=109.0, biz_avg=3.8715596330275233, caseID=0, reviewID='fWKvX83p0-ka4JS3dc6E5A', stars=5, userID='rLtl8ZkDX5vH5nAx9C3q5Q', userID_int=0, userName='Jason', userReviewCnt=197.0, user_avg=3.796954314720812, userfulvotes_review=5)]"
      ]
     },
     "execution_count": 88,
     "metadata": {},
     "output_type": "execute_result"
    }
   ],
   "source": [
    "dataSpark = lines.map(mapper)\n",
    "dataSpark.take(1)"
   ]
  },
  {
   "cell_type": "code",
   "execution_count": 89,
   "metadata": {},
   "outputs": [],
   "source": [
    "test = dataSpark.take(1)"
   ]
  },
  {
   "cell_type": "code",
   "execution_count": 90,
   "metadata": {},
   "outputs": [
    {
     "data": {
      "text/plain": [
       "Row(bizID='9yKzy9PApeiPPOUJEtnvkg', bizID_int=0, bizName='Morning Glory Cafe', bizReviewCnt=109.0, biz_avg=3.8715596330275233, caseID=0, reviewID='fWKvX83p0-ka4JS3dc6E5A', stars=5, userID='rLtl8ZkDX5vH5nAx9C3q5Q', userID_int=0, userName='Jason', userReviewCnt=197.0, user_avg=3.796954314720812, userfulvotes_review=5)"
      ]
     },
     "execution_count": 90,
     "metadata": {},
     "output_type": "execute_result"
    }
   ],
   "source": [
    "test[0]"
   ]
  },
  {
   "cell_type": "markdown",
   "metadata": {},
   "source": [
    "## create rating Spark dataframe - use ALS from ml not mllib"
   ]
  },
  {
   "cell_type": "code",
   "execution_count": 91,
   "metadata": {
    "collapsed": true
   },
   "outputs": [],
   "source": [
    "rating_spark_DF = spark.createDataFrame(dataSpark)"
   ]
  },
  {
   "cell_type": "code",
   "execution_count": 92,
   "metadata": {
    "collapsed": true
   },
   "outputs": [],
   "source": [
    "(training, valid, test) = rating_spark_DF.randomSplit([0.6, 0.2, 0.2])"
   ]
  },
  {
   "cell_type": "code",
   "execution_count": 93,
   "metadata": {
    "collapsed": true
   },
   "outputs": [],
   "source": [
    "from pyspark.ml.recommendation import ALS\n",
    "from pyspark.ml.evaluation import RegressionEvaluator\n",
    "import itertools"
   ]
  },
  {
   "cell_type": "code",
   "execution_count": 97,
   "metadata": {},
   "outputs": [],
   "source": [
    "als = ALS(maxIter = 15, regParam = 0.01, userCol = 'userID_int', itemCol = 'bizID_int', ratingCol = 'stars')"
   ]
  },
  {
   "cell_type": "code",
   "execution_count": 98,
   "metadata": {},
   "outputs": [],
   "source": [
    "model = als.fit(training)"
   ]
  },
  {
   "cell_type": "code",
   "execution_count": 99,
   "metadata": {},
   "outputs": [
    {
     "data": {
      "text/plain": [
       "[Row(bizID='-3xbryp44xhpN4BohxXDdQ', bizID_int=12, bizName='The Keg Steakhouse & Bar', bizReviewCnt=61.0, biz_avg=3.6557377049180326, caseID=1484, reviewID='VY-BRys0309NJ6Pk8NcqFA', stars=4, userID='0ouMuScWJ3GuNtWEmmsziw', userID_int=1315, userName='Kate', userReviewCnt=49.0, user_avg=4.224489795918367, userfulvotes_review=4)]"
      ]
     },
     "execution_count": 99,
     "metadata": {},
     "output_type": "execute_result"
    }
   ],
   "source": [
    "training.take(1)"
   ]
  },
  {
   "cell_type": "code",
   "execution_count": 107,
   "metadata": {
    "collapsed": true
   },
   "outputs": [],
   "source": [
    "evaluator = RegressionEvaluator(metricName='rmse', labelCol='stars', predictionCol='prediction')"
   ]
  },
  {
   "cell_type": "code",
   "execution_count": 111,
   "metadata": {},
   "outputs": [],
   "source": [
    "predictions_training = model.transform(training).cache()"
   ]
  },
  {
   "cell_type": "code",
   "execution_count": 112,
   "metadata": {},
   "outputs": [],
   "source": [
    "rmse_train = evaluator.evaluate(predictions_training)"
   ]
  },
  {
   "cell_type": "code",
   "execution_count": 113,
   "metadata": {},
   "outputs": [
    {
     "data": {
      "text/plain": [
       "0.23853486095903864"
      ]
     },
     "execution_count": 113,
     "metadata": {},
     "output_type": "execute_result"
    }
   ],
   "source": [
    "rmse_train"
   ]
  },
  {
   "cell_type": "code",
   "execution_count": 105,
   "metadata": {
    "collapsed": true
   },
   "outputs": [],
   "source": [
    "predictions_test = model.transform(test).cache()"
   ]
  },
  {
   "cell_type": "code",
   "execution_count": 102,
   "metadata": {
    "collapsed": true
   },
   "outputs": [],
   "source": [
    "rmse_test = evaluator.evaluate(predictions_test)"
   ]
  },
  {
   "cell_type": "code",
   "execution_count": 103,
   "metadata": {},
   "outputs": [
    {
     "data": {
      "text/plain": [
       "[Row(bizID='0udEgNqy5rLR5pZ4kD19Og', bizID_int=148, bizName='Thai Basil', bizReviewCnt=145.0, biz_avg=4.048275862068966, caseID=18268, reviewID='3HBDLBwbGFCmJnkM1tv8Mg', stars=4, userID='z2aIK__6KMpQBx1czvv8BA', userID_int=1395, userName='Alex', userReviewCnt=17.0, user_avg=3.941176470588236, userfulvotes_review=1, prediction=3.6396515369415283)]"
      ]
     },
     "execution_count": 103,
     "metadata": {},
     "output_type": "execute_result"
    }
   ],
   "source": [
    "predictions.take(1)\n",
    "#rmse"
   ]
  },
  {
   "cell_type": "code",
   "execution_count": 104,
   "metadata": {},
   "outputs": [
    {
     "data": {
      "text/plain": [
       "[Row(prediction=nan, count=5049)]"
      ]
     },
     "execution_count": 104,
     "metadata": {},
     "output_type": "execute_result"
    }
   ],
   "source": [
    "predictions.groupBy('prediction').count().orderBy('count', ascending=False).take(1)"
   ]
  },
  {
   "cell_type": "code",
   "execution_count": null,
   "metadata": {
    "collapsed": true
   },
   "outputs": [],
   "source": []
  },
  {
   "cell_type": "code",
   "execution_count": null,
   "metadata": {
    "collapsed": true
   },
   "outputs": [],
   "source": []
  },
  {
   "cell_type": "markdown",
   "metadata": {},
   "source": [
    "## create spark DataFrame"
   ]
  },
  {
   "cell_type": "code",
   "execution_count": 118,
   "metadata": {
    "collapsed": true
   },
   "outputs": [],
   "source": [
    "schemaRating = spark.createDataFrame(dataSpark).cache()\n",
    "schemaRating.createOrReplaceTempView('rating')"
   ]
  },
  {
   "cell_type": "code",
   "execution_count": 119,
   "metadata": {},
   "outputs": [],
   "source": [
    "partUserBiz = spark.sql('SELECT * FROM rating where bizReviewCnt > 150 and userReviewCnt > 60')"
   ]
  },
  {
   "cell_type": "code",
   "execution_count": 120,
   "metadata": {},
   "outputs": [
    {
     "data": {
      "text/plain": [
       "[Row(bizID='eIxSLxzIlfExI6vgAbn2JA', bizID_int=4, bizName='Lobbys Beef Burgers Dogs', bizReviewCnt=173.0, biz_avg=4.283236994219654, caseID=395, reviewID='z4G1g3VcdfigCUtVDFRL1w', stars=4, userID='rLtl8ZkDX5vH5nAx9C3q5Q', userID_int=0, userName='Jason', userReviewCnt=197.0, user_avg=3.796954314720812, userfulvotes_review=5),\n",
       " Row(bizID='eIxSLxzIlfExI6vgAbn2JA', bizID_int=4, bizName='Lobbys Beef Burgers Dogs', bizReviewCnt=173.0, biz_avg=4.283236994219654, caseID=397, reviewID='480M-xDpRaA1gCVCqIG4WA', stars=4, userID='C6IOtaaYdLIT5fWd7ZYIuA', userID_int=375, userName='Daren', userReviewCnt=209.0, user_avg=3.784688995215311, userfulvotes_review=14),\n",
       " Row(bizID='eIxSLxzIlfExI6vgAbn2JA', bizID_int=4, bizName='Lobbys Beef Burgers Dogs', bizReviewCnt=173.0, biz_avg=4.283236994219654, caseID=399, reviewID='q_T6FtScTul_yYIGyrgTxA', stars=3, userID='mlBC3pN9GXlUUfQi1qBBZA', userID_int=2, userName='Jennifer', userReviewCnt=84.0, user_avg=3.702380952380953, userfulvotes_review=0)]"
      ]
     },
     "execution_count": 120,
     "metadata": {},
     "output_type": "execute_result"
    }
   ],
   "source": [
    "partUserBiz.take(3)"
   ]
  },
  {
   "cell_type": "code",
   "execution_count": 121,
   "metadata": {
    "collapsed": true
   },
   "outputs": [],
   "source": [
    "#partUserBiz = partUserBiz.collect()"
   ]
  },
  {
   "cell_type": "markdown",
   "metadata": {},
   "source": [
    "## top restaurants with being rated certain times"
   ]
  },
  {
   "cell_type": "code",
   "execution_count": 122,
   "metadata": {},
   "outputs": [],
   "source": [
    "userbizRating_subset = spark.sql('SELECT caseID, userID_int, bizID_int, stars FROM rating')"
   ]
  },
  {
   "cell_type": "code",
   "execution_count": 123,
   "metadata": {},
   "outputs": [
    {
     "data": {
      "text/plain": [
       "[Row(caseID=0, userID_int=0, bizID_int=0, stars=5),\n",
       " Row(caseID=1, userID_int=1, bizID_int=0, stars=5),\n",
       " Row(caseID=2, userID_int=2, bizID_int=0, stars=2)]"
      ]
     },
     "execution_count": 123,
     "metadata": {},
     "output_type": "execute_result"
    }
   ],
   "source": [
    "userbizRating_subset.take(3)"
   ]
  },
  {
   "cell_type": "code",
   "execution_count": 124,
   "metadata": {},
   "outputs": [],
   "source": [
    "bizIDbizName_subset = spark.sql('SELECT DISTINCT bizID, bizName FROM rating')\n",
    "bizID_int_bizName_subset = spark.sql('SELECT DISTINCT bizID_int, bizName FROM rating')"
   ]
  },
  {
   "cell_type": "code",
   "execution_count": 125,
   "metadata": {},
   "outputs": [
    {
     "data": {
      "text/plain": [
       "[Row(bizID='HPixSiN2eEx9cI-z3tQJSQ', bizName='Cafe Roma'),\n",
       " Row(bizID='X5QTGpPfqXFtmtizsGAksw', bizName='Mucho Gusto Taqueria Mexican Bistro'),\n",
       " Row(bizID='yYbd9P1KmlPSKmQxo68n_g', bizName='Pork on a Fork')]"
      ]
     },
     "execution_count": 125,
     "metadata": {},
     "output_type": "execute_result"
    }
   ],
   "source": [
    "bizIDbizName_subset.take(3)"
   ]
  },
  {
   "cell_type": "code",
   "execution_count": 126,
   "metadata": {},
   "outputs": [
    {
     "data": {
      "text/plain": [
       "[Row(bizID_int=236, bizName='Barros Pizza'),\n",
       " Row(bizID_int=483, bizName='Sautee'),\n",
       " Row(bizID_int=500, bizName='Luna Pizza & Restaurant')]"
      ]
     },
     "execution_count": 126,
     "metadata": {},
     "output_type": "execute_result"
    }
   ],
   "source": [
    "bizID_int_bizName_subset.take(3)"
   ]
  },
  {
   "cell_type": "markdown",
   "metadata": {},
   "source": [
    "Top restaurants ranked by their average ratings"
   ]
  },
  {
   "cell_type": "code",
   "execution_count": 127,
   "metadata": {},
   "outputs": [],
   "source": [
    "import pyspark.sql.functions as func\n",
    "rankBiz = userbizRating_subset.groupBy(['bizID_int', 'stars']).agg(func.mean('stars'))\\\n",
    "          .orderBy('avg(stars)', ascending=False)"
   ]
  },
  {
   "cell_type": "code",
   "execution_count": 128,
   "metadata": {},
   "outputs": [
    {
     "data": {
      "text/plain": [
       "[Row(bizID_int=506, stars=5, avg(stars)=5.0)]"
      ]
     },
     "execution_count": 128,
     "metadata": {},
     "output_type": "execute_result"
    }
   ],
   "source": [
    "rankBiz.take(1)"
   ]
  },
  {
   "cell_type": "markdown",
   "metadata": {},
   "source": [
    "we can simply left join the ranked restaurants to table for maping restaurantID to restaurantName"
   ]
  },
  {
   "cell_type": "code",
   "execution_count": 129,
   "metadata": {},
   "outputs": [
    {
     "data": {
      "text/plain": [
       "[Row(bizID_int=251, stars=5, avg(stars)=5.0, bizName='Cafe Rio'),\n",
       " Row(bizID_int=668, stars=5, avg(stars)=5.0, bizName='Black Bear Diner'),\n",
       " Row(bizID_int=1176, stars=5, avg(stars)=5.0, bizName='Tarbells'),\n",
       " Row(bizID_int=1208, stars=5, avg(stars)=5.0, bizName='Yogis Grill'),\n",
       " Row(bizID_int=1340, stars=5, avg(stars)=5.0, bizName='Los Taquitos'),\n",
       " Row(bizID_int=1714, stars=5, avg(stars)=5.0, bizName='Francos Italian Caffé'),\n",
       " Row(bizID_int=1880, stars=5, avg(stars)=5.0, bizName='Rockfish Seafood Grill'),\n",
       " Row(bizID_int=2095, stars=5, avg(stars)=5.0, bizName='China China Restaurant'),\n",
       " Row(bizID_int=2442, stars=5, avg(stars)=5.0, bizName='Schlotzskys'),\n",
       " Row(bizID_int=2629, stars=5, avg(stars)=5.0, bizName='Taco Bell')]"
      ]
     },
     "execution_count": 129,
     "metadata": {},
     "output_type": "execute_result"
    }
   ],
   "source": [
    "rankBiz.join(bizID_int_bizName_subset, on = 'bizID_int', how = 'left_outer').take(10)"
   ]
  },
  {
   "cell_type": "markdown",
   "metadata": {},
   "source": [
    "## split subset into training, validation and test"
   ]
  },
  {
   "cell_type": "code",
   "execution_count": 130,
   "metadata": {},
   "outputs": [
    {
     "name": "stdout",
     "output_type": "stream",
     "text": [
      "split small dataset with 6165 cases to 3699 training, 1233 valdation and 1233 test\n"
     ]
    }
   ],
   "source": [
    "numCase = partUserBiz.count()\n",
    "numTrain = int(0.6 * numCase)\n",
    "numValid = int(0.2 * numCase)\n",
    "numTest  = int(0.2 * numCase)\n",
    "print('split small dataset with {0} cases to {1} training, {2} valdation and {3} test'\n",
    "      .format(numCase, numTrain, numValid, numTest))"
   ]
  },
  {
   "cell_type": "code",
   "execution_count": 131,
   "metadata": {
    "collapsed": true
   },
   "outputs": [],
   "source": [
    "numPartitions = 4"
   ]
  },
  {
   "cell_type": "code",
   "execution_count": 132,
   "metadata": {},
   "outputs": [
    {
     "name": "stdout",
     "output_type": "stream",
     "text": [
      "[Row(user=1, product=0, stars=5)]\n",
      "3699\n"
     ]
    }
   ],
   "source": [
    "train_set = spark.sql('SELECT userID_int as user, bizID_int as product, stars FROM rating WHERE caseID < 3699')\\\n",
    "            .repartition(numPartitions).cache()\n",
    "\n",
    "print(train_set.take(1))\n",
    "print(train_set.count())"
   ]
  },
  {
   "cell_type": "code",
   "execution_count": 133,
   "metadata": {},
   "outputs": [
    {
     "name": "stdout",
     "output_type": "stream",
     "text": [
      "[Row(user=2876, product=33, stars=5), Row(user=2737, product=33, stars=4), Row(user=2881, product=33, stars=3), Row(user=2885, product=33, stars=4)]\n",
      "1233\n"
     ]
    }
   ],
   "source": [
    "valid_set = spark.sql('SELECT userID_int as user, bizID_int as product, stars FROM rating WHERE 3699 <= caseID AND caseID < 4932')\\\n",
    "            .repartition(numPartitions).cache()\n",
    "print(valid_set.take(4))\n",
    "print(valid_set.count())"
   ]
  },
  {
   "cell_type": "code",
   "execution_count": 134,
   "metadata": {},
   "outputs": [
    {
     "name": "stdout",
     "output_type": "stream",
     "text": [
      "[Row(user=947, product=40, stars=3), Row(user=2411, product=40, stars=4), Row(user=2413, product=40, stars=4), Row(user=1271, product=40, stars=3)]\n",
      "1233\n"
     ]
    }
   ],
   "source": [
    "test_set = spark.sql('SELECT userID_int as user, bizID_int as product, stars FROM rating WHERE 4932 <= caseID AND caseID < 6165')\\\n",
    "            .repartition(numPartitions).cache()\n",
    "print(test_set.take(4))\n",
    "print(test_set.count())"
   ]
  },
  {
   "cell_type": "markdown",
   "metadata": {},
   "source": [
    "## train ALS model - Spark RDD"
   ]
  },
  {
   "cell_type": "code",
   "execution_count": 135,
   "metadata": {},
   "outputs": [],
   "source": [
    "from pyspark.mllib.recommendation import ALS\n",
    "import itertools"
   ]
  },
  {
   "cell_type": "markdown",
   "metadata": {},
   "source": [
    "Three hyper-parameters: \n",
    "\n",
    "1. rank -- how many latent features we are using to construct restaurant matrix and user matrix. Latent features can be interpreted as cleaningness, spicy, comfortability, etc, which are somehow being made up by developer.\n",
    "\n",
    "2. regularized rate -- to prevent model fitted from overfitting, it is necessary to introduce a regularized parameter.\n",
    "\n",
    "3. iterations -- feature values are recrusively updated by optimizing cost function (square error) through gradient descent, so it need to be specified for running optimization solver."
   ]
  },
  {
   "cell_type": "code",
   "execution_count": 136,
   "metadata": {
    "collapsed": true
   },
   "outputs": [],
   "source": [
    "ranks = [5, 10, 15]\n",
    "lambdas = [0.1, 0.3, 0.5]\n",
    "iterations = [3, 6, 9]"
   ]
  },
  {
   "cell_type": "code",
   "execution_count": 137,
   "metadata": {
    "collapsed": true
   },
   "outputs": [],
   "source": [
    "bestValidationRmse = np.float('inf')"
   ]
  },
  {
   "cell_type": "code",
   "execution_count": 138,
   "metadata": {},
   "outputs": [],
   "source": [
    "bestALS = None"
   ]
  },
  {
   "cell_type": "code",
   "execution_count": 139,
   "metadata": {
    "collapsed": true
   },
   "outputs": [],
   "source": [
    "bestRank = 0"
   ]
  },
  {
   "cell_type": "code",
   "execution_count": 140,
   "metadata": {
    "collapsed": true
   },
   "outputs": [],
   "source": [
    "bestLambda = -1.0"
   ]
  },
  {
   "cell_type": "code",
   "execution_count": 141,
   "metadata": {
    "collapsed": true
   },
   "outputs": [],
   "source": [
    "bestIterNum = -1"
   ]
  },
  {
   "cell_type": "markdown",
   "metadata": {},
   "source": [
    "use RMSE as metric of model fitted"
   ]
  },
  {
   "cell_type": "code",
   "execution_count": 142,
   "metadata": {
    "collapsed": true
   },
   "outputs": [],
   "source": [
    "from math import sqrt\n",
    "from operator import add"
   ]
  },
  {
   "cell_type": "code",
   "execution_count": 143,
   "metadata": {
    "collapsed": true
   },
   "outputs": [],
   "source": [
    "def rmseEval(model, data, validCnt):\n",
    "    predictions = model.predictAll(data.map(lambda x: (x[0], x[1])))\n",
    "    predictionsAndRatings = predictions.map(lambda x:((x[0], x[1], x[2])))\\\n",
    "                            .join((data.map(lambda x:((x[0], x[1], x[2]))))).values()\n",
    "    rmse = sqrt(predictionsAndRatings.map(lambda x: (x[0] - x[1]) ** 2).reduce(add) / float(validCnt))\n",
    "    return rmse"
   ]
  },
  {
   "cell_type": "code",
   "execution_count": 167,
   "metadata": {},
   "outputs": [],
   "source": [
    "model = ALS.train(ratings=train_set, rank=15, lambda_=0.01, iterations=15)"
   ]
  },
  {
   "cell_type": "code",
   "execution_count": 168,
   "metadata": {
    "collapsed": true
   },
   "outputs": [],
   "source": [
    "train_ID_Int_set = spark.sql('SELECT userID_int, bizID_int FROM rating WHERE 3699 > caseID')\\\n",
    "            .repartition(numPartitions).cache()\n",
    "predictions_training = model.predictAll(train_ID_Int_set.rdd)"
   ]
  },
  {
   "cell_type": "code",
   "execution_count": 169,
   "metadata": {},
   "outputs": [],
   "source": [
    "#valid_ID_Int_set = spark.sql('SELECT userID_int, bizID_int FROM rating WHERE 3699 <= caseID AND caseID < 4932')\\\n",
    "#            .repartition(numPartitions).cache()\n",
    "#predictions_training = model.predictAll(valid_ID_Int_set.rdd)"
   ]
  },
  {
   "cell_type": "markdown",
   "metadata": {},
   "source": [
    "### comparison between semi-self implement ALS and built-in ALS\n",
    "\n",
    "built in rmse is significant smaller than the semi-self implement, this is due to the the former uses random split to construct the training, validation and test dataset, while in the semi-self implementation the split is performed based the caseID that is recording ascending order and it is highly possible that a dozen of caseIDs are rating for one restaurant. Hence, the diversity of training set is relatively low and the shuffle could be the solution of this problem."
   ]
  },
  {
   "cell_type": "code",
   "execution_count": 170,
   "metadata": {},
   "outputs": [
    {
     "data": {
      "text/plain": [
       "13.842234699501184"
      ]
     },
     "execution_count": 170,
     "metadata": {},
     "output_type": "execute_result"
    }
   ],
   "source": [
    "rmseEval(model, train_set.rdd, numTrain)"
   ]
  },
  {
   "cell_type": "markdown",
   "metadata": {},
   "source": [
    "## NaN values in predictions of validation\n",
    "\n",
    "For those users are literatually non-existing in training-set, when they come out in validation prediction stage it is reasonable that the model will return NAN as the predicted rating since they are never seen from modelling stage. Similarity measure can be adopted in this scenario and recommend restaurants to those users having NAN predicted rating via their similar user.\n",
    "\n",
    "An userful discussion can be found in [here](https://issues.apache.org/jira/browse/SPARK-14489)."
   ]
  },
  {
   "cell_type": "code",
   "execution_count": null,
   "metadata": {
    "collapsed": true
   },
   "outputs": [],
   "source": []
  },
  {
   "cell_type": "code",
   "execution_count": 1,
   "metadata": {},
   "outputs": [
    {
     "data": {
      "text/plain": [
       "'\\nfor rank, lambdaVal, numIter in itertools.product(ranks, lambdas, iterations):\\n    # fit the ALS model\\n    model = ALS.train(ratings = train_set, rank = rank, lambda_ = lambdaVal, iterations = numIter)\\n    \\n    # measure the RMSE on validation set\\n    validationRmse = rmseEval(model, valid_set, numValid)\\n'"
      ]
     },
     "execution_count": 1,
     "metadata": {},
     "output_type": "execute_result"
    }
   ],
   "source": [
    "'''\n",
    "for rank, lambdaVal, numIter in itertools.product(ranks, lambdas, iterations):\n",
    "    # fit the ALS model\n",
    "    model = ALS.train(ratings = train_set, rank = rank, lambda_ = lambdaVal, iterations = numIter)\n",
    "    \n",
    "    # measure the RMSE on validation set\n",
    "    validationRmse = rmseEval(model, valid_set, numValid)\n",
    "'''    "
   ]
  },
  {
   "cell_type": "code",
   "execution_count": null,
   "metadata": {
    "collapsed": true
   },
   "outputs": [],
   "source": []
  },
  {
   "cell_type": "code",
   "execution_count": null,
   "metadata": {
    "collapsed": true
   },
   "outputs": [],
   "source": []
  },
  {
   "cell_type": "code",
   "execution_count": null,
   "metadata": {
    "collapsed": true
   },
   "outputs": [],
   "source": []
  },
  {
   "cell_type": "code",
   "execution_count": null,
   "metadata": {
    "collapsed": true
   },
   "outputs": [],
   "source": []
  },
  {
   "cell_type": "code",
   "execution_count": null,
   "metadata": {
    "collapsed": true
   },
   "outputs": [],
   "source": []
  },
  {
   "cell_type": "code",
   "execution_count": null,
   "metadata": {
    "collapsed": true
   },
   "outputs": [],
   "source": []
  },
  {
   "cell_type": "code",
   "execution_count": null,
   "metadata": {
    "collapsed": true
   },
   "outputs": [],
   "source": []
  },
  {
   "cell_type": "code",
   "execution_count": null,
   "metadata": {
    "collapsed": true
   },
   "outputs": [],
   "source": []
  },
  {
   "cell_type": "code",
   "execution_count": null,
   "metadata": {
    "collapsed": true
   },
   "outputs": [],
   "source": []
  },
  {
   "cell_type": "code",
   "execution_count": null,
   "metadata": {
    "collapsed": true
   },
   "outputs": [],
   "source": []
  },
  {
   "cell_type": "code",
   "execution_count": null,
   "metadata": {
    "collapsed": true
   },
   "outputs": [],
   "source": []
  },
  {
   "cell_type": "code",
   "execution_count": null,
   "metadata": {
    "collapsed": true
   },
   "outputs": [],
   "source": []
  },
  {
   "cell_type": "code",
   "execution_count": null,
   "metadata": {
    "collapsed": true
   },
   "outputs": [],
   "source": []
  },
  {
   "cell_type": "code",
   "execution_count": null,
   "metadata": {
    "collapsed": true
   },
   "outputs": [],
   "source": []
  },
  {
   "cell_type": "code",
   "execution_count": null,
   "metadata": {
    "collapsed": true
   },
   "outputs": [],
   "source": []
  },
  {
   "cell_type": "code",
   "execution_count": null,
   "metadata": {
    "collapsed": true
   },
   "outputs": [],
   "source": []
  }
 ],
 "metadata": {
  "anaconda-cloud": {},
  "kernelspec": {
   "display_name": "Python 3",
   "language": "python",
   "name": "python3"
  },
  "language_info": {
   "codemirror_mode": {
    "name": "ipython",
    "version": 3
   },
   "file_extension": ".py",
   "mimetype": "text/x-python",
   "name": "python",
   "nbconvert_exporter": "python",
   "pygments_lexer": "ipython3",
   "version": "3.5.2"
  }
 },
 "nbformat": 4,
 "nbformat_minor": 1
}
