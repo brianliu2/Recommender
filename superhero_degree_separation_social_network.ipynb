{
 "cells": [
  {
   "cell_type": "code",
   "execution_count": 1,
   "metadata": {
    "collapsed": true
   },
   "outputs": [],
   "source": [
    "import pandas as pd\n",
    "import numpy as np\n",
    "from pyspark import SparkConf, SparkContext"
   ]
  },
  {
   "cell_type": "code",
   "execution_count": 2,
   "metadata": {
    "collapsed": true
   },
   "outputs": [],
   "source": [
    "sparkConf = SparkConf().setMaster('local').setAppName('marvelHero')"
   ]
  },
  {
   "cell_type": "code",
   "execution_count": 3,
   "metadata": {
    "collapsed": true
   },
   "outputs": [],
   "source": [
    "sc = SparkContext(conf=sparkConf)"
   ]
  },
  {
   "cell_type": "code",
   "execution_count": 4,
   "metadata": {
    "collapsed": true
   },
   "outputs": [],
   "source": [
    "dataPath = ('../')"
   ]
  },
  {
   "cell_type": "code",
   "execution_count": 5,
   "metadata": {
    "collapsed": true
   },
   "outputs": [],
   "source": [
    "marvel_names = 'Marvel-Names.txt'\n",
    "marvel_graphs = 'Marvel-Graph.txt'"
   ]
  },
  {
   "cell_type": "code",
   "execution_count": 6,
   "metadata": {
    "collapsed": true
   },
   "outputs": [],
   "source": [
    "rdd_marvel_graph = sc.textFile('file://' + dataPath + marvel_graphs)\n",
    "rdd_marvel_name  = sc.textFile('file://' + dataPath + marvel_names)"
   ]
  },
  {
   "cell_type": "code",
   "execution_count": 7,
   "metadata": {
    "collapsed": false
   },
   "outputs": [
    {
     "name": "stdout",
     "output_type": "stream",
     "text": [
      "1 \"24-HOUR MAN/EMMANUEL\"\n",
      "\n",
      "2 \"3-D MAN/CHARLES CHAN\"\n",
      "\n"
     ]
    }
   ],
   "source": [
    "with open(dataPath + marvel_names) as f:\n",
    "    for i, lines in enumerate(f):\n",
    "        if i < 2 :\n",
    "            print(lines)\n",
    "        else:\n",
    "            break"
   ]
  },
  {
   "cell_type": "code",
   "execution_count": 8,
   "metadata": {
    "collapsed": true
   },
   "outputs": [],
   "source": [
    "def cooccurance(contents):\n",
    "    lines = contents.split(' ')\n",
    "    characterID = int(lines[0])\n",
    "    cooccuranceNum = len(lines) - 1\n",
    "    return (characterID, cooccuranceNum)"
   ]
  },
  {
   "cell_type": "code",
   "execution_count": 9,
   "metadata": {
    "collapsed": false
   },
   "outputs": [
    {
     "name": "stdout",
     "output_type": "stream",
     "text": [
      "(5988, 49)\n"
     ]
    }
   ],
   "source": [
    "with open(dataPath + marvel_graphs) as f:\n",
    "    for i, lines in enumerate(f):\n",
    "        if i < 1 :\n",
    "            print(cooccurance(lines))\n",
    "        else:\n",
    "            break"
   ]
  },
  {
   "cell_type": "code",
   "execution_count": 10,
   "metadata": {
    "collapsed": true
   },
   "outputs": [],
   "source": [
    "def characterName(contents):\n",
    "    lines = contents.strip().split('\\\"')\n",
    "    characterID = int(lines[0])\n",
    "    name = lines[1]\n",
    "    return (characterID, name)"
   ]
  },
  {
   "cell_type": "code",
   "execution_count": 11,
   "metadata": {
    "collapsed": false
   },
   "outputs": [
    {
     "name": "stdout",
     "output_type": "stream",
     "text": [
      "1 \"24-HOUR MAN/EMMANUEL\"\n",
      "\n",
      "(1, '24-HOUR MAN/EMMANUEL')\n"
     ]
    }
   ],
   "source": [
    "with open(dataPath + marvel_names) as f:\n",
    "    for i, lines in enumerate(f):\n",
    "        if i < 1 :\n",
    "            print(lines)\n",
    "            print(characterName(lines))\n",
    "        else:\n",
    "            break"
   ]
  },
  {
   "cell_type": "code",
   "execution_count": 12,
   "metadata": {
    "collapsed": false
   },
   "outputs": [
    {
     "data": {
      "text/plain": [
       "[(5988, 49), (5989, 41), (5982, 43)]"
      ]
     },
     "execution_count": 12,
     "metadata": {},
     "output_type": "execute_result"
    }
   ],
   "source": [
    "marvel_graph = rdd_marvel_graph.map(cooccurance)\n",
    "marvel_graph.take(3)"
   ]
  },
  {
   "cell_type": "code",
   "execution_count": 13,
   "metadata": {
    "collapsed": false
   },
   "outputs": [
    {
     "data": {
      "text/plain": [
       "[(1, '24-HOUR MAN/EMMANUEL'),\n",
       " (2, '3-D MAN/CHARLES CHAN'),\n",
       " (3, '4-D MAN/MERCURIO')]"
      ]
     },
     "execution_count": 13,
     "metadata": {},
     "output_type": "execute_result"
    }
   ],
   "source": [
    "marvel_name = rdd_marvel_name.map(characterName)\n",
    "marvel_name.take(3)"
   ]
  },
  {
   "cell_type": "code",
   "execution_count": 14,
   "metadata": {
    "collapsed": false
   },
   "outputs": [
    {
     "data": {
      "text/plain": [
       "[(1, 6), (2, 123), (3, 73)]"
      ]
     },
     "execution_count": 14,
     "metadata": {},
     "output_type": "execute_result"
    }
   ],
   "source": [
    "marvel_graph_pair = marvel_graph.reduceByKey(lambda x, y: x+y)\n",
    "marvel_graph_pair.take(3)"
   ]
  },
  {
   "cell_type": "code",
   "execution_count": 15,
   "metadata": {
    "collapsed": true
   },
   "outputs": [],
   "source": [
    "# flip the tuple and let order become:\n",
    "# cooccurance, id\n",
    "marvel_graph_pair_flip = marvel_graph_pair.map(lambda x: (x[1], x[0]))"
   ]
  },
  {
   "cell_type": "code",
   "execution_count": 16,
   "metadata": {
    "collapsed": false
   },
   "outputs": [
    {
     "data": {
      "text/plain": [
       "[(1937, 859)]"
      ]
     },
     "execution_count": 16,
     "metadata": {},
     "output_type": "execute_result"
    }
   ],
   "source": [
    "# sort the data and find the max one\n",
    "marvel_graph_pair_sort = marvel_graph_pair_flip.sortByKey(ascending=False)\n",
    "marvel_graph_pair_sort.take(1)\n",
    "\n",
    "# or use:\n",
    "# marvel_graph_pair_flip.max()"
   ]
  },
  {
   "cell_type": "markdown",
   "metadata": {},
   "source": [
    "# use broadcast variable"
   ]
  },
  {
   "cell_type": "code",
   "execution_count": 17,
   "metadata": {
    "collapsed": true
   },
   "outputs": [],
   "source": [
    "def broadcast_characterName(data):\n",
    "    characterDict = {}\n",
    "    with open(data) as f:\n",
    "        for lines in f:\n",
    "            line = lines.split('\\\"')\n",
    "            characterID = int(line[0])\n",
    "            characterName = line[1]\n",
    "            characterDict[characterID] = characterName\n",
    "    return characterDict"
   ]
  },
  {
   "cell_type": "code",
   "execution_count": 18,
   "metadata": {
    "collapsed": true
   },
   "outputs": [],
   "source": [
    "characterNameDict = sc.broadcast(broadcast_characterName(dataPath + marvel_names))"
   ]
  },
  {
   "cell_type": "code",
   "execution_count": 19,
   "metadata": {
    "collapsed": false
   },
   "outputs": [
    {
     "data": {
      "text/plain": [
       "[('CAPTAIN AMERICA', 1937)]"
      ]
     },
     "execution_count": 19,
     "metadata": {},
     "output_type": "execute_result"
    }
   ],
   "source": [
    "# marvel_graph_pair_sort_ToName: (cooccurance, id)\n",
    "marvel_graph_pair_sort_ToName = marvel_graph_pair_sort.map(lambda content: (characterNameDict.value[content[1]], \n",
    "                                                                           content[0]))\n",
    "marvel_graph_pair_sort_ToName.take(1)"
   ]
  },
  {
   "cell_type": "markdown",
   "metadata": {},
   "source": [
    "# use lookup function"
   ]
  },
  {
   "cell_type": "code",
   "execution_count": 20,
   "metadata": {
    "collapsed": false
   },
   "outputs": [
    {
     "name": "stdout",
     "output_type": "stream",
     "text": [
      "(1937, 859)\n"
     ]
    }
   ],
   "source": [
    "# rdd.max() means find the pair with the maxmium key values\n",
    "print(marvel_graph_pair_flip.max())\n",
    "marvel_cooccurance_most = marvel_graph_pair_flip.max()"
   ]
  },
  {
   "cell_type": "code",
   "execution_count": 21,
   "metadata": {
    "collapsed": false
   },
   "outputs": [
    {
     "data": {
      "text/plain": [
       "'CAPTAIN AMERICA'"
      ]
     },
     "execution_count": 21,
     "metadata": {},
     "output_type": "execute_result"
    }
   ],
   "source": [
    "mostPopularName = marvel_name.lookup(marvel_cooccurance_most[1])[0]\n",
    "mostPopularName"
   ]
  },
  {
   "cell_type": "markdown",
   "metadata": {},
   "source": [
    "# superhero degrees separation -- breadth first search"
   ]
  },
  {
   "cell_type": "code",
   "execution_count": 22,
   "metadata": {
    "collapsed": true
   },
   "outputs": [],
   "source": [
    "#startCharacterID = 5988\n",
    "startCharacterID = 5306\n",
    "interestCharacterID = 14\n",
    "hitCounter = sc.accumulator(0)"
   ]
  },
  {
   "cell_type": "code",
   "execution_count": 24,
   "metadata": {
    "collapsed": false
   },
   "outputs": [
    {
     "data": {
      "text/plain": [
       "['5988 748 1722 3752 4655 5743 1872 3413 5527 6368 6085 4319 4728 1636 2397 3364 4001 1614 1819 1585 732 2660 3952 2507 3891 2070 2239 2602 612 1352 5447 4548 1596 5488 1605 5517 11 479 2554 2043 17 865 4292 6312 473 534 1479 6375 4456 ']"
      ]
     },
     "execution_count": 24,
     "metadata": {},
     "output_type": "execute_result"
    }
   ],
   "source": [
    "rdd_marvel_graphs = sc.textFile('file://' + dataPath + marvel_graphs)\n",
    "rdd_marvel_graphs.take(1)"
   ]
  },
  {
   "cell_type": "markdown",
   "metadata": {},
   "source": [
    "function to convert the RDD to breadth first search:\n",
    "\n",
    "output tuple: (id, (connection, distance, processIndicator))\n",
    "\n",
    "Here processIndicator can be: yetProcess, processing and processed"
   ]
  },
  {
   "cell_type": "code",
   "execution_count": 25,
   "metadata": {
    "collapsed": true
   },
   "outputs": [],
   "source": [
    "def convertBFS(contents):\n",
    "    lines = contents.split()\n",
    "    currentCharacterID = int(lines[0])\n",
    "    \n",
    "    # rest nodes are treated as connections\n",
    "    connections = []\n",
    "    for element in lines[1:]:\n",
    "        connections.append(int(element))\n",
    "    \n",
    "    # distance is initially set to a 'infinitely' large value\n",
    "    distance = 10000\n",
    "    \n",
    "    # set the processIndicator to indicate whether the node is processed or not, white means yet to process/consider\n",
    "    processIndicator = 'yetProcess'\n",
    "    \n",
    "    # if the current character is what we interested in\n",
    "    if (currentCharacterID == startCharacterID):\n",
    "        # mean the current character is under considered to expand its network connection\n",
    "        processIndicator = 'processing'\n",
    "        # distance to itself is zero\n",
    "        distance = 0\n",
    "        \n",
    "    return (currentCharacterID, (connections, distance, processIndicator))"
   ]
  },
  {
   "cell_type": "code",
   "execution_count": 27,
   "metadata": {
    "collapsed": false
   },
   "outputs": [],
   "source": [
    "iterationRDD = rdd_marvel_graphs.map(convertBFS)"
   ]
  },
  {
   "cell_type": "code",
   "execution_count": 28,
   "metadata": {
    "collapsed": false
   },
   "outputs": [
    {
     "data": {
      "text/plain": [
       "[(5988,\n",
       "  ([748,\n",
       "    1722,\n",
       "    3752,\n",
       "    4655,\n",
       "    5743,\n",
       "    1872,\n",
       "    3413,\n",
       "    5527,\n",
       "    6368,\n",
       "    6085,\n",
       "    4319,\n",
       "    4728,\n",
       "    1636,\n",
       "    2397,\n",
       "    3364,\n",
       "    4001,\n",
       "    1614,\n",
       "    1819,\n",
       "    1585,\n",
       "    732,\n",
       "    2660,\n",
       "    3952,\n",
       "    2507,\n",
       "    3891,\n",
       "    2070,\n",
       "    2239,\n",
       "    2602,\n",
       "    612,\n",
       "    1352,\n",
       "    5447,\n",
       "    4548,\n",
       "    1596,\n",
       "    5488,\n",
       "    1605,\n",
       "    5517,\n",
       "    11,\n",
       "    479,\n",
       "    2554,\n",
       "    2043,\n",
       "    17,\n",
       "    865,\n",
       "    4292,\n",
       "    6312,\n",
       "    473,\n",
       "    534,\n",
       "    1479,\n",
       "    6375,\n",
       "    4456],\n",
       "   10000,\n",
       "   'yetProcess'))]"
      ]
     },
     "execution_count": 28,
     "metadata": {},
     "output_type": "execute_result"
    }
   ],
   "source": [
    "iterationRDD.take(1)"
   ]
  },
  {
   "cell_type": "markdown",
   "metadata": {},
   "source": [
    "create new vertices are needed to process or reduce distances in the reduce stage. If we encounter the node we'are looking for as a processing node, increment our accumulator to singal that we are done."
   ]
  },
  {
   "cell_type": "code",
   "execution_count": 29,
   "metadata": {
    "collapsed": true
   },
   "outputs": [],
   "source": [
    "def bfsMap(node):\n",
    "    # break down the tuple to the individual element we need\n",
    "    currentCharacterID = node[0]\n",
    "    \n",
    "    # elements: node[1]: (connection, distance, color)\n",
    "    elements = node[1]\n",
    "    \n",
    "    # further break down\n",
    "    connections = elements[0]\n",
    "    distance   = elements[1]\n",
    "    processIndicator = elements[2]\n",
    "    \n",
    "    # list to store results\n",
    "    currentNodeResults = []\n",
    "    \n",
    "    # if the current character is under processing\n",
    "    if (processIndicator == 'processing'):\n",
    "        # we loop through its connection\n",
    "        for connection in connections:\n",
    "            # we set the connection to be the next node for exploring\n",
    "            nextCharacterID = connection\n",
    "            nextDistance = distance + 1\n",
    "            nextProcessIndicator = 'processing'\n",
    "            \n",
    "            # if connections of current node contains the interest character,\n",
    "            # then we increase the hitCounter -- spark accumulator which is used to imply when we find\n",
    "            # the target/interest character during breadth first search traversal.\n",
    "            if (connection == interestCharacterID):\n",
    "                hitCounter.add(1)\n",
    "                \n",
    "            # we set the set of information to new node, as the connections might be different\n",
    "            # from node to node, so we set it to blank list\n",
    "            nextNode = (nextCharacterID, ([], nextDistance, nextProcessIndicator))\n",
    "            \n",
    "            # set the results to currentNodeResults, what we really want is the 'nextDistance' which will\n",
    "            # be iteratively increased until we found the target character\n",
    "            currentNodeResults.append(nextNode)\n",
    "        \n",
    "        # set the processIndicator of cuurent node to processed\n",
    "        processIndicator = 'processed'\n",
    "    \n",
    "    # Emit the input node such that we don't lost it\n",
    "    currentNodeResults.append( (currentCharacterID, (connections, distance, processIndicator)) )\n",
    "    \n",
    "    return currentNodeResults"
   ]
  },
  {
   "cell_type": "code",
   "execution_count": 30,
   "metadata": {
    "collapsed": false
   },
   "outputs": [
    {
     "data": {
      "text/plain": [
       "[(5988,\n",
       "  ([748,\n",
       "    1722,\n",
       "    3752,\n",
       "    4655,\n",
       "    5743,\n",
       "    1872,\n",
       "    3413,\n",
       "    5527,\n",
       "    6368,\n",
       "    6085,\n",
       "    4319,\n",
       "    4728,\n",
       "    1636,\n",
       "    2397,\n",
       "    3364,\n",
       "    4001,\n",
       "    1614,\n",
       "    1819,\n",
       "    1585,\n",
       "    732,\n",
       "    2660,\n",
       "    3952,\n",
       "    2507,\n",
       "    3891,\n",
       "    2070,\n",
       "    2239,\n",
       "    2602,\n",
       "    612,\n",
       "    1352,\n",
       "    5447,\n",
       "    4548,\n",
       "    1596,\n",
       "    5488,\n",
       "    1605,\n",
       "    5517,\n",
       "    11,\n",
       "    479,\n",
       "    2554,\n",
       "    2043,\n",
       "    17,\n",
       "    865,\n",
       "    4292,\n",
       "    6312,\n",
       "    473,\n",
       "    534,\n",
       "    1479,\n",
       "    6375,\n",
       "    4456],\n",
       "   10000,\n",
       "   'yetProcess'))]"
      ]
     },
     "execution_count": 30,
     "metadata": {},
     "output_type": "execute_result"
    }
   ],
   "source": [
    "mapped = iterationRDD.flatMap(bfsMap)\n",
    "mapped.take(1)"
   ]
  },
  {
   "cell_type": "code",
   "execution_count": 31,
   "metadata": {
    "collapsed": true
   },
   "outputs": [],
   "source": [
    "def bfsReduce(data1, data2):\n",
    "    # edges is the connection of key (i.e. a character ID)\n",
    "    edges1 = data1[0]\n",
    "    edges2 = data2[0]\n",
    "    \n",
    "    # \n",
    "    distance1 = data1[1]\n",
    "    distance2 = data2[1]\n",
    "    \n",
    "    # processIndicator\n",
    "    processIndicator1 = data1[2]\n",
    "    processIndicator2 = data2[2]\n",
    "    \n",
    "    \n",
    "    \n",
    "    distance = 10000\n",
    "    processIndicator = processIndicator1\n",
    "    edges = []\n",
    "    \n",
    "    # see if one is the original node with its connections.\n",
    "    # if yes, we store all its connections\n",
    "    # here: x = [1, 2, 3]; x.append([4, 5]) --> x: [1, 2, 3, [4, 5]]\n",
    "    #       x = [1, 2, 3]; x.extend([4, 5]) --> x: [1, 2, 3, 4, 5]\n",
    "    if (len(edges1) > 0):\n",
    "        edges.extend(edges1)\n",
    "    if (len(edges2) > 0):\n",
    "        edges.extend(edges2)\n",
    "        \n",
    "    # store the minimum distance\n",
    "    distance = min(distance1, distance2)\n",
    "    \n",
    "    # store the processIndicator information\n",
    "    '''\n",
    "    if ((processIndicator1 == 'yetProcess') and (processIndicator2 == 'processing' or processIndicator2 == 'processed')):\n",
    "        processIndicator = processIndicator2\n",
    "    if(processIndicator1 == 'processing' and processIndicator2 == 'processed'):\n",
    "        processIndicator = processIndicator2\n",
    "    if(processIndicator2 == 'yetProcess' and (processIndicator1 == 'processing' or processIndicator1 == 'processed')):\n",
    "        processIndicator = processIndicator1\n",
    "    if(processIndicator2 == 'processing' and processIndicator1 == 'processed'):\n",
    "        processIndicator = processIndicator1\n",
    "    '''    \n",
    "    \n",
    "    \n",
    "    impDict = {'processed':3, 'processing':2, 'yetProcess':1}\n",
    "    processIndicatorArr = np.array([processIndicator1, processIndicator2])\n",
    "    impIndicator = pd.Series(data = processIndicatorArr)\n",
    "    moreImpIndicator = max(impIndicator.map(impDict))\n",
    "    \n",
    "    for procIndic, impIndic in impDict.items():\n",
    "        if impIndic == moreImpIndicator:\n",
    "            processIndicator = procIndic\n",
    "    \n",
    "    return(edges, distance, processIndicator)"
   ]
  },
  {
   "cell_type": "code",
   "execution_count": 32,
   "metadata": {
    "collapsed": false
   },
   "outputs": [
    {
     "data": {
      "text/plain": [
       "'processed'"
      ]
     },
     "execution_count": 32,
     "metadata": {},
     "output_type": "execute_result"
    }
   ],
   "source": [
    "impDict = {'processed':3, 'processing':2, 'yetProcess':1}\n",
    "arr = np.array(['processed', 'processing'])\n",
    "impIndic = pd.Series(data = arr)\n",
    "moreImpIndic = max(impIndic.map(impDict))\n",
    "\n",
    "\n",
    "for ind, imp in impDict.items():\n",
    "    if imp == moreImpIndic:\n",
    "        indc = ind\n",
    "indc"
   ]
  },
  {
   "cell_type": "code",
   "execution_count": 33,
   "metadata": {
    "collapsed": false
   },
   "outputs": [
    {
     "data": {
      "text/plain": [
       "[(1, ([1999, 6471, 6463, 6464, 6459], 10000, 'yetProcess'))]"
      ]
     },
     "execution_count": 33,
     "metadata": {},
     "output_type": "execute_result"
    }
   ],
   "source": [
    "iterationRdd = mapped.reduceByKey(bfsReduce)\n",
    "iterationRdd.take(1)"
   ]
  },
  {
   "cell_type": "markdown",
   "metadata": {},
   "source": [
    "# main loop"
   ]
  },
  {
   "cell_type": "code",
   "execution_count": 34,
   "metadata": {
    "collapsed": false
   },
   "outputs": [
    {
     "name": "stdout",
     "output_type": "stream",
     "text": [
      "Running BFS iteration# 1\n",
      "Processing 6662 values.\n",
      "Running BFS iteration# 2\n",
      "Processing 43293 values.\n",
      "Hit the target character! From 1 different direction(s).\n"
     ]
    }
   ],
   "source": [
    "#Main program here:\n",
    "# The characters we wish to find the degree of separation between:\n",
    "startCharacterID = 4555 #SpiderMan\n",
    "targetCharacterID = 100  #ADAM 3,031 (who?)\n",
    "\n",
    "# Our accumulator, used to signal when we find the target character during\n",
    "# our BFS traversal.\n",
    "hitCounter = sc.accumulator(0)\n",
    "\n",
    "iterationRdd = rdd_marvel_graphs.map(convertBFS)\n",
    "\n",
    "for iteration in range(0, 10):\n",
    "    print(\"Running BFS iteration# \" + str(iteration+1))\n",
    "\n",
    "    # Create new vertices as needed to darken or reduce distances in the\n",
    "    # reduce stage. If we encounter the node we're looking for as a GRAY\n",
    "    # node, increment our accumulator to signal that we're done.\n",
    "    mapped = iterationRdd.flatMap(bfsMap)\n",
    "\n",
    "    # Note that mapped.count() action here forces the RDD to be evaluated, and\n",
    "    # that's the only reason our accumulator is actually updated.\n",
    "    print(\"Processing \" + str(mapped.count()) + \" values.\")\n",
    "\n",
    "    if (hitCounter.value > 0):\n",
    "        print(\"Hit the target character! From \" + str(hitCounter.value) \\\n",
    "            + \" different direction(s).\")\n",
    "        break\n",
    "\n",
    "    # Reducer combines data for each character ID, preserving the darkest\n",
    "    # color and shortest path.\n",
    "    iterationRdd = mapped.reduceByKey(bfsReduce)"
   ]
  },
  {
   "cell_type": "markdown",
   "metadata": {},
   "source": [
    "# create social network data"
   ]
  },
  {
   "cell_type": "code",
   "execution_count": 36,
   "metadata": {
    "collapsed": true
   },
   "outputs": [],
   "source": [
    "def getConnection(contents):\n",
    "    lines = contents.split()\n",
    "    currentID = int(lines[0])\n",
    "    connections = []\n",
    "    for connection in lines[1:]:\n",
    "        connections.append(int(connection))\n",
    "    return (currentID, connections)"
   ]
  },
  {
   "cell_type": "code",
   "execution_count": 38,
   "metadata": {
    "collapsed": false
   },
   "outputs": [],
   "source": [
    "marvel_connection = rdd_marvel_graphs.map(getConnection)"
   ]
  },
  {
   "cell_type": "code",
   "execution_count": 39,
   "metadata": {
    "collapsed": true
   },
   "outputs": [],
   "source": [
    "marvel_connection_reduce = marvel_connection.reduceByKey(lambda x,y: set(x).intersection(y))"
   ]
  },
  {
   "cell_type": "code",
   "execution_count": 40,
   "metadata": {
    "collapsed": false
   },
   "outputs": [
    {
     "data": {
      "text/plain": [
       "[(1, [1999, 6471, 6463, 6464, 6459])]"
      ]
     },
     "execution_count": 40,
     "metadata": {},
     "output_type": "execute_result"
    }
   ],
   "source": [
    "marvel_connection_reduce.take(1)"
   ]
  },
  {
   "cell_type": "code",
   "execution_count": 41,
   "metadata": {
    "collapsed": true
   },
   "outputs": [],
   "source": [
    "def unique_character_connection(contents):\n",
    "    marvel_id = contents[0]\n",
    "    connections = contents[1]\n",
    "    lst = []\n",
    "    for connection in connections:\n",
    "        lst.append((marvel_id, connection))\n",
    "    return lst"
   ]
  },
  {
   "cell_type": "code",
   "execution_count": 42,
   "metadata": {
    "collapsed": false
   },
   "outputs": [
    {
     "data": {
      "text/plain": [
       "[[(1, 1999), (1, 6471), (1, 6463), (1, 6464), (1, 6459)]]"
      ]
     },
     "execution_count": 42,
     "metadata": {},
     "output_type": "execute_result"
    }
   ],
   "source": [
    "marvel_pair_connections = marvel_connection_reduce.map(unique_character_connection)\n",
    "marvel_pair_connections.take(1)"
   ]
  },
  {
   "cell_type": "code",
   "execution_count": 43,
   "metadata": {
    "collapsed": true
   },
   "outputs": [],
   "source": [
    "completeResult = marvel_pair_connections.collect()"
   ]
  },
  {
   "cell_type": "code",
   "execution_count": 44,
   "metadata": {
    "collapsed": true
   },
   "outputs": [],
   "source": [
    "marvel_connection_df = pd.DataFrame(np.zeros((1,2)).astype(np.int), columns=['Source', 'Target'])"
   ]
  },
  {
   "cell_type": "code",
   "execution_count": 47,
   "metadata": {
    "collapsed": false
   },
   "outputs": [],
   "source": [
    "numMarvel = len(completeResult)\n",
    "for n in np.arange(numMarvel):\n",
    "    numMarvel_i_connection = len(completeResult[n])\n",
    "    for i in (np.arange(numMarvel_i_connection)):\n",
    "        if (n == 0) & (i == 0):\n",
    "            marvel_connection_arr = list(completeResult[0][0])\n",
    "        else:\n",
    "            marvel_connection_arr = np.vstack((marvel_connection_arr, completeResult[n][i]))"
   ]
  },
  {
   "cell_type": "code",
   "execution_count": 48,
   "metadata": {
    "collapsed": true
   },
   "outputs": [],
   "source": [
    "marvel_connection_df = pd.DataFrame(data = marvel_connection_arr, columns=['Source', 'Target'])"
   ]
  },
  {
   "cell_type": "code",
   "execution_count": 49,
   "metadata": {
    "collapsed": false
   },
   "outputs": [
    {
     "data": {
      "text/html": [
       "<div>\n",
       "<table border=\"1\" class=\"dataframe\">\n",
       "  <thead>\n",
       "    <tr style=\"text-align: right;\">\n",
       "      <th></th>\n",
       "      <th>Source</th>\n",
       "      <th>Target</th>\n",
       "    </tr>\n",
       "  </thead>\n",
       "  <tbody>\n",
       "    <tr>\n",
       "      <th>0</th>\n",
       "      <td>1</td>\n",
       "      <td>1999</td>\n",
       "    </tr>\n",
       "    <tr>\n",
       "      <th>1</th>\n",
       "      <td>1</td>\n",
       "      <td>6471</td>\n",
       "    </tr>\n",
       "    <tr>\n",
       "      <th>2</th>\n",
       "      <td>1</td>\n",
       "      <td>6463</td>\n",
       "    </tr>\n",
       "  </tbody>\n",
       "</table>\n",
       "</div>"
      ],
      "text/plain": [
       "   Source  Target\n",
       "0       1    1999\n",
       "1       1    6471\n",
       "2       1    6463"
      ]
     },
     "execution_count": 49,
     "metadata": {},
     "output_type": "execute_result"
    }
   ],
   "source": [
    "marvel_connection_df.head(3)"
   ]
  },
  {
   "cell_type": "code",
   "execution_count": 50,
   "metadata": {
    "collapsed": true
   },
   "outputs": [],
   "source": [
    "marvel_connection_df.to_csv('marvel_connection.csv', sep=',')"
   ]
  },
  {
   "cell_type": "code",
   "execution_count": 51,
   "metadata": {
    "collapsed": true
   },
   "outputs": [],
   "source": [
    "marvel_name = rdd_marvel_name.map(characterName)\n",
    "marvel_name_completeResult = marvel_name.collect()"
   ]
  },
  {
   "cell_type": "code",
   "execution_count": 52,
   "metadata": {
    "collapsed": true
   },
   "outputs": [],
   "source": [
    "marvel_name_df = pd.DataFrame(data = marvel_name_completeResult, columns=['id', 'label'])"
   ]
  },
  {
   "cell_type": "code",
   "execution_count": 53,
   "metadata": {
    "collapsed": false
   },
   "outputs": [
    {
     "data": {
      "text/html": [
       "<div>\n",
       "<table border=\"1\" class=\"dataframe\">\n",
       "  <thead>\n",
       "    <tr style=\"text-align: right;\">\n",
       "      <th></th>\n",
       "      <th>id</th>\n",
       "      <th>label</th>\n",
       "    </tr>\n",
       "  </thead>\n",
       "  <tbody>\n",
       "    <tr>\n",
       "      <th>0</th>\n",
       "      <td>1</td>\n",
       "      <td>24-HOUR MAN/EMMANUEL</td>\n",
       "    </tr>\n",
       "    <tr>\n",
       "      <th>1</th>\n",
       "      <td>2</td>\n",
       "      <td>3-D MAN/CHARLES CHAN</td>\n",
       "    </tr>\n",
       "    <tr>\n",
       "      <th>2</th>\n",
       "      <td>3</td>\n",
       "      <td>4-D MAN/MERCURIO</td>\n",
       "    </tr>\n",
       "  </tbody>\n",
       "</table>\n",
       "</div>"
      ],
      "text/plain": [
       "   id                 label\n",
       "0   1  24-HOUR MAN/EMMANUEL\n",
       "1   2  3-D MAN/CHARLES CHAN\n",
       "2   3      4-D MAN/MERCURIO"
      ]
     },
     "execution_count": 53,
     "metadata": {},
     "output_type": "execute_result"
    }
   ],
   "source": [
    "marvel_name_df.head(3)"
   ]
  },
  {
   "cell_type": "code",
   "execution_count": 54,
   "metadata": {
    "collapsed": true
   },
   "outputs": [],
   "source": [
    "marvel_name_df.to_csv('marvel_name.csv', sep=',')"
   ]
  },
  {
   "cell_type": "code",
   "execution_count": null,
   "metadata": {
    "collapsed": true
   },
   "outputs": [],
   "source": []
  }
 ],
 "metadata": {
  "anaconda-cloud": {},
  "kernelspec": {
   "display_name": "Python [Root]",
   "language": "python",
   "name": "Python [Root]"
  },
  "language_info": {
   "codemirror_mode": {
    "name": "ipython",
    "version": 3
   },
   "file_extension": ".py",
   "mimetype": "text/x-python",
   "name": "python",
   "nbconvert_exporter": "python",
   "pygments_lexer": "ipython3",
   "version": "3.5.2"
  }
 },
 "nbformat": 4,
 "nbformat_minor": 0
}
